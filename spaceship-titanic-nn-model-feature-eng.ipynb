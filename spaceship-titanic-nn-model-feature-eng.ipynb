{
 "cells": [
  {
   "cell_type": "markdown",
   "id": "3fdf90f7",
   "metadata": {
    "papermill": {
     "duration": 0.099314,
     "end_time": "2022-08-21T19:38:54.132581",
     "exception": false,
     "start_time": "2022-08-21T19:38:54.033267",
     "status": "completed"
    },
    "tags": []
   },
   "source": [
    "# Spaceship Titanic NN Model 🌠\n",
    "\n",
    "Hello Kaggle; \n",
    "My goal is to provide the best single **Neuronal Network Model** for the **Space Ship Titanic** competition...\n",
    "I follow this typical strategy in majority of my Notebook and works quite well for me so I want it to share it.\n",
    "\n",
    "## Strategy\n",
    "\n",
    "* Installing Libraries.\n",
    "* Importing Requiered Libraries\n",
    "* Setting Notebook Parameters\n",
    "* Loading the Datasets from CSV to Pandas Dataset\n",
    "* Exploring the Datasets\n",
    "* Creating Additional Features\n",
    "* Pre-Processing\n",
    "* Feature Selection\n",
    "* Advance Feature Creation (Clustering)\n",
    "* Selecting Features for Model Developmetn\n",
    "* Developing a DNN Model\n",
    "* Training a Model Utilizing a CV Loop\n",
    "* Generating Finala Predictions\n",
    "\n",
    "\n",
    "## File and Data Field Descriptions\n",
    "\n",
    "train.csv - Personal records for about two-thirds (~8700) of the passengers, to be used as training data.\n",
    "* **PassengerId** - A unique Id for each passenger. Each Id takes the form gggg_pp where gggg indicates a group the passenger is travelling with and pp is their number within the group. People in a group are often family members, but not always.\n",
    "* **HomePlanet** - The planet the passenger departed from, typically their planet of permanent residence.\n",
    "* **CryoSleep** - Indicates whether the passenger elected to be put into suspended animation for the duration of the voyage. Passengers in cryosleep are confined to their cabins.\n",
    "* **Cabin** - The cabin number where the passenger is staying. Takes the form deck/num/side, where side can be either P for Port or S for Starboard.\n",
    "* **Destination** - The planet the passenger will be debarking to.\n",
    "* **Age** - The age of the passenger.\n",
    "* **VIP** - Whether the passenger has paid for special VIP service during the voyage.\n",
    "* **RoomService**, FoodCourt, ShoppingMall, Spa, VRDeck - Amount the passenger has billed at each of the Spaceship Titanic's many luxury amenities.\n",
    "* **Name** - The first and last names of the passenger.\n",
    "* **Transported** - Whether the passenger was transported to another dimension. This is the target, the column you are trying to predict.\n",
    "\n",
    "test.csv - Personal records for the remaining one-third (~4300) of the passengers, to be used as test data. Your task is to predict the value of Transported for the passengers in this set.\n",
    "\n",
    "sample_submission.csv - A submission file in the correct format.\n",
    "* **PassengerId** - Id for each passenger in the test set.\n",
    "* **Transported** - The target. For each passenger, predict either True or False.\n",
    "\n",
    "\n",
    "## Baseline Model\n",
    "Hello, here is the location of a basaline model for the competition if you are interested in the modeling component...\n",
    "\n",
    "https://www.kaggle.com/code/cv13j0/spaceship-my-starter-model\n",
    "\n",
    "\n",
    "**Last Updates**\n",
    "\n",
    "Worked on the notebook structure and format."
   ]
  },
  {
   "cell_type": "markdown",
   "id": "7e91f1ea",
   "metadata": {
    "papermill": {
     "duration": 0.093984,
     "end_time": "2022-08-21T19:38:54.323105",
     "exception": false,
     "start_time": "2022-08-21T19:38:54.229121",
     "status": "completed"
    },
    "tags": []
   },
   "source": [
    "# 1.0 Installing Required Libraries"
   ]
  },
  {
   "cell_type": "code",
   "execution_count": 1,
   "id": "47807f43",
   "metadata": {
    "execution": {
     "iopub.execute_input": "2022-08-21T19:38:54.514933Z",
     "iopub.status.busy": "2022-08-21T19:38:54.514509Z",
     "iopub.status.idle": "2022-08-21T19:38:56.697632Z",
     "shell.execute_reply": "2022-08-21T19:38:56.696661Z"
    },
    "papermill": {
     "duration": 2.28155,
     "end_time": "2022-08-21T19:38:56.700219",
     "exception": false,
     "start_time": "2022-08-21T19:38:54.418669",
     "status": "completed"
    },
    "tags": []
   },
   "outputs": [],
   "source": [
    "%%capture\n",
    "!git clone https://github.com/analokmaus/kuma_utils.git"
   ]
  },
  {
   "cell_type": "code",
   "execution_count": 2,
   "id": "498a5e39",
   "metadata": {
    "execution": {
     "iopub.execute_input": "2022-08-21T19:38:56.891465Z",
     "iopub.status.busy": "2022-08-21T19:38:56.890750Z",
     "iopub.status.idle": "2022-08-21T19:39:00.136744Z",
     "shell.execute_reply": "2022-08-21T19:39:00.134776Z"
    },
    "papermill": {
     "duration": 3.343873,
     "end_time": "2022-08-21T19:39:00.138712",
     "exception": false,
     "start_time": "2022-08-21T19:38:56.794839",
     "status": "completed"
    },
    "tags": []
   },
   "outputs": [
    {
     "data": {
      "text/html": [
       "<style type='text/css'>\n",
       ".datatable table.frame { margin-bottom: 0; }\n",
       ".datatable table.frame thead { border-bottom: none; }\n",
       ".datatable table.frame tr.coltypes td {  color: #FFFFFF;  line-height: 6px;  padding: 0 0.5em;}\n",
       ".datatable .bool    { background: #DDDD99; }\n",
       ".datatable .object  { background: #565656; }\n",
       ".datatable .int     { background: #5D9E5D; }\n",
       ".datatable .float   { background: #4040CC; }\n",
       ".datatable .str     { background: #CC4040; }\n",
       ".datatable .time    { background: #40CC40; }\n",
       ".datatable .row_index {  background: var(--jp-border-color3);  border-right: 1px solid var(--jp-border-color0);  color: var(--jp-ui-font-color3);  font-size: 9px;}\n",
       ".datatable .frame tbody td { text-align: left; }\n",
       ".datatable .frame tr.coltypes .row_index {  background: var(--jp-border-color0);}\n",
       ".datatable th:nth-child(2) { padding-left: 12px; }\n",
       ".datatable .hellipsis {  color: var(--jp-cell-editor-border-color);}\n",
       ".datatable .vellipsis {  background: var(--jp-layout-color0);  color: var(--jp-cell-editor-border-color);}\n",
       ".datatable .na {  color: var(--jp-cell-editor-border-color);  font-size: 80%;}\n",
       ".datatable .sp {  opacity: 0.25;}\n",
       ".datatable .footer { font-size: 9px; }\n",
       ".datatable .frame_dimensions {  background: var(--jp-border-color3);  border-top: 1px solid var(--jp-border-color0);  color: var(--jp-ui-font-color3);  display: inline-block;  opacity: 0.6;  padding: 1px 10px 1px 5px;}\n",
       "</style>\n"
      ],
      "text/plain": [
       "<IPython.core.display.HTML object>"
      ]
     },
     "metadata": {},
     "output_type": "display_data"
    },
    {
     "name": "stdout",
     "output_type": "stream",
     "text": [
      "CPU times: user 1.42 s, sys: 376 ms, total: 1.8 s\n",
      "Wall time: 3.24 s\n"
     ]
    }
   ],
   "source": [
    "%%time\n",
    "import os\n",
    "import sys\n",
    "sys.path.append(\"kuma_utils/\")\n",
    "from kuma_utils.preprocessing.imputer import LGBMImputer"
   ]
  },
  {
   "cell_type": "code",
   "execution_count": 3,
   "id": "1a017d42",
   "metadata": {
    "execution": {
     "iopub.execute_input": "2022-08-21T19:39:00.333042Z",
     "iopub.status.busy": "2022-08-21T19:39:00.332785Z",
     "iopub.status.idle": "2022-08-21T19:39:10.996424Z",
     "shell.execute_reply": "2022-08-21T19:39:10.995378Z"
    },
    "papermill": {
     "duration": 10.763369,
     "end_time": "2022-08-21T19:39:10.998863",
     "exception": false,
     "start_time": "2022-08-21T19:39:00.235494",
     "status": "completed"
    },
    "tags": []
   },
   "outputs": [],
   "source": [
    "%%capture\n",
    "# Install Gokinjo...\n",
    "!pip install gokinjo"
   ]
  },
  {
   "cell_type": "markdown",
   "id": "21174eac",
   "metadata": {
    "papermill": {
     "duration": 0.095783,
     "end_time": "2022-08-21T19:39:11.190018",
     "exception": false,
     "start_time": "2022-08-21T19:39:11.094235",
     "status": "completed"
    },
    "tags": []
   },
   "source": [
    "---"
   ]
  },
  {
   "cell_type": "markdown",
   "id": "70025b47",
   "metadata": {
    "papermill": {
     "duration": 0.094145,
     "end_time": "2022-08-21T19:39:11.378511",
     "exception": false,
     "start_time": "2022-08-21T19:39:11.284366",
     "status": "completed"
    },
    "tags": []
   },
   "source": [
    "# 2.0 Importing Libraries for the Model"
   ]
  },
  {
   "cell_type": "code",
   "execution_count": 4,
   "id": "551801c5",
   "metadata": {
    "_cell_guid": "b1076dfc-b9ad-4769-8c92-a6c4dae69d19",
    "_uuid": "8f2839f25d086af736a60e9eeb907d3b93b6e0e5",
    "execution": {
     "iopub.execute_input": "2022-08-21T19:39:11.574722Z",
     "iopub.status.busy": "2022-08-21T19:39:11.574424Z",
     "iopub.status.idle": "2022-08-21T19:39:11.583086Z",
     "shell.execute_reply": "2022-08-21T19:39:11.582400Z"
    },
    "papermill": {
     "duration": 0.112528,
     "end_time": "2022-08-21T19:39:11.585764",
     "exception": false,
     "start_time": "2022-08-21T19:39:11.473236",
     "status": "completed"
    },
    "tags": []
   },
   "outputs": [
    {
     "name": "stdout",
     "output_type": "stream",
     "text": [
      "/kaggle/input/spaceship-titanic/sample_submission.csv\n",
      "/kaggle/input/spaceship-titanic/train.csv\n",
      "/kaggle/input/spaceship-titanic/test.csv\n",
      "CPU times: user 1.61 ms, sys: 0 ns, total: 1.61 ms\n",
      "Wall time: 3.01 ms\n"
     ]
    }
   ],
   "source": [
    "%%time\n",
    "# This Python 3 environment comes with many helpful analytics libraries installed\n",
    "# It is defined by the kaggle/python Docker image: https://github.com/kaggle/docker-python\n",
    "# For example, here's several helpful packages to load\n",
    "\n",
    "import numpy as np # linear algebra\n",
    "import pandas as pd # data processing, CSV file I/O (e.g. pd.read_csv)\n",
    "\n",
    "# Input data files are available in the read-only \"../input/\" directory\n",
    "# For example, running this (by clicking run or pressing Shift+Enter) will list all files under the input directory\n",
    "\n",
    "import os\n",
    "for dirname, _, filenames in os.walk('/kaggle/input'):\n",
    "    for filename in filenames:\n",
    "        print(os.path.join(dirname, filename))\n",
    "\n",
    "# You can write up to 20GB to the current directory (/kaggle/working/) that gets preserved as output when you create a version using \"Save & Run All\" \n",
    "# You can also write temporary files to /kaggle/temp/, but they won't be saved outside of the current session"
   ]
  },
  {
   "cell_type": "code",
   "execution_count": 5,
   "id": "00f0e025",
   "metadata": {
    "execution": {
     "iopub.execute_input": "2022-08-21T19:39:11.777218Z",
     "iopub.status.busy": "2022-08-21T19:39:11.776545Z",
     "iopub.status.idle": "2022-08-21T19:39:11.792683Z",
     "shell.execute_reply": "2022-08-21T19:39:11.792017Z"
    },
    "papermill": {
     "duration": 0.113221,
     "end_time": "2022-08-21T19:39:11.794418",
     "exception": false,
     "start_time": "2022-08-21T19:39:11.681197",
     "status": "completed"
    },
    "tags": []
   },
   "outputs": [],
   "source": [
    "%%capture\n",
    "from sklearn.preprocessing import LabelEncoder\n",
    "from gokinjo import knn_kfold_extract\n",
    "from gokinjo import knn_extract"
   ]
  },
  {
   "cell_type": "code",
   "execution_count": 6,
   "id": "efb4e959",
   "metadata": {
    "execution": {
     "iopub.execute_input": "2022-08-21T19:39:11.986705Z",
     "iopub.status.busy": "2022-08-21T19:39:11.985893Z",
     "iopub.status.idle": "2022-08-21T19:39:11.991329Z",
     "shell.execute_reply": "2022-08-21T19:39:11.990603Z"
    },
    "papermill": {
     "duration": 0.104387,
     "end_time": "2022-08-21T19:39:11.993454",
     "exception": false,
     "start_time": "2022-08-21T19:39:11.889067",
     "status": "completed"
    },
    "tags": []
   },
   "outputs": [
    {
     "name": "stdout",
     "output_type": "stream",
     "text": [
      "CPU times: user 7 µs, sys: 1e+03 ns, total: 8 µs\n",
      "Wall time: 11.2 µs\n"
     ]
    }
   ],
   "source": [
    "%%time\n",
    "from sklearn.preprocessing import LabelEncoder "
   ]
  },
  {
   "cell_type": "markdown",
   "id": "90b7b525",
   "metadata": {
    "papermill": {
     "duration": 0.095992,
     "end_time": "2022-08-21T19:39:12.187959",
     "exception": false,
     "start_time": "2022-08-21T19:39:12.091967",
     "status": "completed"
    },
    "tags": []
   },
   "source": [
    "---"
   ]
  },
  {
   "cell_type": "markdown",
   "id": "5d991a46",
   "metadata": {
    "papermill": {
     "duration": 0.095783,
     "end_time": "2022-08-21T19:39:12.379690",
     "exception": false,
     "start_time": "2022-08-21T19:39:12.283907",
     "status": "completed"
    },
    "tags": []
   },
   "source": [
    "# 3.0 Seeting Notebook Parameters..."
   ]
  },
  {
   "cell_type": "code",
   "execution_count": 7,
   "id": "da4c385e",
   "metadata": {
    "execution": {
     "iopub.execute_input": "2022-08-21T19:39:12.571756Z",
     "iopub.status.busy": "2022-08-21T19:39:12.571492Z",
     "iopub.status.idle": "2022-08-21T19:39:12.576515Z",
     "shell.execute_reply": "2022-08-21T19:39:12.575815Z"
    },
    "papermill": {
     "duration": 0.104264,
     "end_time": "2022-08-21T19:39:12.579030",
     "exception": false,
     "start_time": "2022-08-21T19:39:12.474766",
     "status": "completed"
    },
    "tags": []
   },
   "outputs": [
    {
     "name": "stdout",
     "output_type": "stream",
     "text": [
      "CPU times: user 63 µs, sys: 10 µs, total: 73 µs\n",
      "Wall time: 76.1 µs\n"
     ]
    }
   ],
   "source": [
    "%%time\n",
    "# I like to disable my Notebook Warnings.\n",
    "import warnings\n",
    "warnings.filterwarnings('ignore')"
   ]
  },
  {
   "cell_type": "code",
   "execution_count": 8,
   "id": "3c8de6ae",
   "metadata": {
    "execution": {
     "iopub.execute_input": "2022-08-21T19:39:12.773463Z",
     "iopub.status.busy": "2022-08-21T19:39:12.772978Z",
     "iopub.status.idle": "2022-08-21T19:39:12.778041Z",
     "shell.execute_reply": "2022-08-21T19:39:12.777363Z"
    },
    "papermill": {
     "duration": 0.104315,
     "end_time": "2022-08-21T19:39:12.780601",
     "exception": false,
     "start_time": "2022-08-21T19:39:12.676286",
     "status": "completed"
    },
    "tags": []
   },
   "outputs": [
    {
     "name": "stdout",
     "output_type": "stream",
     "text": [
      "CPU times: user 4 µs, sys: 1e+03 ns, total: 5 µs\n",
      "Wall time: 8.34 µs\n"
     ]
    }
   ],
   "source": [
    "%%time\n",
    "# Notebook Configuration...\n",
    "\n",
    "# Amount of data we want to load into the Model...\n",
    "DATA_ROWS = None\n",
    "# Dataframe, the amount of rows and cols to visualize...\n",
    "NROWS = 100\n",
    "NCOLS = 8\n",
    "# Main data location path...\n",
    "BASE_PATH = '...'"
   ]
  },
  {
   "cell_type": "code",
   "execution_count": 9,
   "id": "78e4ee69",
   "metadata": {
    "execution": {
     "iopub.execute_input": "2022-08-21T19:39:12.986005Z",
     "iopub.status.busy": "2022-08-21T19:39:12.985761Z",
     "iopub.status.idle": "2022-08-21T19:39:12.991412Z",
     "shell.execute_reply": "2022-08-21T19:39:12.990707Z"
    },
    "papermill": {
     "duration": 0.116283,
     "end_time": "2022-08-21T19:39:12.993984",
     "exception": false,
     "start_time": "2022-08-21T19:39:12.877701",
     "status": "completed"
    },
    "tags": []
   },
   "outputs": [
    {
     "name": "stdout",
     "output_type": "stream",
     "text": [
      "CPU times: user 133 µs, sys: 0 ns, total: 133 µs\n",
      "Wall time: 136 µs\n"
     ]
    }
   ],
   "source": [
    "%%time\n",
    "# Configure notebook display settings to only use 2 decimal places, tables look nicer.\n",
    "pd.options.display.float_format = '{:,.2f}'.format\n",
    "pd.set_option('display.max_columns', NCOLS) \n",
    "pd.set_option('display.max_rows', NROWS)"
   ]
  },
  {
   "cell_type": "markdown",
   "id": "9022e1a4",
   "metadata": {
    "papermill": {
     "duration": 0.096397,
     "end_time": "2022-08-21T19:39:13.187425",
     "exception": false,
     "start_time": "2022-08-21T19:39:13.091028",
     "status": "completed"
    },
    "tags": []
   },
   "source": [
    "---"
   ]
  },
  {
   "cell_type": "markdown",
   "id": "7c31eb94",
   "metadata": {
    "papermill": {
     "duration": 0.095808,
     "end_time": "2022-08-21T19:39:13.379897",
     "exception": false,
     "start_time": "2022-08-21T19:39:13.284089",
     "status": "completed"
    },
    "tags": []
   },
   "source": [
    "# 4.0 Loading Information from CSV..."
   ]
  },
  {
   "cell_type": "code",
   "execution_count": 10,
   "id": "52b1efe6",
   "metadata": {
    "execution": {
     "iopub.execute_input": "2022-08-21T19:39:13.573857Z",
     "iopub.status.busy": "2022-08-21T19:39:13.573600Z",
     "iopub.status.idle": "2022-08-21T19:39:13.655581Z",
     "shell.execute_reply": "2022-08-21T19:39:13.654814Z"
    },
    "papermill": {
     "duration": 0.181199,
     "end_time": "2022-08-21T19:39:13.657440",
     "exception": false,
     "start_time": "2022-08-21T19:39:13.476241",
     "status": "completed"
    },
    "tags": []
   },
   "outputs": [
    {
     "name": "stdout",
     "output_type": "stream",
     "text": [
      "CPU times: user 31.8 ms, sys: 13.1 ms, total: 44.9 ms\n",
      "Wall time: 76.3 ms\n"
     ]
    }
   ],
   "source": [
    "%%time\n",
    "trn_data = pd.read_csv('/kaggle/input/spaceship-titanic/train.csv')\n",
    "tst_data = pd.read_csv('/kaggle/input/spaceship-titanic/test.csv')\n",
    "\n",
    "sub = pd.read_csv('/kaggle/input/spaceship-titanic/sample_submission.csv')"
   ]
  },
  {
   "cell_type": "markdown",
   "id": "1fcea605",
   "metadata": {
    "papermill": {
     "duration": 0.097078,
     "end_time": "2022-08-21T19:39:13.852987",
     "exception": false,
     "start_time": "2022-08-21T19:39:13.755909",
     "status": "completed"
    },
    "tags": []
   },
   "source": [
    "---"
   ]
  },
  {
   "cell_type": "markdown",
   "id": "8de1673b",
   "metadata": {
    "papermill": {
     "duration": 0.095742,
     "end_time": "2022-08-21T19:39:14.045786",
     "exception": false,
     "start_time": "2022-08-21T19:39:13.950044",
     "status": "completed"
    },
    "tags": []
   },
   "source": [
    "# 5.0 Exploring the Information Available"
   ]
  },
  {
   "cell_type": "code",
   "execution_count": 11,
   "id": "7923b1ad",
   "metadata": {
    "execution": {
     "iopub.execute_input": "2022-08-21T19:39:14.243253Z",
     "iopub.status.busy": "2022-08-21T19:39:14.242431Z",
     "iopub.status.idle": "2022-08-21T19:39:14.250177Z",
     "shell.execute_reply": "2022-08-21T19:39:14.249219Z"
    },
    "papermill": {
     "duration": 0.109896,
     "end_time": "2022-08-21T19:39:14.252643",
     "exception": false,
     "start_time": "2022-08-21T19:39:14.142747",
     "status": "completed"
    },
    "tags": []
   },
   "outputs": [
    {
     "name": "stdout",
     "output_type": "stream",
     "text": [
      "CPU times: user 28 µs, sys: 5 µs, total: 33 µs\n",
      "Wall time: 36 µs\n"
     ]
    },
    {
     "data": {
      "text/plain": [
       "(8693, 14)"
      ]
     },
     "execution_count": 11,
     "metadata": {},
     "output_type": "execute_result"
    }
   ],
   "source": [
    "%%time\n",
    "# Explore the shape of the DataFrame...\n",
    "trn_data.shape"
   ]
  },
  {
   "cell_type": "code",
   "execution_count": 12,
   "id": "506d65c0",
   "metadata": {
    "execution": {
     "iopub.execute_input": "2022-08-21T19:39:14.448868Z",
     "iopub.status.busy": "2022-08-21T19:39:14.448093Z",
     "iopub.status.idle": "2022-08-21T19:39:14.473485Z",
     "shell.execute_reply": "2022-08-21T19:39:14.472517Z"
    },
    "papermill": {
     "duration": 0.126393,
     "end_time": "2022-08-21T19:39:14.475900",
     "exception": false,
     "start_time": "2022-08-21T19:39:14.349507",
     "status": "completed"
    },
    "tags": []
   },
   "outputs": [
    {
     "name": "stdout",
     "output_type": "stream",
     "text": [
      "CPU times: user 0 ns, sys: 212 µs, total: 212 µs\n",
      "Wall time: 218 µs\n"
     ]
    },
    {
     "data": {
      "text/html": [
       "<div>\n",
       "<style scoped>\n",
       "    .dataframe tbody tr th:only-of-type {\n",
       "        vertical-align: middle;\n",
       "    }\n",
       "\n",
       "    .dataframe tbody tr th {\n",
       "        vertical-align: top;\n",
       "    }\n",
       "\n",
       "    .dataframe thead th {\n",
       "        text-align: right;\n",
       "    }\n",
       "</style>\n",
       "<table border=\"1\" class=\"dataframe\">\n",
       "  <thead>\n",
       "    <tr style=\"text-align: right;\">\n",
       "      <th></th>\n",
       "      <th>PassengerId</th>\n",
       "      <th>HomePlanet</th>\n",
       "      <th>CryoSleep</th>\n",
       "      <th>Cabin</th>\n",
       "      <th>...</th>\n",
       "      <th>Spa</th>\n",
       "      <th>VRDeck</th>\n",
       "      <th>Name</th>\n",
       "      <th>Transported</th>\n",
       "    </tr>\n",
       "  </thead>\n",
       "  <tbody>\n",
       "    <tr>\n",
       "      <th>0</th>\n",
       "      <td>0001_01</td>\n",
       "      <td>Europa</td>\n",
       "      <td>False</td>\n",
       "      <td>B/0/P</td>\n",
       "      <td>...</td>\n",
       "      <td>0.00</td>\n",
       "      <td>0.00</td>\n",
       "      <td>Maham Ofracculy</td>\n",
       "      <td>False</td>\n",
       "    </tr>\n",
       "    <tr>\n",
       "      <th>1</th>\n",
       "      <td>0002_01</td>\n",
       "      <td>Earth</td>\n",
       "      <td>False</td>\n",
       "      <td>F/0/S</td>\n",
       "      <td>...</td>\n",
       "      <td>549.00</td>\n",
       "      <td>44.00</td>\n",
       "      <td>Juanna Vines</td>\n",
       "      <td>True</td>\n",
       "    </tr>\n",
       "    <tr>\n",
       "      <th>2</th>\n",
       "      <td>0003_01</td>\n",
       "      <td>Europa</td>\n",
       "      <td>False</td>\n",
       "      <td>A/0/S</td>\n",
       "      <td>...</td>\n",
       "      <td>6,715.00</td>\n",
       "      <td>49.00</td>\n",
       "      <td>Altark Susent</td>\n",
       "      <td>False</td>\n",
       "    </tr>\n",
       "    <tr>\n",
       "      <th>3</th>\n",
       "      <td>0003_02</td>\n",
       "      <td>Europa</td>\n",
       "      <td>False</td>\n",
       "      <td>A/0/S</td>\n",
       "      <td>...</td>\n",
       "      <td>3,329.00</td>\n",
       "      <td>193.00</td>\n",
       "      <td>Solam Susent</td>\n",
       "      <td>False</td>\n",
       "    </tr>\n",
       "    <tr>\n",
       "      <th>4</th>\n",
       "      <td>0004_01</td>\n",
       "      <td>Earth</td>\n",
       "      <td>False</td>\n",
       "      <td>F/1/S</td>\n",
       "      <td>...</td>\n",
       "      <td>565.00</td>\n",
       "      <td>2.00</td>\n",
       "      <td>Willy Santantines</td>\n",
       "      <td>True</td>\n",
       "    </tr>\n",
       "  </tbody>\n",
       "</table>\n",
       "<p>5 rows × 14 columns</p>\n",
       "</div>"
      ],
      "text/plain": [
       "  PassengerId HomePlanet CryoSleep  Cabin  ...      Spa  VRDeck  \\\n",
       "0     0001_01     Europa     False  B/0/P  ...     0.00    0.00   \n",
       "1     0002_01      Earth     False  F/0/S  ...   549.00   44.00   \n",
       "2     0003_01     Europa     False  A/0/S  ... 6,715.00   49.00   \n",
       "3     0003_02     Europa     False  A/0/S  ... 3,329.00  193.00   \n",
       "4     0004_01      Earth     False  F/1/S  ...   565.00    2.00   \n",
       "\n",
       "                Name  Transported  \n",
       "0    Maham Ofracculy        False  \n",
       "1       Juanna Vines         True  \n",
       "2      Altark Susent        False  \n",
       "3       Solam Susent        False  \n",
       "4  Willy Santantines         True  \n",
       "\n",
       "[5 rows x 14 columns]"
      ]
     },
     "execution_count": 12,
     "metadata": {},
     "output_type": "execute_result"
    }
   ],
   "source": [
    "%%time\n",
    "# Display the first few rows of the DataFrame...\n",
    "trn_data.head()"
   ]
  },
  {
   "cell_type": "code",
   "execution_count": 13,
   "id": "58b9310d",
   "metadata": {
    "execution": {
     "iopub.execute_input": "2022-08-21T19:39:14.678140Z",
     "iopub.status.busy": "2022-08-21T19:39:14.677474Z",
     "iopub.status.idle": "2022-08-21T19:39:14.703578Z",
     "shell.execute_reply": "2022-08-21T19:39:14.702015Z"
    },
    "papermill": {
     "duration": 0.128056,
     "end_time": "2022-08-21T19:39:14.705695",
     "exception": false,
     "start_time": "2022-08-21T19:39:14.577639",
     "status": "completed"
    },
    "tags": []
   },
   "outputs": [
    {
     "name": "stdout",
     "output_type": "stream",
     "text": [
      "<class 'pandas.core.frame.DataFrame'>\n",
      "RangeIndex: 8693 entries, 0 to 8692\n",
      "Data columns (total 14 columns):\n",
      " #   Column        Non-Null Count  Dtype  \n",
      "---  ------        --------------  -----  \n",
      " 0   PassengerId   8693 non-null   object \n",
      " 1   HomePlanet    8492 non-null   object \n",
      " 2   CryoSleep     8476 non-null   object \n",
      " 3   Cabin         8494 non-null   object \n",
      " 4   Destination   8511 non-null   object \n",
      " 5   Age           8514 non-null   float64\n",
      " 6   VIP           8490 non-null   object \n",
      " 7   RoomService   8512 non-null   float64\n",
      " 8   FoodCourt     8510 non-null   float64\n",
      " 9   ShoppingMall  8485 non-null   float64\n",
      " 10  Spa           8510 non-null   float64\n",
      " 11  VRDeck        8505 non-null   float64\n",
      " 12  Name          8493 non-null   object \n",
      " 13  Transported   8693 non-null   bool   \n",
      "dtypes: bool(1), float64(6), object(7)\n",
      "memory usage: 891.5+ KB\n",
      "CPU times: user 8.16 ms, sys: 4.06 ms, total: 12.2 ms\n",
      "Wall time: 20.5 ms\n"
     ]
    }
   ],
   "source": [
    "%%time\n",
    "# Display the information from the dataset...\n",
    "trn_data.info()"
   ]
  },
  {
   "cell_type": "code",
   "execution_count": 14,
   "id": "19908b8c",
   "metadata": {
    "execution": {
     "iopub.execute_input": "2022-08-21T19:39:14.906494Z",
     "iopub.status.busy": "2022-08-21T19:39:14.906110Z",
     "iopub.status.idle": "2022-08-21T19:39:14.918154Z",
     "shell.execute_reply": "2022-08-21T19:39:14.916969Z"
    },
    "papermill": {
     "duration": 0.114892,
     "end_time": "2022-08-21T19:39:14.920484",
     "exception": false,
     "start_time": "2022-08-21T19:39:14.805592",
     "status": "completed"
    },
    "tags": []
   },
   "outputs": [
    {
     "name": "stdout",
     "output_type": "stream",
     "text": [
      "CPU times: user 5.12 ms, sys: 8 µs, total: 5.13 ms\n",
      "Wall time: 4.75 ms\n"
     ]
    },
    {
     "data": {
      "text/plain": [
       "PassengerId       0\n",
       "HomePlanet      201\n",
       "CryoSleep       217\n",
       "Cabin           199\n",
       "Destination     182\n",
       "Age             179\n",
       "VIP             203\n",
       "RoomService     181\n",
       "FoodCourt       183\n",
       "ShoppingMall    208\n",
       "Spa             183\n",
       "VRDeck          188\n",
       "Name            200\n",
       "Transported       0\n",
       "dtype: int64"
      ]
     },
     "execution_count": 14,
     "metadata": {},
     "output_type": "execute_result"
    }
   ],
   "source": [
    "%%time\n",
    "# Checking for empty or NaN values in the dataset by variable...\n",
    "trn_data.isnull().sum()"
   ]
  },
  {
   "cell_type": "markdown",
   "id": "154ffad0",
   "metadata": {
    "papermill": {
     "duration": 0.098795,
     "end_time": "2022-08-21T19:39:15.118736",
     "exception": false,
     "start_time": "2022-08-21T19:39:15.019941",
     "status": "completed"
    },
    "tags": []
   },
   "source": [
    "---"
   ]
  },
  {
   "cell_type": "markdown",
   "id": "6e17e3a0",
   "metadata": {
    "papermill": {
     "duration": 0.097808,
     "end_time": "2022-08-21T19:39:15.315865",
     "exception": false,
     "start_time": "2022-08-21T19:39:15.218057",
     "status": "completed"
    },
    "tags": []
   },
   "source": [
    "# 6.0 Feature Engineering..."
   ]
  },
  {
   "cell_type": "markdown",
   "id": "79fcd4e5",
   "metadata": {
    "papermill": {
     "duration": 0.113531,
     "end_time": "2022-08-21T19:39:15.527249",
     "exception": false,
     "start_time": "2022-08-21T19:39:15.413718",
     "status": "completed"
    },
    "tags": []
   },
   "source": [
    "## 6.1 Filling NaNs by Using EDA Insights (Age)"
   ]
  },
  {
   "cell_type": "code",
   "execution_count": 15,
   "id": "9287bb2a",
   "metadata": {
    "execution": {
     "iopub.execute_input": "2022-08-21T19:39:15.730590Z",
     "iopub.status.busy": "2022-08-21T19:39:15.730287Z",
     "iopub.status.idle": "2022-08-21T19:39:15.736633Z",
     "shell.execute_reply": "2022-08-21T19:39:15.735919Z"
    },
    "papermill": {
     "duration": 0.108057,
     "end_time": "2022-08-21T19:39:15.739335",
     "exception": false,
     "start_time": "2022-08-21T19:39:15.631278",
     "status": "completed"
    },
    "tags": []
   },
   "outputs": [
    {
     "name": "stdout",
     "output_type": "stream",
     "text": [
      "CPU times: user 4 µs, sys: 0 ns, total: 4 µs\n",
      "Wall time: 8.58 µs\n"
     ]
    }
   ],
   "source": [
    "%%time\n",
    "# Filling NaNs Based on Feature Engineering...\n",
    "def fill_nans_by_age(df, age_limit = 13):\n",
    "    df['RoomService'] = np.where(df['Age'] <= age_limit, 0, df['RoomService'])\n",
    "    df['FoodCourt'] = np.where(df['Age'] <= age_limit, 0, df['FoodCourt'])\n",
    "    df['ShoppingMall'] = np.where(df['Age'] <= age_limit, 0, df['ShoppingMall'])\n",
    "    df['Spa'] = np.where(df['Age'] <= age_limit, 0, df['Spa'])\n",
    "    df['VRDeck'] = np.where(df['Age'] <= age_limit, 0, df['VRDeck'])\n",
    "    \n",
    "    return df"
   ]
  },
  {
   "cell_type": "code",
   "execution_count": 16,
   "id": "99507a61",
   "metadata": {
    "execution": {
     "iopub.execute_input": "2022-08-21T19:39:15.944440Z",
     "iopub.status.busy": "2022-08-21T19:39:15.943821Z",
     "iopub.status.idle": "2022-08-21T19:39:15.954803Z",
     "shell.execute_reply": "2022-08-21T19:39:15.953588Z"
    },
    "papermill": {
     "duration": 0.116045,
     "end_time": "2022-08-21T19:39:15.957179",
     "exception": false,
     "start_time": "2022-08-21T19:39:15.841134",
     "status": "completed"
    },
    "tags": []
   },
   "outputs": [
    {
     "name": "stdout",
     "output_type": "stream",
     "text": [
      "CPU times: user 5.27 ms, sys: 199 µs, total: 5.47 ms\n",
      "Wall time: 5.86 ms\n"
     ]
    }
   ],
   "source": [
    "%%time\n",
    "trn_data =  fill_nans_by_age(trn_data)\n",
    "tst_data =  fill_nans_by_age(tst_data)"
   ]
  },
  {
   "cell_type": "markdown",
   "id": "5e052c7c",
   "metadata": {
    "papermill": {
     "duration": 0.099351,
     "end_time": "2022-08-21T19:39:16.155977",
     "exception": false,
     "start_time": "2022-08-21T19:39:16.056626",
     "status": "completed"
    },
    "tags": []
   },
   "source": [
    "---"
   ]
  },
  {
   "cell_type": "markdown",
   "id": "ed2bd47d",
   "metadata": {
    "papermill": {
     "duration": 0.099567,
     "end_time": "2022-08-21T19:39:16.358942",
     "exception": false,
     "start_time": "2022-08-21T19:39:16.259375",
     "status": "completed"
    },
    "tags": []
   },
   "source": [
    "## 6.2 Filling NaNs by Using EDA Insights (CryoSleep)"
   ]
  },
  {
   "cell_type": "code",
   "execution_count": 17,
   "id": "0c0861d4",
   "metadata": {
    "execution": {
     "iopub.execute_input": "2022-08-21T19:39:16.561828Z",
     "iopub.status.busy": "2022-08-21T19:39:16.561174Z",
     "iopub.status.idle": "2022-08-21T19:39:16.567296Z",
     "shell.execute_reply": "2022-08-21T19:39:16.566625Z"
    },
    "papermill": {
     "duration": 0.111351,
     "end_time": "2022-08-21T19:39:16.570646",
     "exception": false,
     "start_time": "2022-08-21T19:39:16.459295",
     "status": "completed"
    },
    "tags": []
   },
   "outputs": [
    {
     "name": "stdout",
     "output_type": "stream",
     "text": [
      "CPU times: user 5 µs, sys: 0 ns, total: 5 µs\n",
      "Wall time: 8.11 µs\n"
     ]
    }
   ],
   "source": [
    "%%time\n",
    "# Filling NaNs Based on Feature Engineering...\n",
    "def fill_nans_by_cryo(df, age_limit = 13):\n",
    "    df['RoomService'] = np.where(df['CryoSleep'] == True, 0, df['RoomService'])\n",
    "    df['FoodCourt'] = np.where(df['CryoSleep'] == True, 0, df['FoodCourt'])\n",
    "    df['ShoppingMall'] = np.where(df['CryoSleep'] == True, 0, df['ShoppingMall'])\n",
    "    df['Spa'] = np.where(df['CryoSleep'] == True, 0, df['Spa'])\n",
    "    df['VRDeck'] = np.where(df['CryoSleep'] == True, 0, df['VRDeck'])\n",
    "    \n",
    "    return df"
   ]
  },
  {
   "cell_type": "code",
   "execution_count": 18,
   "id": "442eae01",
   "metadata": {
    "execution": {
     "iopub.execute_input": "2022-08-21T19:39:16.773620Z",
     "iopub.status.busy": "2022-08-21T19:39:16.773015Z",
     "iopub.status.idle": "2022-08-21T19:39:16.787086Z",
     "shell.execute_reply": "2022-08-21T19:39:16.786233Z"
    },
    "papermill": {
     "duration": 0.117331,
     "end_time": "2022-08-21T19:39:16.789403",
     "exception": false,
     "start_time": "2022-08-21T19:39:16.672072",
     "status": "completed"
    },
    "tags": []
   },
   "outputs": [
    {
     "name": "stdout",
     "output_type": "stream",
     "text": [
      "CPU times: user 7.92 ms, sys: 982 µs, total: 8.9 ms\n",
      "Wall time: 8.81 ms\n"
     ]
    }
   ],
   "source": [
    "%%time\n",
    "trn_data =  fill_nans_by_cryo(trn_data)\n",
    "tst_data =  fill_nans_by_cryo(tst_data)"
   ]
  },
  {
   "cell_type": "markdown",
   "id": "220edde0",
   "metadata": {
    "papermill": {
     "duration": 0.19125,
     "end_time": "2022-08-21T19:39:17.082539",
     "exception": false,
     "start_time": "2022-08-21T19:39:16.891289",
     "status": "completed"
    },
    "tags": []
   },
   "source": [
    "---"
   ]
  },
  {
   "cell_type": "markdown",
   "id": "efde640c",
   "metadata": {
    "papermill": {
     "duration": 0.149061,
     "end_time": "2022-08-21T19:39:17.384030",
     "exception": false,
     "start_time": "2022-08-21T19:39:17.234969",
     "status": "completed"
    },
    "tags": []
   },
   "source": [
    "## 6.3 Creating Age Groups Using EDA Insights (Age)"
   ]
  },
  {
   "cell_type": "code",
   "execution_count": 19,
   "id": "04f5e48b",
   "metadata": {
    "execution": {
     "iopub.execute_input": "2022-08-21T19:39:17.633938Z",
     "iopub.status.busy": "2022-08-21T19:39:17.633674Z",
     "iopub.status.idle": "2022-08-21T19:39:17.638844Z",
     "shell.execute_reply": "2022-08-21T19:39:17.638125Z"
    },
    "papermill": {
     "duration": 0.108983,
     "end_time": "2022-08-21T19:39:17.641439",
     "exception": false,
     "start_time": "2022-08-21T19:39:17.532456",
     "status": "completed"
    },
    "tags": []
   },
   "outputs": [
    {
     "name": "stdout",
     "output_type": "stream",
     "text": [
      "CPU times: user 4 µs, sys: 0 ns, total: 4 µs\n",
      "Wall time: 8.34 µs\n"
     ]
    }
   ],
   "source": [
    "%%time\n",
    "def age_groups(df, age_limit = 13):\n",
    "    df['AgeGroup'] = np.where(df['Age'] < age_limit, 0, 1)\n",
    "    return df"
   ]
  },
  {
   "cell_type": "code",
   "execution_count": 20,
   "id": "70482ea9",
   "metadata": {
    "execution": {
     "iopub.execute_input": "2022-08-21T19:39:17.844295Z",
     "iopub.status.busy": "2022-08-21T19:39:17.843626Z",
     "iopub.status.idle": "2022-08-21T19:39:17.850595Z",
     "shell.execute_reply": "2022-08-21T19:39:17.849833Z"
    },
    "papermill": {
     "duration": 0.109859,
     "end_time": "2022-08-21T19:39:17.852980",
     "exception": false,
     "start_time": "2022-08-21T19:39:17.743121",
     "status": "completed"
    },
    "tags": []
   },
   "outputs": [
    {
     "name": "stdout",
     "output_type": "stream",
     "text": [
      "CPU times: user 2.15 ms, sys: 21 µs, total: 2.17 ms\n",
      "Wall time: 2.12 ms\n"
     ]
    }
   ],
   "source": [
    "%%time\n",
    "trn_data =  age_groups(trn_data)\n",
    "tst_data =  age_groups(tst_data)"
   ]
  },
  {
   "cell_type": "markdown",
   "id": "055a2ca3",
   "metadata": {
    "papermill": {
     "duration": 0.103245,
     "end_time": "2022-08-21T19:39:18.058130",
     "exception": false,
     "start_time": "2022-08-21T19:39:17.954885",
     "status": "completed"
    },
    "tags": []
   },
   "source": [
    "---"
   ]
  },
  {
   "cell_type": "markdown",
   "id": "cb69e1d2",
   "metadata": {
    "papermill": {
     "duration": 0.126324,
     "end_time": "2022-08-21T19:39:18.284929",
     "exception": false,
     "start_time": "2022-08-21T19:39:18.158605",
     "status": "completed"
    },
    "tags": []
   },
   "source": [
    "## 6.7 Extracting Deck, Cabin Number and Side"
   ]
  },
  {
   "cell_type": "code",
   "execution_count": 21,
   "id": "e9d3e2f1",
   "metadata": {
    "execution": {
     "iopub.execute_input": "2022-08-21T19:39:18.488125Z",
     "iopub.status.busy": "2022-08-21T19:39:18.487859Z",
     "iopub.status.idle": "2022-08-21T19:39:18.494198Z",
     "shell.execute_reply": "2022-08-21T19:39:18.493495Z"
    },
    "papermill": {
     "duration": 0.110849,
     "end_time": "2022-08-21T19:39:18.496943",
     "exception": false,
     "start_time": "2022-08-21T19:39:18.386094",
     "status": "completed"
    },
    "tags": []
   },
   "outputs": [
    {
     "name": "stdout",
     "output_type": "stream",
     "text": [
      "CPU times: user 4 µs, sys: 1e+03 ns, total: 5 µs\n",
      "Wall time: 7.87 µs\n"
     ]
    }
   ],
   "source": [
    "%%time\n",
    "def cabin_separation(df):\n",
    "    '''\n",
    "    Split the Cabin name into Deck, Number and Side\n",
    "    \n",
    "    '''\n",
    "    \n",
    "    df['CabinDeck'] = df['Cabin'].str.split('/', expand=True)[0]\n",
    "    df['CabinNum']  = df['Cabin'].str.split('/', expand=True)[1]\n",
    "    df['CabinSide'] = df['Cabin'].str.split('/', expand=True)[2]\n",
    "    \n",
    "    df.drop(columns = ['Cabin'], inplace = True)\n",
    "    return df"
   ]
  },
  {
   "cell_type": "code",
   "execution_count": 22,
   "id": "b4302d3c",
   "metadata": {
    "execution": {
     "iopub.execute_input": "2022-08-21T19:39:18.703277Z",
     "iopub.status.busy": "2022-08-21T19:39:18.703030Z",
     "iopub.status.idle": "2022-08-21T19:39:18.767442Z",
     "shell.execute_reply": "2022-08-21T19:39:18.766589Z"
    },
    "papermill": {
     "duration": 0.170247,
     "end_time": "2022-08-21T19:39:18.770120",
     "exception": false,
     "start_time": "2022-08-21T19:39:18.599873",
     "status": "completed"
    },
    "tags": []
   },
   "outputs": [
    {
     "name": "stdout",
     "output_type": "stream",
     "text": [
      "CPU times: user 57.8 ms, sys: 2.88 ms, total: 60.7 ms\n",
      "Wall time: 60 ms\n"
     ]
    }
   ],
   "source": [
    "%%time\n",
    "trn_data = cabin_separation(trn_data)\n",
    "tst_data = cabin_separation(tst_data)"
   ]
  },
  {
   "cell_type": "markdown",
   "id": "eb177c14",
   "metadata": {
    "papermill": {
     "duration": 0.100336,
     "end_time": "2022-08-21T19:39:18.973138",
     "exception": false,
     "start_time": "2022-08-21T19:39:18.872802",
     "status": "completed"
    },
    "tags": []
   },
   "source": [
    "---"
   ]
  },
  {
   "cell_type": "markdown",
   "id": "caeda337",
   "metadata": {
    "papermill": {
     "duration": 0.101691,
     "end_time": "2022-08-21T19:39:19.177019",
     "exception": false,
     "start_time": "2022-08-21T19:39:19.075328",
     "status": "completed"
    },
    "tags": []
   },
   "source": [
    "## 6.8 Extracting Family Name and Name"
   ]
  },
  {
   "cell_type": "code",
   "execution_count": 23,
   "id": "2398fc2e",
   "metadata": {
    "execution": {
     "iopub.execute_input": "2022-08-21T19:39:19.383495Z",
     "iopub.status.busy": "2022-08-21T19:39:19.383197Z",
     "iopub.status.idle": "2022-08-21T19:39:19.388587Z",
     "shell.execute_reply": "2022-08-21T19:39:19.387879Z"
    },
    "papermill": {
     "duration": 0.111184,
     "end_time": "2022-08-21T19:39:19.391228",
     "exception": false,
     "start_time": "2022-08-21T19:39:19.280044",
     "status": "completed"
    },
    "tags": []
   },
   "outputs": [
    {
     "name": "stdout",
     "output_type": "stream",
     "text": [
      "CPU times: user 4 µs, sys: 0 ns, total: 4 µs\n",
      "Wall time: 7.39 µs\n"
     ]
    }
   ],
   "source": [
    "%%time\n",
    "def name_ext(df):\n",
    "    '''\n",
    "    Split the Name of the passenger into First and Family...\n",
    "    \n",
    "    '''\n",
    "    \n",
    "    df['FirstName'] = df['Name'].str.split(' ', expand=True)[0]\n",
    "    df['FamilyName'] = df['Name'].str.split(' ', expand=True)[1]\n",
    "    df.drop(columns = ['Name'], inplace = True)\n",
    "    return df"
   ]
  },
  {
   "cell_type": "code",
   "execution_count": 24,
   "id": "b1beaf18",
   "metadata": {
    "execution": {
     "iopub.execute_input": "2022-08-21T19:39:19.598509Z",
     "iopub.status.busy": "2022-08-21T19:39:19.598244Z",
     "iopub.status.idle": "2022-08-21T19:39:19.646635Z",
     "shell.execute_reply": "2022-08-21T19:39:19.645522Z"
    },
    "papermill": {
     "duration": 0.154228,
     "end_time": "2022-08-21T19:39:19.648551",
     "exception": false,
     "start_time": "2022-08-21T19:39:19.494323",
     "status": "completed"
    },
    "tags": []
   },
   "outputs": [
    {
     "name": "stdout",
     "output_type": "stream",
     "text": [
      "CPU times: user 42.6 ms, sys: 1.86 ms, total: 44.4 ms\n",
      "Wall time: 43.7 ms\n"
     ]
    }
   ],
   "source": [
    "%%time\n",
    "trn_data = name_ext(trn_data)\n",
    "tst_data = name_ext(tst_data)"
   ]
  },
  {
   "cell_type": "markdown",
   "id": "7b330794",
   "metadata": {
    "papermill": {
     "duration": 0.101799,
     "end_time": "2022-08-21T19:39:19.853124",
     "exception": false,
     "start_time": "2022-08-21T19:39:19.751325",
     "status": "completed"
    },
    "tags": []
   },
   "source": [
    "---"
   ]
  },
  {
   "cell_type": "markdown",
   "id": "f1f53d40",
   "metadata": {
    "papermill": {
     "duration": 0.102053,
     "end_time": "2022-08-21T19:39:20.057330",
     "exception": false,
     "start_time": "2022-08-21T19:39:19.955277",
     "status": "completed"
    },
    "tags": []
   },
   "source": [
    "## 6.9 Creating Age Groups, Based on EDA"
   ]
  },
  {
   "cell_type": "code",
   "execution_count": 25,
   "id": "f44e9d55",
   "metadata": {
    "execution": {
     "iopub.execute_input": "2022-08-21T19:39:20.264812Z",
     "iopub.status.busy": "2022-08-21T19:39:20.264328Z",
     "iopub.status.idle": "2022-08-21T19:39:20.269571Z",
     "shell.execute_reply": "2022-08-21T19:39:20.268855Z"
    },
    "papermill": {
     "duration": 0.113136,
     "end_time": "2022-08-21T19:39:20.272142",
     "exception": false,
     "start_time": "2022-08-21T19:39:20.159006",
     "status": "completed"
    },
    "tags": []
   },
   "outputs": [
    {
     "name": "stdout",
     "output_type": "stream",
     "text": [
      "CPU times: user 5 µs, sys: 0 ns, total: 5 µs\n",
      "Wall time: 8.34 µs\n"
     ]
    }
   ],
   "source": [
    "%%time\n",
    "def age_groups(df, age_limit = 13):\n",
    "    df['AgeGroup'] = np.where(df['Age'] < age_limit, 0, 1)\n",
    "    return df"
   ]
  },
  {
   "cell_type": "code",
   "execution_count": 26,
   "id": "8a6102bd",
   "metadata": {
    "execution": {
     "iopub.execute_input": "2022-08-21T19:39:20.476746Z",
     "iopub.status.busy": "2022-08-21T19:39:20.476527Z",
     "iopub.status.idle": "2022-08-21T19:39:20.483640Z",
     "shell.execute_reply": "2022-08-21T19:39:20.482372Z"
    },
    "papermill": {
     "duration": 0.112146,
     "end_time": "2022-08-21T19:39:20.485971",
     "exception": false,
     "start_time": "2022-08-21T19:39:20.373825",
     "status": "completed"
    },
    "tags": []
   },
   "outputs": [
    {
     "name": "stdout",
     "output_type": "stream",
     "text": [
      "CPU times: user 2.7 ms, sys: 109 µs, total: 2.81 ms\n",
      "Wall time: 2.36 ms\n"
     ]
    }
   ],
   "source": [
    "%%time\n",
    "trn_data =  age_groups(trn_data)\n",
    "tst_data =  age_groups(tst_data)"
   ]
  },
  {
   "cell_type": "markdown",
   "id": "ccba1b31",
   "metadata": {
    "papermill": {
     "duration": 0.102348,
     "end_time": "2022-08-21T19:39:20.691727",
     "exception": false,
     "start_time": "2022-08-21T19:39:20.589379",
     "status": "completed"
    },
    "tags": []
   },
   "source": [
    "---"
   ]
  },
  {
   "cell_type": "markdown",
   "id": "be4ffe20",
   "metadata": {
    "papermill": {
     "duration": 0.102896,
     "end_time": "2022-08-21T19:39:20.896648",
     "exception": false,
     "start_time": "2022-08-21T19:39:20.793752",
     "status": "completed"
    },
    "tags": []
   },
   "source": [
    "## 6.10 Extracting Group"
   ]
  },
  {
   "cell_type": "code",
   "execution_count": 27,
   "id": "675c76d3",
   "metadata": {
    "execution": {
     "iopub.execute_input": "2022-08-21T19:39:21.101829Z",
     "iopub.status.busy": "2022-08-21T19:39:21.101556Z",
     "iopub.status.idle": "2022-08-21T19:39:21.106050Z",
     "shell.execute_reply": "2022-08-21T19:39:21.105376Z"
    },
    "papermill": {
     "duration": 0.109357,
     "end_time": "2022-08-21T19:39:21.108057",
     "exception": false,
     "start_time": "2022-08-21T19:39:20.998700",
     "status": "completed"
    },
    "tags": []
   },
   "outputs": [],
   "source": [
    "def extract_group(df):\n",
    "    '''\n",
    "    '''\n",
    "    df['TravelGroup'] =  df['PassengerId'].str.split('_', expand = True)[0]\n",
    "    df['TravelGroupPos'] =  df['PassengerId'].str.split('_', expand = True)[1]\n",
    "    return df"
   ]
  },
  {
   "cell_type": "code",
   "execution_count": 28,
   "id": "ced4f3b6",
   "metadata": {
    "execution": {
     "iopub.execute_input": "2022-08-21T19:39:21.319610Z",
     "iopub.status.busy": "2022-08-21T19:39:21.319373Z",
     "iopub.status.idle": "2022-08-21T19:39:21.514119Z",
     "shell.execute_reply": "2022-08-21T19:39:21.513407Z"
    },
    "papermill": {
     "duration": 0.305417,
     "end_time": "2022-08-21T19:39:21.516822",
     "exception": false,
     "start_time": "2022-08-21T19:39:21.211405",
     "status": "completed"
    },
    "tags": []
   },
   "outputs": [
    {
     "name": "stdout",
     "output_type": "stream",
     "text": [
      "CPU times: user 167 ms, sys: 22.1 ms, total: 189 ms\n",
      "Wall time: 190 ms\n"
     ]
    }
   ],
   "source": [
    "%%time\n",
    "trn_data = extract_group(trn_data)\n",
    "tst_data = extract_group(tst_data)"
   ]
  },
  {
   "cell_type": "markdown",
   "id": "456f39c0",
   "metadata": {
    "papermill": {
     "duration": 0.102034,
     "end_time": "2022-08-21T19:39:21.722945",
     "exception": false,
     "start_time": "2022-08-21T19:39:21.620911",
     "status": "completed"
    },
    "tags": []
   },
   "source": [
    "## 6.11 Imputing Using LightGBM"
   ]
  },
  {
   "cell_type": "code",
   "execution_count": 29,
   "id": "5ec4023f",
   "metadata": {
    "execution": {
     "iopub.execute_input": "2022-08-21T19:39:21.929393Z",
     "iopub.status.busy": "2022-08-21T19:39:21.929115Z",
     "iopub.status.idle": "2022-08-21T19:39:21.934543Z",
     "shell.execute_reply": "2022-08-21T19:39:21.933864Z"
    },
    "papermill": {
     "duration": 0.11053,
     "end_time": "2022-08-21T19:39:21.936683",
     "exception": false,
     "start_time": "2022-08-21T19:39:21.826153",
     "status": "completed"
    },
    "tags": []
   },
   "outputs": [
    {
     "data": {
      "text/plain": [
       "Index(['PassengerId', 'HomePlanet', 'CryoSleep', 'Destination', 'Age', 'VIP',\n",
       "       'RoomService', 'FoodCourt', 'ShoppingMall', 'Spa', 'VRDeck',\n",
       "       'Transported', 'AgeGroup', 'CabinDeck', 'CabinNum', 'CabinSide',\n",
       "       'FirstName', 'FamilyName', 'TravelGroup', 'TravelGroupPos'],\n",
       "      dtype='object')"
      ]
     },
     "execution_count": 29,
     "metadata": {},
     "output_type": "execute_result"
    }
   ],
   "source": [
    "trn_data.columns"
   ]
  },
  {
   "cell_type": "code",
   "execution_count": 30,
   "id": "09f36aca",
   "metadata": {
    "execution": {
     "iopub.execute_input": "2022-08-21T19:39:22.146665Z",
     "iopub.status.busy": "2022-08-21T19:39:22.145985Z",
     "iopub.status.idle": "2022-08-21T19:39:22.150515Z",
     "shell.execute_reply": "2022-08-21T19:39:22.149816Z"
    },
    "papermill": {
     "duration": 0.10999,
     "end_time": "2022-08-21T19:39:22.152202",
     "exception": false,
     "start_time": "2022-08-21T19:39:22.042212",
     "status": "completed"
    },
    "tags": []
   },
   "outputs": [],
   "source": [
    "cols = [\n",
    "        #'HomePlanet',\n",
    "        #'CryoSleep',\n",
    "        #'Destination',\n",
    "        'Age',\n",
    "        #'VIP',\n",
    "        'RoomService',\n",
    "        'FoodCourt',\n",
    "        'ShoppingMall',\n",
    "        'Spa',\n",
    "        'VRDeck',\n",
    "        #'AgeGroup',\n",
    "        #'CabinDeck',\n",
    "        #'CabinNum',\n",
    "        #'CabinSide',\n",
    "        #'FirstName',\n",
    "        #'FamilyName',\n",
    "        #'TravelGroup'\n",
    "       ]\n",
    "\n",
    "object_cols = [\n",
    "               #'HomePlanet',\n",
    "               #'CryoSleep',\n",
    "               #'Destination',\n",
    "               #'VIP',\n",
    "               #'CabinDeck',\n",
    "               #'CabinNum',\n",
    "               #'CabinSide',\n",
    "               #'FirstName',\n",
    "               #'FamilyName',\n",
    "               #'TravelGroup'\n",
    "              ]"
   ]
  },
  {
   "cell_type": "code",
   "execution_count": 31,
   "id": "7b8f1752",
   "metadata": {
    "execution": {
     "iopub.execute_input": "2022-08-21T19:39:22.360773Z",
     "iopub.status.busy": "2022-08-21T19:39:22.360094Z",
     "iopub.status.idle": "2022-08-21T19:39:22.371119Z",
     "shell.execute_reply": "2022-08-21T19:39:22.370347Z"
    },
    "papermill": {
     "duration": 0.116562,
     "end_time": "2022-08-21T19:39:22.372831",
     "exception": false,
     "start_time": "2022-08-21T19:39:22.256269",
     "status": "completed"
    },
    "tags": []
   },
   "outputs": [
    {
     "data": {
      "text/plain": [
       "Age             179\n",
       "RoomService     106\n",
       "FoodCourt       106\n",
       "ShoppingMall    103\n",
       "Spa             109\n",
       "VRDeck          106\n",
       "dtype: int64"
      ]
     },
     "execution_count": 31,
     "metadata": {},
     "output_type": "execute_result"
    }
   ],
   "source": [
    "trn_data[cols].isnull().sum()"
   ]
  },
  {
   "cell_type": "code",
   "execution_count": 32,
   "id": "ca98d7cb",
   "metadata": {
    "execution": {
     "iopub.execute_input": "2022-08-21T19:39:22.584081Z",
     "iopub.status.busy": "2022-08-21T19:39:22.583268Z",
     "iopub.status.idle": "2022-08-21T19:39:22.590325Z",
     "shell.execute_reply": "2022-08-21T19:39:22.589639Z"
    },
    "papermill": {
     "duration": 0.114429,
     "end_time": "2022-08-21T19:39:22.592375",
     "exception": false,
     "start_time": "2022-08-21T19:39:22.477946",
     "status": "completed"
    },
    "tags": []
   },
   "outputs": [
    {
     "data": {
      "text/plain": [
       "0       False\n",
       "1       False\n",
       "2        True\n",
       "3       False\n",
       "4       False\n",
       "        ...  \n",
       "8688     True\n",
       "8689    False\n",
       "8690    False\n",
       "8691    False\n",
       "8692    False\n",
       "Name: VIP, Length: 8693, dtype: object"
      ]
     },
     "execution_count": 32,
     "metadata": {},
     "output_type": "execute_result"
    }
   ],
   "source": [
    "trn_data['VIP']"
   ]
  },
  {
   "cell_type": "code",
   "execution_count": 33,
   "id": "18cddcb9",
   "metadata": {
    "execution": {
     "iopub.execute_input": "2022-08-21T19:39:22.800268Z",
     "iopub.status.busy": "2022-08-21T19:39:22.799647Z",
     "iopub.status.idle": "2022-08-21T19:39:22.806219Z",
     "shell.execute_reply": "2022-08-21T19:39:22.805137Z"
    },
    "papermill": {
     "duration": 0.113858,
     "end_time": "2022-08-21T19:39:22.808536",
     "exception": false,
     "start_time": "2022-08-21T19:39:22.694678",
     "status": "completed"
    },
    "tags": []
   },
   "outputs": [
    {
     "name": "stdout",
     "output_type": "stream",
     "text": [
      "CPU times: user 4 µs, sys: 1 µs, total: 5 µs\n",
      "Wall time: 7.63 µs\n"
     ]
    }
   ],
   "source": [
    "%%time\n",
    "object_cols = ['HomePlanet','CryoSleep','Cabin','Destination','VIP','Name']\n",
    "\n",
    "# Create a fill missing values function using the Simple Imputer\n",
    "def ml_imputer(df, cols, object_cols):\n",
    "    '''\n",
    "    \n",
    "    '''\n",
    "    tmp = df.copy(deep = True)\n",
    "    lgbm_imputer = LGBMImputer(cat_features = object_cols, n_iter = 50)\n",
    "    tmp[cols] = lgbm_imputer.fit_transform(tmp[cols])\n",
    "    print('...........', '\\n')\n",
    "    return tmp"
   ]
  },
  {
   "cell_type": "code",
   "execution_count": 34,
   "id": "11b91b18",
   "metadata": {
    "execution": {
     "iopub.execute_input": "2022-08-21T19:39:23.030239Z",
     "iopub.status.busy": "2022-08-21T19:39:23.029991Z",
     "iopub.status.idle": "2022-08-21T19:39:23.966640Z",
     "shell.execute_reply": "2022-08-21T19:39:23.965897Z"
    },
    "papermill": {
     "duration": 1.053644,
     "end_time": "2022-08-21T19:39:23.969689",
     "exception": false,
     "start_time": "2022-08-21T19:39:22.916045",
     "status": "completed"
    },
    "tags": []
   },
   "outputs": [
    {
     "data": {
      "application/vnd.jupyter.widget-view+json": {
       "model_id": "4771364ca5604beba1b005abd89fd8e2",
       "version_major": 2,
       "version_minor": 0
      },
      "text/plain": [
       "  0%|          | 0/6 [00:00<?, ?it/s]"
      ]
     },
     "metadata": {},
     "output_type": "display_data"
    },
    {
     "name": "stdout",
     "output_type": "stream",
     "text": [
      "........... \n",
      "\n"
     ]
    },
    {
     "data": {
      "application/vnd.jupyter.widget-view+json": {
       "model_id": "8b50f933e1f340aea9dd2b9b20cf9cf3",
       "version_major": 2,
       "version_minor": 0
      },
      "text/plain": [
       "  0%|          | 0/6 [00:00<?, ?it/s]"
      ]
     },
     "metadata": {},
     "output_type": "display_data"
    },
    {
     "name": "stdout",
     "output_type": "stream",
     "text": [
      "........... \n",
      "\n",
      "CPU times: user 1.72 s, sys: 17.3 ms, total: 1.74 s\n",
      "Wall time: 932 ms\n"
     ]
    }
   ],
   "source": [
    "%%time\n",
    "trn_data = ml_imputer(trn_data, cols, object_cols)\n",
    "tst_data = ml_imputer(tst_data, cols, object_cols)"
   ]
  },
  {
   "cell_type": "code",
   "execution_count": 35,
   "id": "a4800e63",
   "metadata": {
    "execution": {
     "iopub.execute_input": "2022-08-21T19:39:24.222705Z",
     "iopub.status.busy": "2022-08-21T19:39:24.222462Z",
     "iopub.status.idle": "2022-08-21T19:39:24.235445Z",
     "shell.execute_reply": "2022-08-21T19:39:24.234692Z"
    },
    "papermill": {
     "duration": 0.132523,
     "end_time": "2022-08-21T19:39:24.237212",
     "exception": false,
     "start_time": "2022-08-21T19:39:24.104689",
     "status": "completed"
    },
    "tags": []
   },
   "outputs": [
    {
     "data": {
      "text/plain": [
       "PassengerId         0\n",
       "HomePlanet        201\n",
       "CryoSleep         217\n",
       "Destination       182\n",
       "Age                 0\n",
       "VIP               203\n",
       "RoomService         0\n",
       "FoodCourt           0\n",
       "ShoppingMall        0\n",
       "Spa                 0\n",
       "VRDeck              0\n",
       "Transported         0\n",
       "AgeGroup            0\n",
       "CabinDeck         199\n",
       "CabinNum          199\n",
       "CabinSide         199\n",
       "FirstName         200\n",
       "FamilyName        200\n",
       "TravelGroup         0\n",
       "TravelGroupPos      0\n",
       "dtype: int64"
      ]
     },
     "execution_count": 35,
     "metadata": {},
     "output_type": "execute_result"
    }
   ],
   "source": [
    "trn_data.isnull().sum()"
   ]
  },
  {
   "cell_type": "markdown",
   "id": "b5c79d78",
   "metadata": {
    "papermill": {
     "duration": 0.105781,
     "end_time": "2022-08-21T19:39:24.449992",
     "exception": false,
     "start_time": "2022-08-21T19:39:24.344211",
     "status": "completed"
    },
    "tags": []
   },
   "source": [
    "---"
   ]
  },
  {
   "cell_type": "markdown",
   "id": "8df5d11f",
   "metadata": {
    "papermill": {
     "duration": 0.107112,
     "end_time": "2022-08-21T19:39:24.663673",
     "exception": false,
     "start_time": "2022-08-21T19:39:24.556561",
     "status": "completed"
    },
    "tags": []
   },
   "source": [
    "## 6.4 Filling NaNs by Mode and Mean (Using Groups)"
   ]
  },
  {
   "cell_type": "code",
   "execution_count": 36,
   "id": "92e721f5",
   "metadata": {
    "execution": {
     "iopub.execute_input": "2022-08-21T19:39:24.879661Z",
     "iopub.status.busy": "2022-08-21T19:39:24.879390Z",
     "iopub.status.idle": "2022-08-21T19:39:24.898021Z",
     "shell.execute_reply": "2022-08-21T19:39:24.897353Z"
    },
    "papermill": {
     "duration": 0.129056,
     "end_time": "2022-08-21T19:39:24.899779",
     "exception": false,
     "start_time": "2022-08-21T19:39:24.770723",
     "status": "completed"
    },
    "tags": []
   },
   "outputs": [
    {
     "data": {
      "text/html": [
       "<div>\n",
       "<style scoped>\n",
       "    .dataframe tbody tr th:only-of-type {\n",
       "        vertical-align: middle;\n",
       "    }\n",
       "\n",
       "    .dataframe tbody tr th {\n",
       "        vertical-align: top;\n",
       "    }\n",
       "\n",
       "    .dataframe thead th {\n",
       "        text-align: right;\n",
       "    }\n",
       "</style>\n",
       "<table border=\"1\" class=\"dataframe\">\n",
       "  <thead>\n",
       "    <tr style=\"text-align: right;\">\n",
       "      <th></th>\n",
       "      <th>PassengerId</th>\n",
       "      <th>HomePlanet</th>\n",
       "      <th>CryoSleep</th>\n",
       "      <th>Destination</th>\n",
       "      <th>...</th>\n",
       "      <th>FirstName</th>\n",
       "      <th>FamilyName</th>\n",
       "      <th>TravelGroup</th>\n",
       "      <th>TravelGroupPos</th>\n",
       "    </tr>\n",
       "  </thead>\n",
       "  <tbody>\n",
       "    <tr>\n",
       "      <th>2726</th>\n",
       "      <td>2926_01</td>\n",
       "      <td>Mars</td>\n",
       "      <td>False</td>\n",
       "      <td>TRAPPIST-1e</td>\n",
       "      <td>...</td>\n",
       "      <td>Kad</td>\n",
       "      <td>Homin</td>\n",
       "      <td>2926</td>\n",
       "      <td>01</td>\n",
       "    </tr>\n",
       "  </tbody>\n",
       "</table>\n",
       "<p>1 rows × 20 columns</p>\n",
       "</div>"
      ],
      "text/plain": [
       "     PassengerId HomePlanet CryoSleep  Destination  ...  FirstName FamilyName  \\\n",
       "2726     2926_01       Mars     False  TRAPPIST-1e  ...        Kad      Homin   \n",
       "\n",
       "      TravelGroup  TravelGroupPos  \n",
       "2726         2926              01  \n",
       "\n",
       "[1 rows x 20 columns]"
      ]
     },
     "execution_count": 36,
     "metadata": {},
     "output_type": "execute_result"
    }
   ],
   "source": [
    "trn_data[trn_data['TravelGroup'] == '2926']"
   ]
  },
  {
   "cell_type": "code",
   "execution_count": 37,
   "id": "243bc320",
   "metadata": {
    "execution": {
     "iopub.execute_input": "2022-08-21T19:39:25.116013Z",
     "iopub.status.busy": "2022-08-21T19:39:25.115402Z",
     "iopub.status.idle": "2022-08-21T19:39:25.133978Z",
     "shell.execute_reply": "2022-08-21T19:39:25.133168Z"
    },
    "papermill": {
     "duration": 0.129345,
     "end_time": "2022-08-21T19:39:25.135728",
     "exception": false,
     "start_time": "2022-08-21T19:39:25.006383",
     "status": "completed"
    },
    "tags": []
   },
   "outputs": [
    {
     "data": {
      "text/html": [
       "<div>\n",
       "<style scoped>\n",
       "    .dataframe tbody tr th:only-of-type {\n",
       "        vertical-align: middle;\n",
       "    }\n",
       "\n",
       "    .dataframe tbody tr th {\n",
       "        vertical-align: top;\n",
       "    }\n",
       "\n",
       "    .dataframe thead th {\n",
       "        text-align: right;\n",
       "    }\n",
       "</style>\n",
       "<table border=\"1\" class=\"dataframe\">\n",
       "  <thead>\n",
       "    <tr style=\"text-align: right;\">\n",
       "      <th></th>\n",
       "      <th>TravelGroup</th>\n",
       "      <th>CabinDeck</th>\n",
       "    </tr>\n",
       "  </thead>\n",
       "  <tbody>\n",
       "    <tr>\n",
       "      <th>2052</th>\n",
       "      <td>3060</td>\n",
       "      <td>3</td>\n",
       "    </tr>\n",
       "    <tr>\n",
       "      <th>623</th>\n",
       "      <td>0938</td>\n",
       "      <td>3</td>\n",
       "    </tr>\n",
       "    <tr>\n",
       "      <th>4370</th>\n",
       "      <td>6468</td>\n",
       "      <td>3</td>\n",
       "    </tr>\n",
       "    <tr>\n",
       "      <th>4278</th>\n",
       "      <td>6334</td>\n",
       "      <td>3</td>\n",
       "    </tr>\n",
       "    <tr>\n",
       "      <th>2611</th>\n",
       "      <td>3911</td>\n",
       "      <td>3</td>\n",
       "    </tr>\n",
       "    <tr>\n",
       "      <th>...</th>\n",
       "      <td>...</td>\n",
       "      <td>...</td>\n",
       "    </tr>\n",
       "    <tr>\n",
       "      <th>1964</th>\n",
       "      <td>2926</td>\n",
       "      <td>0</td>\n",
       "    </tr>\n",
       "    <tr>\n",
       "      <th>1950</th>\n",
       "      <td>2900</td>\n",
       "      <td>0</td>\n",
       "    </tr>\n",
       "    <tr>\n",
       "      <th>4995</th>\n",
       "      <td>7429</td>\n",
       "      <td>0</td>\n",
       "    </tr>\n",
       "    <tr>\n",
       "      <th>349</th>\n",
       "      <td>0525</td>\n",
       "      <td>0</td>\n",
       "    </tr>\n",
       "    <tr>\n",
       "      <th>2411</th>\n",
       "      <td>3598</td>\n",
       "      <td>0</td>\n",
       "    </tr>\n",
       "  </tbody>\n",
       "</table>\n",
       "<p>6217 rows × 2 columns</p>\n",
       "</div>"
      ],
      "text/plain": [
       "     TravelGroup  CabinDeck\n",
       "2052        3060          3\n",
       "623         0938          3\n",
       "4370        6468          3\n",
       "4278        6334          3\n",
       "2611        3911          3\n",
       "...          ...        ...\n",
       "1964        2926          0\n",
       "1950        2900          0\n",
       "4995        7429          0\n",
       "349         0525          0\n",
       "2411        3598          0\n",
       "\n",
       "[6217 rows x 2 columns]"
      ]
     },
     "execution_count": 37,
     "metadata": {},
     "output_type": "execute_result"
    }
   ],
   "source": [
    "\n",
    "people_per_group = trn_data.groupby('TravelGroup')['CabinDeck'].nunique().reset_index()\n",
    "people_per_group.sort_values('CabinDeck', ascending=False)"
   ]
  },
  {
   "cell_type": "code",
   "execution_count": 38,
   "id": "07f8217e",
   "metadata": {
    "execution": {
     "iopub.execute_input": "2022-08-21T19:39:25.356013Z",
     "iopub.status.busy": "2022-08-21T19:39:25.355769Z",
     "iopub.status.idle": "2022-08-21T19:39:25.363391Z",
     "shell.execute_reply": "2022-08-21T19:39:25.362719Z"
    },
    "papermill": {
     "duration": 0.120443,
     "end_time": "2022-08-21T19:39:25.365331",
     "exception": false,
     "start_time": "2022-08-21T19:39:25.244888",
     "status": "completed"
    },
    "tags": []
   },
   "outputs": [
    {
     "data": {
      "text/plain": [
       "TravelGroup    9280\n",
       "CabinDeck         3\n",
       "dtype: object"
      ]
     },
     "execution_count": 38,
     "metadata": {},
     "output_type": "execute_result"
    }
   ],
   "source": [
    "people_per_group.max()"
   ]
  },
  {
   "cell_type": "code",
   "execution_count": 39,
   "id": "629942ad",
   "metadata": {
    "execution": {
     "iopub.execute_input": "2022-08-21T19:39:25.584914Z",
     "iopub.status.busy": "2022-08-21T19:39:25.584134Z",
     "iopub.status.idle": "2022-08-21T19:39:25.591275Z",
     "shell.execute_reply": "2022-08-21T19:39:25.590551Z"
    },
    "papermill": {
     "duration": 0.119558,
     "end_time": "2022-08-21T19:39:25.593979",
     "exception": false,
     "start_time": "2022-08-21T19:39:25.474421",
     "status": "completed"
    },
    "tags": []
   },
   "outputs": [
    {
     "name": "stdout",
     "output_type": "stream",
     "text": [
      "CPU times: user 4 µs, sys: 0 ns, total: 4 µs\n",
      "Wall time: 7.39 µs\n"
     ]
    }
   ],
   "source": [
    "%%time\n",
    "def fill_missing(df, group = 'TravelGroup',):\n",
    "    '''\n",
    "    Fill NaNs values or with mean or most commond value...\n",
    "    \n",
    "    '''\n",
    "    \n",
    "    tmp = df.copy()\n",
    "    tmp = tpm[tmp[group].ising()]\n",
    "    \n",
    "    numerics = ['int16', 'int32', 'int64', 'float16', 'float32', 'float64']\n",
    "    \n",
    "    numeric_tmp = df.select_dtypes(include = numerics)\n",
    "    categ_tmp = df.select_dtypes(exclude = numerics)\n",
    "    \n",
    "\n",
    "    for col in numeric_tmp.columns:\n",
    "        print(col)\n",
    "        #df[col] = df[col].fillna(value = df[col].mean())\n",
    "        df[col] = df[col].fillna(df.groupby(group)[col].transform('mean'))\n",
    "        \n",
    "    for col in categ_tmp.columns:\n",
    "        print(col)\n",
    "        #df[col] = df[col].fillna(value = df[col].mode()[0])\n",
    "        #df[col] = df[col].fillna(df.groupby(group)[col].transform(lambda S: S.mode()[0]))\n",
    "        df[col] = (df.groupby(group)[col].transform(lambda x: x.value_counts().idxmax()))\n",
    "    print('...')\n",
    "    \n",
    "    return df"
   ]
  },
  {
   "cell_type": "code",
   "execution_count": 40,
   "id": "64ff3dd9",
   "metadata": {
    "execution": {
     "iopub.execute_input": "2022-08-21T19:39:25.814072Z",
     "iopub.status.busy": "2022-08-21T19:39:25.813446Z",
     "iopub.status.idle": "2022-08-21T19:39:25.818866Z",
     "shell.execute_reply": "2022-08-21T19:39:25.818039Z"
    },
    "papermill": {
     "duration": 0.117256,
     "end_time": "2022-08-21T19:39:25.821246",
     "exception": false,
     "start_time": "2022-08-21T19:39:25.703990",
     "status": "completed"
    },
    "tags": []
   },
   "outputs": [
    {
     "name": "stdout",
     "output_type": "stream",
     "text": [
      "CPU times: user 3 µs, sys: 0 ns, total: 3 µs\n",
      "Wall time: 6.2 µs\n"
     ]
    }
   ],
   "source": [
    "%%time\n",
    "#trn_data =  fill_missing(trn_data)\n",
    "#tst_data =  fill_missing(tst_data)"
   ]
  },
  {
   "cell_type": "markdown",
   "id": "4e957e67",
   "metadata": {
    "papermill": {
     "duration": 0.110312,
     "end_time": "2022-08-21T19:39:26.041046",
     "exception": false,
     "start_time": "2022-08-21T19:39:25.930734",
     "status": "completed"
    },
    "tags": []
   },
   "source": [
    "## 6.4 Filling NaNs by Mode and Mean"
   ]
  },
  {
   "cell_type": "code",
   "execution_count": 41,
   "id": "e32010de",
   "metadata": {
    "execution": {
     "iopub.execute_input": "2022-08-21T19:39:26.259845Z",
     "iopub.status.busy": "2022-08-21T19:39:26.259129Z",
     "iopub.status.idle": "2022-08-21T19:39:26.266240Z",
     "shell.execute_reply": "2022-08-21T19:39:26.265377Z"
    },
    "papermill": {
     "duration": 0.119916,
     "end_time": "2022-08-21T19:39:26.269040",
     "exception": false,
     "start_time": "2022-08-21T19:39:26.149124",
     "status": "completed"
    },
    "tags": []
   },
   "outputs": [
    {
     "name": "stdout",
     "output_type": "stream",
     "text": [
      "CPU times: user 8 µs, sys: 1e+03 ns, total: 9 µs\n",
      "Wall time: 12.6 µs\n"
     ]
    }
   ],
   "source": [
    "%%time\n",
    "def fill_missing(df):\n",
    "    '''\n",
    "    Fill NaNs values or with mean or most commond value...\n",
    "    \n",
    "    '''\n",
    "    \n",
    "    numerics = ['int16', 'int32', 'int64', 'float16', 'float32', 'float64']\n",
    "    \n",
    "    numeric_tmp = df.select_dtypes(include = numerics)\n",
    "    categ_tmp = df.select_dtypes(exclude = numerics)\n",
    "\n",
    "    for col in numeric_tmp.columns:\n",
    "        print(col)\n",
    "        df[col] = df[col].fillna(value = df[col].mean())\n",
    "        \n",
    "    for col in categ_tmp.columns:\n",
    "        print(col)\n",
    "        df[col] = df[col].fillna(value = df[col].mode()[0])\n",
    "        \n",
    "    print('...')\n",
    "    \n",
    "    return df"
   ]
  },
  {
   "cell_type": "code",
   "execution_count": 42,
   "id": "43d95ddc",
   "metadata": {
    "execution": {
     "iopub.execute_input": "2022-08-21T19:39:26.491103Z",
     "iopub.status.busy": "2022-08-21T19:39:26.490853Z",
     "iopub.status.idle": "2022-08-21T19:39:26.570127Z",
     "shell.execute_reply": "2022-08-21T19:39:26.569233Z"
    },
    "papermill": {
     "duration": 0.192454,
     "end_time": "2022-08-21T19:39:26.572564",
     "exception": false,
     "start_time": "2022-08-21T19:39:26.380110",
     "status": "completed"
    },
    "tags": []
   },
   "outputs": [
    {
     "name": "stdout",
     "output_type": "stream",
     "text": [
      "Age\n",
      "RoomService\n",
      "FoodCourt\n",
      "ShoppingMall\n",
      "Spa\n",
      "VRDeck\n",
      "AgeGroup\n",
      "PassengerId\n",
      "HomePlanet\n",
      "CryoSleep\n",
      "Destination\n",
      "VIP\n",
      "Transported\n",
      "CabinDeck\n",
      "CabinNum\n",
      "CabinSide\n",
      "FirstName\n",
      "FamilyName\n",
      "TravelGroup\n",
      "TravelGroupPos\n",
      "...\n",
      "Age\n",
      "RoomService\n",
      "FoodCourt\n",
      "ShoppingMall\n",
      "Spa\n",
      "VRDeck\n",
      "AgeGroup\n",
      "PassengerId\n",
      "HomePlanet\n",
      "CryoSleep\n",
      "Destination\n",
      "VIP\n",
      "CabinDeck\n",
      "CabinNum\n",
      "CabinSide\n",
      "FirstName\n",
      "FamilyName\n",
      "TravelGroup\n",
      "TravelGroupPos\n",
      "...\n",
      "CPU times: user 77.4 ms, sys: 2.1 ms, total: 79.5 ms\n",
      "Wall time: 72.2 ms\n"
     ]
    }
   ],
   "source": [
    "%%time\n",
    "trn_data =  fill_missing(trn_data)\n",
    "tst_data =  fill_missing(tst_data)"
   ]
  },
  {
   "cell_type": "code",
   "execution_count": 43,
   "id": "104459ba",
   "metadata": {
    "execution": {
     "iopub.execute_input": "2022-08-21T19:39:26.792735Z",
     "iopub.status.busy": "2022-08-21T19:39:26.792480Z",
     "iopub.status.idle": "2022-08-21T19:39:26.804512Z",
     "shell.execute_reply": "2022-08-21T19:39:26.803818Z"
    },
    "papermill": {
     "duration": 0.123839,
     "end_time": "2022-08-21T19:39:26.806207",
     "exception": false,
     "start_time": "2022-08-21T19:39:26.682368",
     "status": "completed"
    },
    "tags": []
   },
   "outputs": [
    {
     "data": {
      "text/plain": [
       "PassengerId       0\n",
       "HomePlanet        0\n",
       "CryoSleep         0\n",
       "Destination       0\n",
       "Age               0\n",
       "VIP               0\n",
       "RoomService       0\n",
       "FoodCourt         0\n",
       "ShoppingMall      0\n",
       "Spa               0\n",
       "VRDeck            0\n",
       "Transported       0\n",
       "AgeGroup          0\n",
       "CabinDeck         0\n",
       "CabinNum          0\n",
       "CabinSide         0\n",
       "FirstName         0\n",
       "FamilyName        0\n",
       "TravelGroup       0\n",
       "TravelGroupPos    0\n",
       "dtype: int64"
      ]
     },
     "execution_count": 43,
     "metadata": {},
     "output_type": "execute_result"
    }
   ],
   "source": [
    "trn_data.isnull().sum()"
   ]
  },
  {
   "cell_type": "markdown",
   "id": "d9bc8477",
   "metadata": {
    "papermill": {
     "duration": 0.117846,
     "end_time": "2022-08-21T19:39:27.036910",
     "exception": false,
     "start_time": "2022-08-21T19:39:26.919064",
     "status": "completed"
    },
    "tags": []
   },
   "source": [
    "## 6.5 Calculating Total Expended in the Ship"
   ]
  },
  {
   "cell_type": "code",
   "execution_count": 44,
   "id": "c8bb9268",
   "metadata": {
    "execution": {
     "iopub.execute_input": "2022-08-21T19:39:27.255908Z",
     "iopub.status.busy": "2022-08-21T19:39:27.255660Z",
     "iopub.status.idle": "2022-08-21T19:39:27.260941Z",
     "shell.execute_reply": "2022-08-21T19:39:27.260254Z"
    },
    "papermill": {
     "duration": 0.116915,
     "end_time": "2022-08-21T19:39:27.263249",
     "exception": false,
     "start_time": "2022-08-21T19:39:27.146334",
     "status": "completed"
    },
    "tags": []
   },
   "outputs": [
    {
     "name": "stdout",
     "output_type": "stream",
     "text": [
      "CPU times: user 5 µs, sys: 0 ns, total: 5 µs\n",
      "Wall time: 8.34 µs\n"
     ]
    }
   ],
   "source": [
    "%%time\n",
    "def total_billed(df):\n",
    "    '''\n",
    "    Calculates total amount billed in the trip to the passenger... \n",
    "    Args:\n",
    "    Returns:\n",
    "    \n",
    "    '''\n",
    "    \n",
    "    df['TotalBilled'] = df['RoomService'] + df['FoodCourt'] + df['ShoppingMall'] + df['Spa'] + df['VRDeck']\n",
    "    return df"
   ]
  },
  {
   "cell_type": "code",
   "execution_count": 45,
   "id": "d55dc4d2",
   "metadata": {
    "execution": {
     "iopub.execute_input": "2022-08-21T19:39:27.486345Z",
     "iopub.status.busy": "2022-08-21T19:39:27.486106Z",
     "iopub.status.idle": "2022-08-21T19:39:27.495192Z",
     "shell.execute_reply": "2022-08-21T19:39:27.494341Z"
    },
    "papermill": {
     "duration": 0.122751,
     "end_time": "2022-08-21T19:39:27.497047",
     "exception": false,
     "start_time": "2022-08-21T19:39:27.374296",
     "status": "completed"
    },
    "tags": []
   },
   "outputs": [
    {
     "name": "stdout",
     "output_type": "stream",
     "text": [
      "CPU times: user 5.08 ms, sys: 134 µs, total: 5.21 ms\n",
      "Wall time: 4.7 ms\n"
     ]
    }
   ],
   "source": [
    "%%time\n",
    "trn_data = total_billed(trn_data)\n",
    "tst_data = total_billed(tst_data)"
   ]
  },
  {
   "cell_type": "markdown",
   "id": "b0dfd73d",
   "metadata": {
    "papermill": {
     "duration": 0.10877,
     "end_time": "2022-08-21T19:39:27.717054",
     "exception": false,
     "start_time": "2022-08-21T19:39:27.608284",
     "status": "completed"
    },
    "tags": []
   },
   "source": [
    "## 6.6 Filling NaNs by Using EDA Insights (TotalBilled)"
   ]
  },
  {
   "cell_type": "code",
   "execution_count": 46,
   "id": "b2385aef",
   "metadata": {
    "execution": {
     "iopub.execute_input": "2022-08-21T19:39:27.957981Z",
     "iopub.status.busy": "2022-08-21T19:39:27.957721Z",
     "iopub.status.idle": "2022-08-21T19:39:27.970653Z",
     "shell.execute_reply": "2022-08-21T19:39:27.966965Z"
    },
    "papermill": {
     "duration": 0.147207,
     "end_time": "2022-08-21T19:39:27.973698",
     "exception": false,
     "start_time": "2022-08-21T19:39:27.826491",
     "status": "completed"
    },
    "tags": []
   },
   "outputs": [
    {
     "name": "stdout",
     "output_type": "stream",
     "text": [
      "CPU times: user 6 µs, sys: 1e+03 ns, total: 7 µs\n",
      "Wall time: 11.2 µs\n"
     ]
    }
   ],
   "source": [
    "%%time\n",
    "def fill_nans_by_totalspend(df):\n",
    "    df['CryoSleep'] = np.where(df['TotalBilled'] > 0, False, df['CryoSleep'])\n",
    "    return df"
   ]
  },
  {
   "cell_type": "code",
   "execution_count": 47,
   "id": "e8585224",
   "metadata": {
    "execution": {
     "iopub.execute_input": "2022-08-21T19:39:28.346088Z",
     "iopub.status.busy": "2022-08-21T19:39:28.345768Z",
     "iopub.status.idle": "2022-08-21T19:39:28.355301Z",
     "shell.execute_reply": "2022-08-21T19:39:28.354588Z"
    },
    "papermill": {
     "duration": 0.186312,
     "end_time": "2022-08-21T19:39:28.357595",
     "exception": false,
     "start_time": "2022-08-21T19:39:28.171283",
     "status": "completed"
    },
    "tags": []
   },
   "outputs": [
    {
     "name": "stdout",
     "output_type": "stream",
     "text": [
      "CPU times: user 2.17 ms, sys: 18 µs, total: 2.18 ms\n",
      "Wall time: 2.11 ms\n"
     ]
    }
   ],
   "source": [
    "%%time\n",
    "trn_data =  fill_nans_by_totalspend(trn_data)\n",
    "tst_data =  fill_nans_by_totalspend(tst_data)"
   ]
  },
  {
   "cell_type": "markdown",
   "id": "46b3f0cc",
   "metadata": {
    "papermill": {
     "duration": 0.112628,
     "end_time": "2022-08-21T19:39:28.641391",
     "exception": false,
     "start_time": "2022-08-21T19:39:28.528763",
     "status": "completed"
    },
    "tags": []
   },
   "source": [
    "---"
   ]
  },
  {
   "cell_type": "markdown",
   "id": "f396e866",
   "metadata": {
    "papermill": {
     "duration": 0.110269,
     "end_time": "2022-08-21T19:39:28.862446",
     "exception": false,
     "start_time": "2022-08-21T19:39:28.752177",
     "status": "completed"
    },
    "tags": []
   },
   "source": [
    "## 6.11 Calculating Aggregated Features, Based on Cabin Deck"
   ]
  },
  {
   "cell_type": "code",
   "execution_count": 48,
   "id": "7df3fdb6",
   "metadata": {
    "execution": {
     "iopub.execute_input": "2022-08-21T19:39:29.083356Z",
     "iopub.status.busy": "2022-08-21T19:39:29.083061Z",
     "iopub.status.idle": "2022-08-21T19:39:29.103341Z",
     "shell.execute_reply": "2022-08-21T19:39:29.102421Z"
    },
    "papermill": {
     "duration": 0.13293,
     "end_time": "2022-08-21T19:39:29.105192",
     "exception": false,
     "start_time": "2022-08-21T19:39:28.972262",
     "status": "completed"
    },
    "tags": []
   },
   "outputs": [
    {
     "name": "stdout",
     "output_type": "stream",
     "text": [
      "CPU times: user 7.73 ms, sys: 864 µs, total: 8.59 ms\n",
      "Wall time: 8.03 ms\n"
     ]
    },
    {
     "data": {
      "text/html": [
       "<div>\n",
       "<style scoped>\n",
       "    .dataframe tbody tr th:only-of-type {\n",
       "        vertical-align: middle;\n",
       "    }\n",
       "\n",
       "    .dataframe tbody tr th {\n",
       "        vertical-align: top;\n",
       "    }\n",
       "\n",
       "    .dataframe thead th {\n",
       "        text-align: right;\n",
       "    }\n",
       "</style>\n",
       "<table border=\"1\" class=\"dataframe\">\n",
       "  <thead>\n",
       "    <tr style=\"text-align: right;\">\n",
       "      <th></th>\n",
       "      <th>CabinDeck</th>\n",
       "      <th>TotalBilled</th>\n",
       "      <th>Transported</th>\n",
       "      <th>CryoSleep</th>\n",
       "      <th>PassengerId</th>\n",
       "      <th>AvgSpended</th>\n",
       "      <th>TransportedPercentage</th>\n",
       "      <th>CryoSleepPercentage</th>\n",
       "    </tr>\n",
       "  </thead>\n",
       "  <tbody>\n",
       "    <tr>\n",
       "      <th>7</th>\n",
       "      <td>T</td>\n",
       "      <td>23,658.93</td>\n",
       "      <td>1</td>\n",
       "      <td>0</td>\n",
       "      <td>5</td>\n",
       "      <td>4,731.79</td>\n",
       "      <td>0.20</td>\n",
       "      <td>0.00</td>\n",
       "    </tr>\n",
       "    <tr>\n",
       "      <th>2</th>\n",
       "      <td>C</td>\n",
       "      <td>3,087,053.69</td>\n",
       "      <td>508</td>\n",
       "      <td>294</td>\n",
       "      <td>747</td>\n",
       "      <td>4,132.60</td>\n",
       "      <td>0.68</td>\n",
       "      <td>0.39</td>\n",
       "    </tr>\n",
       "    <tr>\n",
       "      <th>0</th>\n",
       "      <td>A</td>\n",
       "      <td>872,932.97</td>\n",
       "      <td>127</td>\n",
       "      <td>68</td>\n",
       "      <td>256</td>\n",
       "      <td>3,409.89</td>\n",
       "      <td>0.50</td>\n",
       "      <td>0.27</td>\n",
       "    </tr>\n",
       "    <tr>\n",
       "      <th>1</th>\n",
       "      <td>B</td>\n",
       "      <td>2,271,711.04</td>\n",
       "      <td>572</td>\n",
       "      <td>419</td>\n",
       "      <td>779</td>\n",
       "      <td>2,916.19</td>\n",
       "      <td>0.73</td>\n",
       "      <td>0.54</td>\n",
       "    </tr>\n",
       "    <tr>\n",
       "      <th>3</th>\n",
       "      <td>D</td>\n",
       "      <td>1,101,717.59</td>\n",
       "      <td>207</td>\n",
       "      <td>104</td>\n",
       "      <td>478</td>\n",
       "      <td>2,304.85</td>\n",
       "      <td>0.43</td>\n",
       "      <td>0.22</td>\n",
       "    </tr>\n",
       "    <tr>\n",
       "      <th>4</th>\n",
       "      <td>E</td>\n",
       "      <td>1,145,011.99</td>\n",
       "      <td>313</td>\n",
       "      <td>168</td>\n",
       "      <td>876</td>\n",
       "      <td>1,307.09</td>\n",
       "      <td>0.36</td>\n",
       "      <td>0.19</td>\n",
       "    </tr>\n",
       "    <tr>\n",
       "      <th>5</th>\n",
       "      <td>F</td>\n",
       "      <td>3,089,266.40</td>\n",
       "      <td>1329</td>\n",
       "      <td>634</td>\n",
       "      <td>2993</td>\n",
       "      <td>1,032.16</td>\n",
       "      <td>0.44</td>\n",
       "      <td>0.21</td>\n",
       "    </tr>\n",
       "    <tr>\n",
       "      <th>6</th>\n",
       "      <td>G</td>\n",
       "      <td>1,008,888.44</td>\n",
       "      <td>1321</td>\n",
       "      <td>1350</td>\n",
       "      <td>2559</td>\n",
       "      <td>394.25</td>\n",
       "      <td>0.52</td>\n",
       "      <td>0.53</td>\n",
       "    </tr>\n",
       "  </tbody>\n",
       "</table>\n",
       "</div>"
      ],
      "text/plain": [
       "  CabinDeck  TotalBilled  Transported  CryoSleep  PassengerId  AvgSpended  \\\n",
       "7         T    23,658.93            1          0            5    4,731.79   \n",
       "2         C 3,087,053.69          508        294          747    4,132.60   \n",
       "0         A   872,932.97          127         68          256    3,409.89   \n",
       "1         B 2,271,711.04          572        419          779    2,916.19   \n",
       "3         D 1,101,717.59          207        104          478    2,304.85   \n",
       "4         E 1,145,011.99          313        168          876    1,307.09   \n",
       "5         F 3,089,266.40         1329        634         2993    1,032.16   \n",
       "6         G 1,008,888.44         1321       1350         2559      394.25   \n",
       "\n",
       "   TransportedPercentage  CryoSleepPercentage  \n",
       "7                   0.20                 0.00  \n",
       "2                   0.68                 0.39  \n",
       "0                   0.50                 0.27  \n",
       "1                   0.73                 0.54  \n",
       "3                   0.43                 0.22  \n",
       "4                   0.36                 0.19  \n",
       "5                   0.44                 0.21  \n",
       "6                   0.52                 0.53  "
      ]
     },
     "execution_count": 48,
     "metadata": {},
     "output_type": "execute_result"
    }
   ],
   "source": [
    "%%time\n",
    "Weltiest_Deck = trn_data.groupby('CabinDeck').aggregate({'TotalBilled': 'sum', 'Transported': 'sum', 'CryoSleep': 'sum', 'PassengerId': 'size'}).reset_index()\n",
    "Weltiest_Deck['AvgSpended'] = Weltiest_Deck['TotalBilled'] / Weltiest_Deck['PassengerId']\n",
    "Weltiest_Deck['TransportedPercentage'] = Weltiest_Deck['Transported'] / Weltiest_Deck['PassengerId']\n",
    "Weltiest_Deck['CryoSleepPercentage'] = Weltiest_Deck['CryoSleep'] / Weltiest_Deck['PassengerId']\n",
    "Weltiest_Deck = Weltiest_Deck.sort_values('AvgSpended', ascending = False)\n",
    "Weltiest_Deck.head(10)"
   ]
  },
  {
   "cell_type": "code",
   "execution_count": 49,
   "id": "8f9c4595",
   "metadata": {
    "execution": {
     "iopub.execute_input": "2022-08-21T19:39:29.396941Z",
     "iopub.status.busy": "2022-08-21T19:39:29.396617Z",
     "iopub.status.idle": "2022-08-21T19:39:29.453259Z",
     "shell.execute_reply": "2022-08-21T19:39:29.452297Z"
    },
    "papermill": {
     "duration": 0.238033,
     "end_time": "2022-08-21T19:39:29.455611",
     "exception": false,
     "start_time": "2022-08-21T19:39:29.217578",
     "status": "completed"
    },
    "tags": []
   },
   "outputs": [
    {
     "name": "stdout",
     "output_type": "stream",
     "text": [
      "CPU times: user 27 ms, sys: 476 µs, total: 27.4 ms\n",
      "Wall time: 50.3 ms\n"
     ]
    }
   ],
   "source": [
    "%%time\n",
    "trn_data = trn_data.merge(Weltiest_Deck[['CabinDeck', 'TransportedPercentage', 'AvgSpended']], how = 'left', on = ['CabinDeck'])\n",
    "tst_data = tst_data.merge(Weltiest_Deck[['CabinDeck', 'TransportedPercentage', 'AvgSpended']], how = 'left', on = ['CabinDeck'])"
   ]
  },
  {
   "cell_type": "markdown",
   "id": "e637a670",
   "metadata": {
    "papermill": {
     "duration": 0.162107,
     "end_time": "2022-08-21T19:39:29.781001",
     "exception": false,
     "start_time": "2022-08-21T19:39:29.618894",
     "status": "completed"
    },
    "tags": []
   },
   "source": [
    "---"
   ]
  },
  {
   "cell_type": "markdown",
   "id": "888516ce",
   "metadata": {
    "papermill": {
     "duration": 0.157522,
     "end_time": "2022-08-21T19:39:30.112179",
     "exception": false,
     "start_time": "2022-08-21T19:39:29.954657",
     "status": "completed"
    },
    "tags": []
   },
   "source": [
    "## 6.12 Calulating the Number of Relatives, Using Family Name"
   ]
  },
  {
   "cell_type": "code",
   "execution_count": 50,
   "id": "776b1234",
   "metadata": {
    "execution": {
     "iopub.execute_input": "2022-08-21T19:39:30.433979Z",
     "iopub.status.busy": "2022-08-21T19:39:30.433716Z",
     "iopub.status.idle": "2022-08-21T19:39:30.456247Z",
     "shell.execute_reply": "2022-08-21T19:39:30.455125Z"
    },
    "papermill": {
     "duration": 0.187131,
     "end_time": "2022-08-21T19:39:30.459661",
     "exception": false,
     "start_time": "2022-08-21T19:39:30.272530",
     "status": "completed"
    },
    "tags": []
   },
   "outputs": [
    {
     "name": "stdout",
     "output_type": "stream",
     "text": [
      "CPU times: user 12.3 ms, sys: 0 ns, total: 12.3 ms\n",
      "Wall time: 16 ms\n"
     ]
    }
   ],
   "source": [
    "%%time\n",
    "trn_relatives = trn_data.groupby('FamilyName')['PassengerId'].count().reset_index()\n",
    "tst_relatives = tst_data.groupby('FamilyName')['PassengerId'].count().reset_index()"
   ]
  },
  {
   "cell_type": "code",
   "execution_count": 51,
   "id": "36494545",
   "metadata": {
    "execution": {
     "iopub.execute_input": "2022-08-21T19:39:30.741979Z",
     "iopub.status.busy": "2022-08-21T19:39:30.741281Z",
     "iopub.status.idle": "2022-08-21T19:39:30.747699Z",
     "shell.execute_reply": "2022-08-21T19:39:30.746967Z"
    },
    "papermill": {
     "duration": 0.128824,
     "end_time": "2022-08-21T19:39:30.750185",
     "exception": false,
     "start_time": "2022-08-21T19:39:30.621361",
     "status": "completed"
    },
    "tags": []
   },
   "outputs": [
    {
     "name": "stdout",
     "output_type": "stream",
     "text": [
      "CPU times: user 1.19 ms, sys: 23 µs, total: 1.21 ms\n",
      "Wall time: 1.14 ms\n"
     ]
    }
   ],
   "source": [
    "%%time\n",
    "trn_relatives = trn_relatives.rename(columns = {'PassengerId': 'NumRelatives'})\n",
    "tst_relatives = tst_relatives.rename(columns = {'PassengerId': 'NumRelatives'})"
   ]
  },
  {
   "cell_type": "code",
   "execution_count": 52,
   "id": "a2220650",
   "metadata": {
    "execution": {
     "iopub.execute_input": "2022-08-21T19:39:30.976352Z",
     "iopub.status.busy": "2022-08-21T19:39:30.975596Z",
     "iopub.status.idle": "2022-08-21T19:39:30.995200Z",
     "shell.execute_reply": "2022-08-21T19:39:30.994375Z"
    },
    "papermill": {
     "duration": 0.13652,
     "end_time": "2022-08-21T19:39:30.997503",
     "exception": false,
     "start_time": "2022-08-21T19:39:30.860983",
     "status": "completed"
    },
    "tags": []
   },
   "outputs": [
    {
     "name": "stdout",
     "output_type": "stream",
     "text": [
      "CPU times: user 14.3 ms, sys: 146 µs, total: 14.4 ms\n",
      "Wall time: 14.3 ms\n"
     ]
    }
   ],
   "source": [
    "%%time\n",
    "trn_data = trn_data.merge(trn_relatives[['FamilyName', 'NumRelatives']], how = 'left', on = ['FamilyName'])\n",
    "tst_data = tst_data.merge(tst_relatives[['FamilyName', 'NumRelatives']], how = 'left', on = ['FamilyName'])"
   ]
  },
  {
   "cell_type": "markdown",
   "id": "ec3cf2f2",
   "metadata": {
    "papermill": {
     "duration": 0.11203,
     "end_time": "2022-08-21T19:39:31.222915",
     "exception": false,
     "start_time": "2022-08-21T19:39:31.110885",
     "status": "completed"
    },
    "tags": []
   },
   "source": [
    "---"
   ]
  },
  {
   "cell_type": "markdown",
   "id": "993edd49",
   "metadata": {
    "papermill": {
     "duration": 0.115968,
     "end_time": "2022-08-21T19:39:31.449390",
     "exception": false,
     "start_time": "2022-08-21T19:39:31.333422",
     "status": "completed"
    },
    "tags": []
   },
   "source": [
    "## 6.13 Calulating the Number of People Traveling Together, Using Traveling Group**"
   ]
  },
  {
   "cell_type": "code",
   "execution_count": 53,
   "id": "943e4b10",
   "metadata": {
    "execution": {
     "iopub.execute_input": "2022-08-21T19:39:31.676477Z",
     "iopub.status.busy": "2022-08-21T19:39:31.675997Z",
     "iopub.status.idle": "2022-08-21T19:39:31.692081Z",
     "shell.execute_reply": "2022-08-21T19:39:31.691157Z"
    },
    "papermill": {
     "duration": 0.131691,
     "end_time": "2022-08-21T19:39:31.693989",
     "exception": false,
     "start_time": "2022-08-21T19:39:31.562298",
     "status": "completed"
    },
    "tags": []
   },
   "outputs": [
    {
     "name": "stdout",
     "output_type": "stream",
     "text": [
      "CPU times: user 11.5 ms, sys: 45 µs, total: 11.5 ms\n",
      "Wall time: 10.9 ms\n"
     ]
    }
   ],
   "source": [
    "%%time\n",
    "trn_relatives = trn_data.groupby('TravelGroup')['PassengerId'].count().reset_index()\n",
    "tst_relatives = tst_data.groupby('TravelGroup')['PassengerId'].count().reset_index()"
   ]
  },
  {
   "cell_type": "code",
   "execution_count": 54,
   "id": "13edcca6",
   "metadata": {
    "execution": {
     "iopub.execute_input": "2022-08-21T19:39:31.919744Z",
     "iopub.status.busy": "2022-08-21T19:39:31.919474Z",
     "iopub.status.idle": "2022-08-21T19:39:31.926614Z",
     "shell.execute_reply": "2022-08-21T19:39:31.925599Z"
    },
    "papermill": {
     "duration": 0.123565,
     "end_time": "2022-08-21T19:39:31.929972",
     "exception": false,
     "start_time": "2022-08-21T19:39:31.806407",
     "status": "completed"
    },
    "tags": []
   },
   "outputs": [
    {
     "name": "stdout",
     "output_type": "stream",
     "text": [
      "CPU times: user 782 µs, sys: 981 µs, total: 1.76 ms\n",
      "Wall time: 1.59 ms\n"
     ]
    }
   ],
   "source": [
    "%%time\n",
    "trn_relatives = trn_relatives.rename(columns = {'PassengerId': 'GroupSize'})\n",
    "tst_relatives = tst_relatives.rename(columns = {'PassengerId': 'GroupSize'})"
   ]
  },
  {
   "cell_type": "code",
   "execution_count": 55,
   "id": "31a0fcf7",
   "metadata": {
    "execution": {
     "iopub.execute_input": "2022-08-21T19:39:32.157749Z",
     "iopub.status.busy": "2022-08-21T19:39:32.157485Z",
     "iopub.status.idle": "2022-08-21T19:39:32.180690Z",
     "shell.execute_reply": "2022-08-21T19:39:32.179380Z"
    },
    "papermill": {
     "duration": 0.137975,
     "end_time": "2022-08-21T19:39:32.182510",
     "exception": false,
     "start_time": "2022-08-21T19:39:32.044535",
     "status": "completed"
    },
    "tags": []
   },
   "outputs": [
    {
     "name": "stdout",
     "output_type": "stream",
     "text": [
      "CPU times: user 17 ms, sys: 1.01 ms, total: 18 ms\n",
      "Wall time: 17.6 ms\n"
     ]
    }
   ],
   "source": [
    "%%time\n",
    "trn_data = trn_data.merge(trn_relatives[['TravelGroup', 'GroupSize']], how = 'left', on = ['TravelGroup'])\n",
    "tst_data = tst_data.merge(tst_relatives[['TravelGroup', 'GroupSize']], how = 'left', on = ['TravelGroup'])"
   ]
  },
  {
   "cell_type": "markdown",
   "id": "04b276f8",
   "metadata": {
    "papermill": {
     "duration": 0.115691,
     "end_time": "2022-08-21T19:39:32.412180",
     "exception": false,
     "start_time": "2022-08-21T19:39:32.296489",
     "status": "completed"
    },
    "tags": []
   },
   "source": [
    "---"
   ]
  },
  {
   "cell_type": "markdown",
   "id": "92556797",
   "metadata": {
    "papermill": {
     "duration": 0.112725,
     "end_time": "2022-08-21T19:39:32.638628",
     "exception": false,
     "start_time": "2022-08-21T19:39:32.525903",
     "status": "completed"
    },
    "tags": []
   },
   "source": [
    "# 7.0 Pre-Processing for Training"
   ]
  },
  {
   "cell_type": "markdown",
   "id": "800d2aec",
   "metadata": {
    "papermill": {
     "duration": 0.112504,
     "end_time": "2022-08-21T19:39:32.864946",
     "exception": false,
     "start_time": "2022-08-21T19:39:32.752442",
     "status": "completed"
    },
    "tags": []
   },
   "source": [
    "## 7.1 Separating the Fields by Type"
   ]
  },
  {
   "cell_type": "code",
   "execution_count": 56,
   "id": "071fd4a3",
   "metadata": {
    "execution": {
     "iopub.execute_input": "2022-08-21T19:39:33.104821Z",
     "iopub.status.busy": "2022-08-21T19:39:33.104549Z",
     "iopub.status.idle": "2022-08-21T19:39:33.110149Z",
     "shell.execute_reply": "2022-08-21T19:39:33.109360Z"
    },
    "papermill": {
     "duration": 0.121565,
     "end_time": "2022-08-21T19:39:33.112455",
     "exception": false,
     "start_time": "2022-08-21T19:39:32.990890",
     "status": "completed"
    },
    "tags": []
   },
   "outputs": [
    {
     "data": {
      "text/plain": [
       "Index(['PassengerId', 'HomePlanet', 'CryoSleep', 'Destination', 'Age', 'VIP',\n",
       "       'RoomService', 'FoodCourt', 'ShoppingMall', 'Spa', 'VRDeck',\n",
       "       'Transported', 'AgeGroup', 'CabinDeck', 'CabinNum', 'CabinSide',\n",
       "       'FirstName', 'FamilyName', 'TravelGroup', 'TravelGroupPos',\n",
       "       'TotalBilled', 'TransportedPercentage', 'AvgSpended', 'NumRelatives',\n",
       "       'GroupSize'],\n",
       "      dtype='object')"
      ]
     },
     "execution_count": 56,
     "metadata": {},
     "output_type": "execute_result"
    }
   ],
   "source": [
    "trn_data.columns"
   ]
  },
  {
   "cell_type": "code",
   "execution_count": 57,
   "id": "1419ba59",
   "metadata": {
    "execution": {
     "iopub.execute_input": "2022-08-21T19:39:33.339684Z",
     "iopub.status.busy": "2022-08-21T19:39:33.339417Z",
     "iopub.status.idle": "2022-08-21T19:39:33.345331Z",
     "shell.execute_reply": "2022-08-21T19:39:33.344623Z"
    },
    "papermill": {
     "duration": 0.121952,
     "end_time": "2022-08-21T19:39:33.347664",
     "exception": false,
     "start_time": "2022-08-21T19:39:33.225712",
     "status": "completed"
    },
    "tags": []
   },
   "outputs": [
    {
     "name": "stdout",
     "output_type": "stream",
     "text": [
      "CPU times: user 4 µs, sys: 1 µs, total: 5 µs\n",
      "Wall time: 7.15 µs\n"
     ]
    }
   ],
   "source": [
    "%%time\n",
    "# A list of the original variables from the dataset\n",
    "numerical_features = [\n",
    "                      'Age', \n",
    "                      'RoomService', \n",
    "                      'FoodCourt', \n",
    "                      'ShoppingMall', \n",
    "                      'Spa', \n",
    "                      'VRDeck', \n",
    "                      'TotalBilled',\n",
    "                      'TravelGroupPos'\n",
    "                     ]\n",
    "\n",
    "categorical_features = [\n",
    "                        #'Name',\n",
    "                        'FirstName',\n",
    "                        'FamilyName',\n",
    "                        'CabinNum',\n",
    "                        'TravelGroup',\n",
    "                        'AgeGroup'\n",
    "                       ]\n",
    "\n",
    "\n",
    "categorical_features_onehot = [\n",
    "                               'HomePlanet',\n",
    "                               'CryoSleep',\n",
    "                               #'Cabin',\n",
    "                               'CabinDeck',\n",
    "                               'CabinSide',\n",
    "                               'Destination',\n",
    "                               'VIP',\n",
    "                               #'AgeGroup'\n",
    "                               ]\n",
    "\n",
    "target_feature = 'Transported'"
   ]
  },
  {
   "cell_type": "markdown",
   "id": "4e3708b7",
   "metadata": {
    "papermill": {
     "duration": 0.112364,
     "end_time": "2022-08-21T19:39:33.573259",
     "exception": false,
     "start_time": "2022-08-21T19:39:33.460895",
     "status": "completed"
    },
    "tags": []
   },
   "source": [
    "---"
   ]
  },
  {
   "cell_type": "markdown",
   "id": "3ad5f64c",
   "metadata": {
    "papermill": {
     "duration": 0.11419,
     "end_time": "2022-08-21T19:39:33.802547",
     "exception": false,
     "start_time": "2022-08-21T19:39:33.688357",
     "status": "completed"
    },
    "tags": []
   },
   "source": [
    "## 7.2 Encoding Categorical Variables"
   ]
  },
  {
   "cell_type": "code",
   "execution_count": 58,
   "id": "2a513847",
   "metadata": {
    "execution": {
     "iopub.execute_input": "2022-08-21T19:39:34.030911Z",
     "iopub.status.busy": "2022-08-21T19:39:34.030633Z",
     "iopub.status.idle": "2022-08-21T19:39:34.037061Z",
     "shell.execute_reply": "2022-08-21T19:39:34.036365Z"
    },
    "papermill": {
     "duration": 0.123442,
     "end_time": "2022-08-21T19:39:34.039410",
     "exception": false,
     "start_time": "2022-08-21T19:39:33.915968",
     "status": "completed"
    },
    "tags": []
   },
   "outputs": [
    {
     "name": "stdout",
     "output_type": "stream",
     "text": [
      "CPU times: user 5 µs, sys: 0 ns, total: 5 µs\n",
      "Wall time: 8.34 µs\n"
     ]
    }
   ],
   "source": [
    "%%time\n",
    "\n",
    "def encode_categorical(train_df, test_df, categ_feat = categorical_features):\n",
    "    '''\n",
    "    \n",
    "    '''\n",
    "    encoder_dict = {}\n",
    "    \n",
    "    concat_data = pd.concat([trn_data[categ_feat], tst_data[categ_feat]])\n",
    "    \n",
    "    for col in concat_data.columns:\n",
    "        print('Encoding: ', col, '...')\n",
    "        encoder = LabelEncoder()\n",
    "        encoder.fit(concat_data[col])\n",
    "        encoder_dict[col] = encoder\n",
    "\n",
    "        train_df[col + '_Enc'] = encoder.transform(train_df[col])\n",
    "        test_df[col + '_Enc'] = encoder.transform(test_df[col])\n",
    "    \n",
    "    train_df = train_df.drop(columns = categ_feat, axis = 1)\n",
    "    test_df = test_df.drop(columns = categ_feat, axis = 1)\n",
    "\n",
    "    return train_df, test_df"
   ]
  },
  {
   "cell_type": "code",
   "execution_count": 59,
   "id": "99c7dad5",
   "metadata": {
    "execution": {
     "iopub.execute_input": "2022-08-21T19:39:34.267589Z",
     "iopub.status.busy": "2022-08-21T19:39:34.267305Z",
     "iopub.status.idle": "2022-08-21T19:39:34.344995Z",
     "shell.execute_reply": "2022-08-21T19:39:34.344017Z"
    },
    "papermill": {
     "duration": 0.195458,
     "end_time": "2022-08-21T19:39:34.347636",
     "exception": false,
     "start_time": "2022-08-21T19:39:34.152178",
     "status": "completed"
    },
    "tags": []
   },
   "outputs": [
    {
     "name": "stdout",
     "output_type": "stream",
     "text": [
      "Encoding:  FirstName ...\n",
      "Encoding:  FamilyName ...\n",
      "Encoding:  CabinNum ...\n",
      "Encoding:  TravelGroup ...\n",
      "Encoding:  AgeGroup ...\n",
      "CPU times: user 71.6 ms, sys: 3.14 ms, total: 74.8 ms\n",
      "Wall time: 72.4 ms\n"
     ]
    }
   ],
   "source": [
    "%%time\n",
    "trn_data, tst_data = encode_categorical(trn_data, tst_data, categorical_features)"
   ]
  },
  {
   "cell_type": "markdown",
   "id": "e4fadb15",
   "metadata": {
    "papermill": {
     "duration": 0.114371,
     "end_time": "2022-08-21T19:39:34.581551",
     "exception": false,
     "start_time": "2022-08-21T19:39:34.467180",
     "status": "completed"
    },
    "tags": []
   },
   "source": [
    "---"
   ]
  },
  {
   "cell_type": "markdown",
   "id": "93ae0e78",
   "metadata": {
    "papermill": {
     "duration": 0.117642,
     "end_time": "2022-08-21T19:39:34.816101",
     "exception": false,
     "start_time": "2022-08-21T19:39:34.698459",
     "status": "completed"
    },
    "tags": []
   },
   "source": [
    "## 7.3 One Hot Encoding Categorical Variables"
   ]
  },
  {
   "cell_type": "code",
   "execution_count": 60,
   "id": "68a3352d",
   "metadata": {
    "execution": {
     "iopub.execute_input": "2022-08-21T19:39:35.060890Z",
     "iopub.status.busy": "2022-08-21T19:39:35.060142Z",
     "iopub.status.idle": "2022-08-21T19:39:35.065732Z",
     "shell.execute_reply": "2022-08-21T19:39:35.065014Z"
    },
    "papermill": {
     "duration": 0.125021,
     "end_time": "2022-08-21T19:39:35.068111",
     "exception": false,
     "start_time": "2022-08-21T19:39:34.943090",
     "status": "completed"
    },
    "tags": []
   },
   "outputs": [
    {
     "name": "stdout",
     "output_type": "stream",
     "text": [
      "CPU times: user 3 µs, sys: 0 ns, total: 3 µs\n",
      "Wall time: 7.39 µs\n"
     ]
    }
   ],
   "source": [
    "%%time\n",
    "def one_hot(df, one_hot_categ):\n",
    "    for col in one_hot_categ:\n",
    "        tmp = pd.get_dummies(df[col], prefix = col)\n",
    "        df = pd.concat([df, tmp], axis = 1)\n",
    "    df = df.drop(columns = one_hot_categ)\n",
    "    return df"
   ]
  },
  {
   "cell_type": "code",
   "execution_count": 61,
   "id": "d1f0a7c9",
   "metadata": {
    "execution": {
     "iopub.execute_input": "2022-08-21T19:39:35.302087Z",
     "iopub.status.busy": "2022-08-21T19:39:35.301328Z",
     "iopub.status.idle": "2022-08-21T19:39:35.341429Z",
     "shell.execute_reply": "2022-08-21T19:39:35.339996Z"
    },
    "papermill": {
     "duration": 0.159893,
     "end_time": "2022-08-21T19:39:35.344224",
     "exception": false,
     "start_time": "2022-08-21T19:39:35.184331",
     "status": "completed"
    },
    "tags": []
   },
   "outputs": [
    {
     "name": "stdout",
     "output_type": "stream",
     "text": [
      "CPU times: user 30.5 ms, sys: 1.03 ms, total: 31.5 ms\n",
      "Wall time: 34 ms\n"
     ]
    }
   ],
   "source": [
    "%%time\n",
    "trn_data = one_hot(trn_data, categorical_features_onehot) \n",
    "tst_data = one_hot(tst_data, categorical_features_onehot) "
   ]
  },
  {
   "cell_type": "markdown",
   "id": "05b7517f",
   "metadata": {
    "papermill": {
     "duration": 0.115922,
     "end_time": "2022-08-21T19:39:35.580265",
     "exception": false,
     "start_time": "2022-08-21T19:39:35.464343",
     "status": "completed"
    },
    "tags": []
   },
   "source": [
    "---"
   ]
  },
  {
   "cell_type": "markdown",
   "id": "c901496c",
   "metadata": {
    "papermill": {
     "duration": 0.115363,
     "end_time": "2022-08-21T19:39:35.811003",
     "exception": false,
     "start_time": "2022-08-21T19:39:35.695640",
     "status": "completed"
    },
    "tags": []
   },
   "source": [
    "# 8.0 Feature Selection for Baseline Model"
   ]
  },
  {
   "cell_type": "code",
   "execution_count": 62,
   "id": "ac1537ef",
   "metadata": {
    "execution": {
     "iopub.execute_input": "2022-08-21T19:39:36.045803Z",
     "iopub.status.busy": "2022-08-21T19:39:36.045182Z",
     "iopub.status.idle": "2022-08-21T19:39:36.050946Z",
     "shell.execute_reply": "2022-08-21T19:39:36.050217Z"
    },
    "papermill": {
     "duration": 0.125617,
     "end_time": "2022-08-21T19:39:36.053474",
     "exception": false,
     "start_time": "2022-08-21T19:39:35.927857",
     "status": "completed"
    },
    "tags": []
   },
   "outputs": [
    {
     "name": "stdout",
     "output_type": "stream",
     "text": [
      "CPU times: user 36 µs, sys: 4 µs, total: 40 µs\n",
      "Wall time: 44.8 µs\n"
     ]
    }
   ],
   "source": [
    "%%time\n",
    "remove = ['PassengerId', \n",
    "          'Route', \n",
    "          'FirstName_Enc', \n",
    "          #'CabinNum_Enc', \n",
    "          'Transported',\n",
    "          'Cabin',\n",
    "          'TransportedPercentage',\n",
    "          #'IsKid', \n",
    "          #'IsAdult', \n",
    "          #'IsOlder'\n",
    "          #'RoomService',\n",
    "          #'FoodCourt',\n",
    "          #'ShoppingMall',\n",
    "          #'Spa',\n",
    "          #'VRDeck',\n",
    "         ]\n",
    "features = [feat for feat in trn_data.columns if feat not in remove]"
   ]
  },
  {
   "cell_type": "code",
   "execution_count": 63,
   "id": "c77459e7",
   "metadata": {
    "execution": {
     "iopub.execute_input": "2022-08-21T19:39:36.288089Z",
     "iopub.status.busy": "2022-08-21T19:39:36.287513Z",
     "iopub.status.idle": "2022-08-21T19:39:36.294527Z",
     "shell.execute_reply": "2022-08-21T19:39:36.293829Z"
    },
    "papermill": {
     "duration": 0.128038,
     "end_time": "2022-08-21T19:39:36.298381",
     "exception": false,
     "start_time": "2022-08-21T19:39:36.170343",
     "status": "completed"
    },
    "tags": []
   },
   "outputs": [
    {
     "name": "stdout",
     "output_type": "stream",
     "text": [
      "CPU times: user 0 ns, sys: 3 µs, total: 3 µs\n",
      "Wall time: 6.44 µs\n"
     ]
    },
    {
     "data": {
      "text/plain": [
       "['Age',\n",
       " 'RoomService',\n",
       " 'FoodCourt',\n",
       " 'ShoppingMall',\n",
       " 'Spa',\n",
       " 'VRDeck',\n",
       " 'TravelGroupPos',\n",
       " 'TotalBilled',\n",
       " 'AvgSpended',\n",
       " 'NumRelatives',\n",
       " 'GroupSize',\n",
       " 'FamilyName_Enc',\n",
       " 'CabinNum_Enc',\n",
       " 'TravelGroup_Enc',\n",
       " 'AgeGroup_Enc',\n",
       " 'HomePlanet_Earth',\n",
       " 'HomePlanet_Europa',\n",
       " 'HomePlanet_Mars',\n",
       " 'CryoSleep_False',\n",
       " 'CryoSleep_True',\n",
       " 'CabinDeck_A',\n",
       " 'CabinDeck_B',\n",
       " 'CabinDeck_C',\n",
       " 'CabinDeck_D',\n",
       " 'CabinDeck_E',\n",
       " 'CabinDeck_F',\n",
       " 'CabinDeck_G',\n",
       " 'CabinDeck_T',\n",
       " 'CabinSide_P',\n",
       " 'CabinSide_S',\n",
       " 'Destination_55 Cancri e',\n",
       " 'Destination_PSO J318.5-22',\n",
       " 'Destination_TRAPPIST-1e',\n",
       " 'VIP_False',\n",
       " 'VIP_True']"
      ]
     },
     "execution_count": 63,
     "metadata": {},
     "output_type": "execute_result"
    }
   ],
   "source": [
    "%%time\n",
    "features"
   ]
  },
  {
   "cell_type": "markdown",
   "id": "d774f29e",
   "metadata": {
    "papermill": {
     "duration": 0.117054,
     "end_time": "2022-08-21T19:39:36.531489",
     "exception": false,
     "start_time": "2022-08-21T19:39:36.414435",
     "status": "completed"
    },
    "tags": []
   },
   "source": [
    "---"
   ]
  },
  {
   "cell_type": "markdown",
   "id": "6f81f540",
   "metadata": {
    "papermill": {
     "duration": 0.116056,
     "end_time": "2022-08-21T19:39:36.763424",
     "exception": false,
     "start_time": "2022-08-21T19:39:36.647368",
     "status": "completed"
    },
    "tags": []
   },
   "source": [
    "# 9.0 Advance Feature Engineering, KNN"
   ]
  },
  {
   "cell_type": "code",
   "execution_count": 64,
   "id": "992f57cb",
   "metadata": {
    "execution": {
     "iopub.execute_input": "2022-08-21T19:39:36.995155Z",
     "iopub.status.busy": "2022-08-21T19:39:36.994874Z",
     "iopub.status.idle": "2022-08-21T19:39:37.016037Z",
     "shell.execute_reply": "2022-08-21T19:39:37.014761Z"
    },
    "papermill": {
     "duration": 0.139625,
     "end_time": "2022-08-21T19:39:37.017868",
     "exception": false,
     "start_time": "2022-08-21T19:39:36.878243",
     "status": "completed"
    },
    "tags": []
   },
   "outputs": [
    {
     "name": "stdout",
     "output_type": "stream",
     "text": [
      "CPU times: user 14.5 ms, sys: 1.94 ms, total: 16.5 ms\n",
      "Wall time: 15.8 ms\n"
     ]
    }
   ],
   "source": [
    "%%time\n",
    "# Convert X and y to Numpy arrays as library requirements\n",
    "X_array = trn_data[features].to_numpy()\n",
    "y_array = trn_data['Transported'].to_numpy()\n",
    "X_test_array = tst_data[features].to_numpy()"
   ]
  },
  {
   "cell_type": "code",
   "execution_count": 65,
   "id": "de37c49c",
   "metadata": {
    "execution": {
     "iopub.execute_input": "2022-08-21T19:39:37.250464Z",
     "iopub.status.busy": "2022-08-21T19:39:37.249963Z",
     "iopub.status.idle": "2022-08-21T19:39:37.253847Z",
     "shell.execute_reply": "2022-08-21T19:39:37.253147Z"
    },
    "papermill": {
     "duration": 0.123375,
     "end_time": "2022-08-21T19:39:37.256049",
     "exception": false,
     "start_time": "2022-08-21T19:39:37.132674",
     "status": "completed"
    },
    "tags": []
   },
   "outputs": [],
   "source": [
    "K = 2"
   ]
  },
  {
   "cell_type": "code",
   "execution_count": 66,
   "id": "24849cf8",
   "metadata": {
    "execution": {
     "iopub.execute_input": "2022-08-21T19:39:37.508342Z",
     "iopub.status.busy": "2022-08-21T19:39:37.508035Z",
     "iopub.status.idle": "2022-08-21T19:39:40.151567Z",
     "shell.execute_reply": "2022-08-21T19:39:40.148942Z"
    },
    "papermill": {
     "duration": 2.7674,
     "end_time": "2022-08-21T19:39:40.156882",
     "exception": false,
     "start_time": "2022-08-21T19:39:37.389482",
     "status": "completed"
    },
    "tags": []
   },
   "outputs": [
    {
     "name": "stdout",
     "output_type": "stream",
     "text": [
      "CPU times: user 2.73 s, sys: 1.71 s, total: 4.43 s\n",
      "Wall time: 2.64 s\n"
     ]
    }
   ],
   "source": [
    "%%time\n",
    "# It Takes almost  35min 21s for K = 2 and 50_000 rows...\n",
    "# It Takes almost  17min 36s for K = 1 and 50_000 rows...\n",
    "KNN_trn_features = knn_kfold_extract(X_array, y_array, k = K, normalize = 'standard')"
   ]
  },
  {
   "cell_type": "code",
   "execution_count": 67,
   "id": "f34d2724",
   "metadata": {
    "execution": {
     "iopub.execute_input": "2022-08-21T19:39:40.411935Z",
     "iopub.status.busy": "2022-08-21T19:39:40.411670Z",
     "iopub.status.idle": "2022-08-21T19:39:40.419528Z",
     "shell.execute_reply": "2022-08-21T19:39:40.418622Z"
    },
    "papermill": {
     "duration": 0.132076,
     "end_time": "2022-08-21T19:39:40.423578",
     "exception": false,
     "start_time": "2022-08-21T19:39:40.291502",
     "status": "completed"
    },
    "tags": []
   },
   "outputs": [
    {
     "name": "stdout",
     "output_type": "stream",
     "text": [
      "CPU times: user 3 µs, sys: 1e+03 ns, total: 4 µs\n",
      "Wall time: 7.15 µs\n"
     ]
    },
    {
     "data": {
      "text/plain": [
       "array([[ 1.65931539,  3.93703875,  2.56817486,  5.56926636],\n",
       "       [ 0.81391176,  2.22018929,  1.19468296,  2.51241985],\n",
       "       [ 6.63154324, 13.80597716,  6.73864297, 14.0130557 ],\n",
       "       ...,\n",
       "       [ 2.51176767,  5.0865934 ,  2.05225096,  4.18929819],\n",
       "       [ 2.51876769,  5.19856235,  4.071007  ,  8.68026553],\n",
       "       [ 2.3665048 ,  5.56743923,  2.06323883,  4.7418424 ]])"
      ]
     },
     "execution_count": 67,
     "metadata": {},
     "output_type": "execute_result"
    }
   ],
   "source": [
    "%%time\n",
    "KNN_trn_features"
   ]
  },
  {
   "cell_type": "code",
   "execution_count": 68,
   "id": "bda565f9",
   "metadata": {
    "execution": {
     "iopub.execute_input": "2022-08-21T19:39:40.665223Z",
     "iopub.status.busy": "2022-08-21T19:39:40.664913Z",
     "iopub.status.idle": "2022-08-21T19:39:40.671547Z",
     "shell.execute_reply": "2022-08-21T19:39:40.670698Z"
    },
    "papermill": {
     "duration": 0.13059,
     "end_time": "2022-08-21T19:39:40.674643",
     "exception": false,
     "start_time": "2022-08-21T19:39:40.544053",
     "status": "completed"
    },
    "tags": []
   },
   "outputs": [
    {
     "name": "stdout",
     "output_type": "stream",
     "text": [
      "CPU times: user 2.14 ms, sys: 29 µs, total: 2.17 ms\n",
      "Wall time: 1.72 ms\n"
     ]
    }
   ],
   "source": [
    "%%time\n",
    "knn_cols = ['KNN_K1_01',\n",
    "            'KNN_K1_02',\n",
    "            'KNN_K2_01',\n",
    "            'KNN_K2_02']\n",
    "\n",
    "KNN_feat = pd.DataFrame(KNN_trn_features, columns = knn_cols)\n",
    "KNN_feat = pd.DataFrame(KNN_trn_features, columns = knn_cols).set_index(trn_data.index)"
   ]
  },
  {
   "cell_type": "code",
   "execution_count": 69,
   "id": "78bf92ef",
   "metadata": {
    "execution": {
     "iopub.execute_input": "2022-08-21T19:39:40.920181Z",
     "iopub.status.busy": "2022-08-21T19:39:40.919923Z",
     "iopub.status.idle": "2022-08-21T19:39:40.937116Z",
     "shell.execute_reply": "2022-08-21T19:39:40.936219Z"
    },
    "papermill": {
     "duration": 0.144203,
     "end_time": "2022-08-21T19:39:40.938926",
     "exception": false,
     "start_time": "2022-08-21T19:39:40.794723",
     "status": "completed"
    },
    "tags": []
   },
   "outputs": [
    {
     "name": "stdout",
     "output_type": "stream",
     "text": [
      "CPU times: user 4.5 ms, sys: 112 µs, total: 4.61 ms\n",
      "Wall time: 4.16 ms\n"
     ]
    },
    {
     "data": {
      "text/html": [
       "<div>\n",
       "<style scoped>\n",
       "    .dataframe tbody tr th:only-of-type {\n",
       "        vertical-align: middle;\n",
       "    }\n",
       "\n",
       "    .dataframe tbody tr th {\n",
       "        vertical-align: top;\n",
       "    }\n",
       "\n",
       "    .dataframe thead th {\n",
       "        text-align: right;\n",
       "    }\n",
       "</style>\n",
       "<table border=\"1\" class=\"dataframe\">\n",
       "  <thead>\n",
       "    <tr style=\"text-align: right;\">\n",
       "      <th></th>\n",
       "      <th>PassengerId</th>\n",
       "      <th>Age</th>\n",
       "      <th>RoomService</th>\n",
       "      <th>FoodCourt</th>\n",
       "      <th>...</th>\n",
       "      <th>KNN_K1_01</th>\n",
       "      <th>KNN_K1_02</th>\n",
       "      <th>KNN_K2_01</th>\n",
       "      <th>KNN_K2_02</th>\n",
       "    </tr>\n",
       "  </thead>\n",
       "  <tbody>\n",
       "    <tr>\n",
       "      <th>0</th>\n",
       "      <td>0001_01</td>\n",
       "      <td>39.00</td>\n",
       "      <td>0.00</td>\n",
       "      <td>0.00</td>\n",
       "      <td>...</td>\n",
       "      <td>1.66</td>\n",
       "      <td>3.94</td>\n",
       "      <td>2.57</td>\n",
       "      <td>5.57</td>\n",
       "    </tr>\n",
       "    <tr>\n",
       "      <th>1</th>\n",
       "      <td>0002_01</td>\n",
       "      <td>24.00</td>\n",
       "      <td>109.00</td>\n",
       "      <td>9.00</td>\n",
       "      <td>...</td>\n",
       "      <td>0.81</td>\n",
       "      <td>2.22</td>\n",
       "      <td>1.19</td>\n",
       "      <td>2.51</td>\n",
       "    </tr>\n",
       "    <tr>\n",
       "      <th>2</th>\n",
       "      <td>0003_01</td>\n",
       "      <td>58.00</td>\n",
       "      <td>43.00</td>\n",
       "      <td>3,576.00</td>\n",
       "      <td>...</td>\n",
       "      <td>6.63</td>\n",
       "      <td>13.81</td>\n",
       "      <td>6.74</td>\n",
       "      <td>14.01</td>\n",
       "    </tr>\n",
       "    <tr>\n",
       "      <th>3</th>\n",
       "      <td>0003_02</td>\n",
       "      <td>33.00</td>\n",
       "      <td>0.00</td>\n",
       "      <td>1,283.00</td>\n",
       "      <td>...</td>\n",
       "      <td>2.39</td>\n",
       "      <td>6.15</td>\n",
       "      <td>3.93</td>\n",
       "      <td>8.01</td>\n",
       "    </tr>\n",
       "    <tr>\n",
       "      <th>4</th>\n",
       "      <td>0004_01</td>\n",
       "      <td>16.00</td>\n",
       "      <td>303.00</td>\n",
       "      <td>70.00</td>\n",
       "      <td>...</td>\n",
       "      <td>0.94</td>\n",
       "      <td>2.25</td>\n",
       "      <td>1.12</td>\n",
       "      <td>2.28</td>\n",
       "    </tr>\n",
       "  </tbody>\n",
       "</table>\n",
       "<p>5 rows × 43 columns</p>\n",
       "</div>"
      ],
      "text/plain": [
       "  PassengerId   Age  RoomService  FoodCourt  ...  KNN_K1_01  KNN_K1_02  \\\n",
       "0     0001_01 39.00         0.00       0.00  ...       1.66       3.94   \n",
       "1     0002_01 24.00       109.00       9.00  ...       0.81       2.22   \n",
       "2     0003_01 58.00        43.00   3,576.00  ...       6.63      13.81   \n",
       "3     0003_02 33.00         0.00   1,283.00  ...       2.39       6.15   \n",
       "4     0004_01 16.00       303.00      70.00  ...       0.94       2.25   \n",
       "\n",
       "   KNN_K2_01  KNN_K2_02  \n",
       "0       2.57       5.57  \n",
       "1       1.19       2.51  \n",
       "2       6.74      14.01  \n",
       "3       3.93       8.01  \n",
       "4       1.12       2.28  \n",
       "\n",
       "[5 rows x 43 columns]"
      ]
     },
     "execution_count": 69,
     "metadata": {},
     "output_type": "execute_result"
    }
   ],
   "source": [
    "%%time\n",
    "trn_data = pd.concat([trn_data, KNN_feat], axis = 1)\n",
    "trn_data.head()"
   ]
  },
  {
   "cell_type": "code",
   "execution_count": 70,
   "id": "f2bc9e84",
   "metadata": {
    "execution": {
     "iopub.execute_input": "2022-08-21T19:39:41.177842Z",
     "iopub.status.busy": "2022-08-21T19:39:41.177574Z",
     "iopub.status.idle": "2022-08-21T19:39:42.272479Z",
     "shell.execute_reply": "2022-08-21T19:39:42.271687Z"
    },
    "papermill": {
     "duration": 1.21652,
     "end_time": "2022-08-21T19:39:42.274371",
     "exception": false,
     "start_time": "2022-08-21T19:39:41.057851",
     "status": "completed"
    },
    "tags": []
   },
   "outputs": [
    {
     "name": "stdout",
     "output_type": "stream",
     "text": [
      "CPU times: user 1.2 s, sys: 649 ms, total: 1.85 s\n",
      "Wall time: 1.08 s\n"
     ]
    },
    {
     "data": {
      "text/html": [
       "<div>\n",
       "<style scoped>\n",
       "    .dataframe tbody tr th:only-of-type {\n",
       "        vertical-align: middle;\n",
       "    }\n",
       "\n",
       "    .dataframe tbody tr th {\n",
       "        vertical-align: top;\n",
       "    }\n",
       "\n",
       "    .dataframe thead th {\n",
       "        text-align: right;\n",
       "    }\n",
       "</style>\n",
       "<table border=\"1\" class=\"dataframe\">\n",
       "  <thead>\n",
       "    <tr style=\"text-align: right;\">\n",
       "      <th></th>\n",
       "      <th>PassengerId</th>\n",
       "      <th>Age</th>\n",
       "      <th>RoomService</th>\n",
       "      <th>FoodCourt</th>\n",
       "      <th>...</th>\n",
       "      <th>KNN_K1_01</th>\n",
       "      <th>KNN_K1_02</th>\n",
       "      <th>KNN_K2_01</th>\n",
       "      <th>KNN_K2_02</th>\n",
       "    </tr>\n",
       "  </thead>\n",
       "  <tbody>\n",
       "    <tr>\n",
       "      <th>0</th>\n",
       "      <td>0013_01</td>\n",
       "      <td>27.00</td>\n",
       "      <td>0.00</td>\n",
       "      <td>0.00</td>\n",
       "      <td>...</td>\n",
       "      <td>0.47</td>\n",
       "      <td>1.09</td>\n",
       "      <td>0.74</td>\n",
       "      <td>1.54</td>\n",
       "    </tr>\n",
       "    <tr>\n",
       "      <th>1</th>\n",
       "      <td>0018_01</td>\n",
       "      <td>19.00</td>\n",
       "      <td>0.00</td>\n",
       "      <td>9.00</td>\n",
       "      <td>...</td>\n",
       "      <td>1.57</td>\n",
       "      <td>3.28</td>\n",
       "      <td>2.63</td>\n",
       "      <td>5.38</td>\n",
       "    </tr>\n",
       "    <tr>\n",
       "      <th>2</th>\n",
       "      <td>0019_01</td>\n",
       "      <td>31.00</td>\n",
       "      <td>0.00</td>\n",
       "      <td>0.00</td>\n",
       "      <td>...</td>\n",
       "      <td>4.74</td>\n",
       "      <td>9.73</td>\n",
       "      <td>1.22</td>\n",
       "      <td>2.61</td>\n",
       "    </tr>\n",
       "    <tr>\n",
       "      <th>3</th>\n",
       "      <td>0021_01</td>\n",
       "      <td>38.00</td>\n",
       "      <td>0.00</td>\n",
       "      <td>6,652.00</td>\n",
       "      <td>...</td>\n",
       "      <td>4.32</td>\n",
       "      <td>8.86</td>\n",
       "      <td>1.62</td>\n",
       "      <td>4.01</td>\n",
       "    </tr>\n",
       "    <tr>\n",
       "      <th>4</th>\n",
       "      <td>0023_01</td>\n",
       "      <td>20.00</td>\n",
       "      <td>10.00</td>\n",
       "      <td>0.00</td>\n",
       "      <td>...</td>\n",
       "      <td>0.78</td>\n",
       "      <td>1.67</td>\n",
       "      <td>0.89</td>\n",
       "      <td>1.87</td>\n",
       "    </tr>\n",
       "  </tbody>\n",
       "</table>\n",
       "<p>5 rows × 42 columns</p>\n",
       "</div>"
      ],
      "text/plain": [
       "  PassengerId   Age  RoomService  FoodCourt  ...  KNN_K1_01  KNN_K1_02  \\\n",
       "0     0013_01 27.00         0.00       0.00  ...       0.47       1.09   \n",
       "1     0018_01 19.00         0.00       9.00  ...       1.57       3.28   \n",
       "2     0019_01 31.00         0.00       0.00  ...       4.74       9.73   \n",
       "3     0021_01 38.00         0.00   6,652.00  ...       4.32       8.86   \n",
       "4     0023_01 20.00        10.00       0.00  ...       0.78       1.67   \n",
       "\n",
       "   KNN_K2_01 KNN_K2_02  \n",
       "0       0.74      1.54  \n",
       "1       2.63      5.38  \n",
       "2       1.22      2.61  \n",
       "3       1.62      4.01  \n",
       "4       0.89      1.87  \n",
       "\n",
       "[5 rows x 42 columns]"
      ]
     },
     "execution_count": 70,
     "metadata": {},
     "output_type": "execute_result"
    }
   ],
   "source": [
    "%%time\n",
    "KNN_tst_features = knn_extract(X_array, y_array, X_test_array, k = K, normalize = 'standard')\n",
    "KNN_feat = pd.DataFrame(KNN_tst_features, columns = knn_cols).set_index(tst_data.index)\n",
    "\n",
    "tst_data = pd.concat([tst_data, KNN_feat], axis = 1)\n",
    "tst_data.head()"
   ]
  },
  {
   "cell_type": "markdown",
   "id": "5504fc86",
   "metadata": {
    "papermill": {
     "duration": 0.121833,
     "end_time": "2022-08-21T19:39:42.567891",
     "exception": false,
     "start_time": "2022-08-21T19:39:42.446058",
     "status": "completed"
    },
    "tags": []
   },
   "source": [
    "---"
   ]
  },
  {
   "cell_type": "markdown",
   "id": "4f22430e",
   "metadata": {
    "papermill": {
     "duration": 0.119952,
     "end_time": "2022-08-21T19:39:42.807986",
     "exception": false,
     "start_time": "2022-08-21T19:39:42.688034",
     "status": "completed"
    },
    "tags": []
   },
   "source": [
    "# 10.0 Selection of Features for Training Stage"
   ]
  },
  {
   "cell_type": "code",
   "execution_count": 71,
   "id": "fd1dc290",
   "metadata": {
    "execution": {
     "iopub.execute_input": "2022-08-21T19:39:43.081806Z",
     "iopub.status.busy": "2022-08-21T19:39:43.081549Z",
     "iopub.status.idle": "2022-08-21T19:39:43.087468Z",
     "shell.execute_reply": "2022-08-21T19:39:43.086754Z"
    },
    "papermill": {
     "duration": 0.136812,
     "end_time": "2022-08-21T19:39:43.090263",
     "exception": false,
     "start_time": "2022-08-21T19:39:42.953451",
     "status": "completed"
    },
    "tags": []
   },
   "outputs": [
    {
     "name": "stdout",
     "output_type": "stream",
     "text": [
      "CPU times: user 34 µs, sys: 10 µs, total: 44 µs\n",
      "Wall time: 47.4 µs\n"
     ]
    }
   ],
   "source": [
    "%%time\n",
    "remove = ['PassengerId', \n",
    "          'Route', \n",
    "          'FirstName_Enc', \n",
    "          'CabinNum_Enc', \n",
    "          'Transported',\n",
    "          'Cabin',\n",
    "          'TransportedPercentage',\n",
    "          #'IsKid', \n",
    "          #'IsAdult', \n",
    "          #'IsOlder'\n",
    "          #'RoomService',\n",
    "          #'FoodCourt',\n",
    "          #'ShoppingMall',\n",
    "          #'Spa',\n",
    "          #'VRDeck',\n",
    "          'KNN_K2_02',\n",
    "          'KNN_K2_01',\n",
    "         ]\n",
    "features = [feat for feat in trn_data.columns if feat not in remove]"
   ]
  },
  {
   "cell_type": "code",
   "execution_count": 72,
   "id": "c65b2a0b",
   "metadata": {
    "execution": {
     "iopub.execute_input": "2022-08-21T19:39:43.330844Z",
     "iopub.status.busy": "2022-08-21T19:39:43.330587Z",
     "iopub.status.idle": "2022-08-21T19:39:43.337593Z",
     "shell.execute_reply": "2022-08-21T19:39:43.336879Z"
    },
    "papermill": {
     "duration": 0.132047,
     "end_time": "2022-08-21T19:39:43.341150",
     "exception": false,
     "start_time": "2022-08-21T19:39:43.209103",
     "status": "completed"
    },
    "tags": []
   },
   "outputs": [
    {
     "name": "stdout",
     "output_type": "stream",
     "text": [
      "CPU times: user 3 µs, sys: 1 µs, total: 4 µs\n",
      "Wall time: 6.68 µs\n"
     ]
    },
    {
     "data": {
      "text/plain": [
       "['Age',\n",
       " 'RoomService',\n",
       " 'FoodCourt',\n",
       " 'ShoppingMall',\n",
       " 'Spa',\n",
       " 'VRDeck',\n",
       " 'TravelGroupPos',\n",
       " 'TotalBilled',\n",
       " 'AvgSpended',\n",
       " 'NumRelatives',\n",
       " 'GroupSize',\n",
       " 'FamilyName_Enc',\n",
       " 'TravelGroup_Enc',\n",
       " 'AgeGroup_Enc',\n",
       " 'HomePlanet_Earth',\n",
       " 'HomePlanet_Europa',\n",
       " 'HomePlanet_Mars',\n",
       " 'CryoSleep_False',\n",
       " 'CryoSleep_True',\n",
       " 'CabinDeck_A',\n",
       " 'CabinDeck_B',\n",
       " 'CabinDeck_C',\n",
       " 'CabinDeck_D',\n",
       " 'CabinDeck_E',\n",
       " 'CabinDeck_F',\n",
       " 'CabinDeck_G',\n",
       " 'CabinDeck_T',\n",
       " 'CabinSide_P',\n",
       " 'CabinSide_S',\n",
       " 'Destination_55 Cancri e',\n",
       " 'Destination_PSO J318.5-22',\n",
       " 'Destination_TRAPPIST-1e',\n",
       " 'VIP_False',\n",
       " 'VIP_True',\n",
       " 'KNN_K1_01',\n",
       " 'KNN_K1_02']"
      ]
     },
     "execution_count": 72,
     "metadata": {},
     "output_type": "execute_result"
    }
   ],
   "source": [
    "%%time\n",
    "features"
   ]
  },
  {
   "cell_type": "code",
   "execution_count": 73,
   "id": "0ef3b370",
   "metadata": {
    "execution": {
     "iopub.execute_input": "2022-08-21T19:39:43.587436Z",
     "iopub.status.busy": "2022-08-21T19:39:43.586875Z",
     "iopub.status.idle": "2022-08-21T19:39:43.592125Z",
     "shell.execute_reply": "2022-08-21T19:39:43.591447Z"
    },
    "papermill": {
     "duration": 0.129934,
     "end_time": "2022-08-21T19:39:43.593831",
     "exception": false,
     "start_time": "2022-08-21T19:39:43.463897",
     "status": "completed"
    },
    "tags": []
   },
   "outputs": [],
   "source": [
    "features = ['Age',\n",
    "            'RoomService',\n",
    "            'FoodCourt',\n",
    "            'ShoppingMall',\n",
    "            'Spa',\n",
    "            'VRDeck',\n",
    "            'TravelGroupPos',\n",
    "            'TotalBilled',\n",
    "            #'AvgSpended',\n",
    "            #'NumRelatives',\n",
    "            #'GroupSize',\n",
    "            'FamilyName_Enc',\n",
    "            'TravelGroup_Enc',\n",
    "            #'AgeGroup_Enc',\n",
    "            'HomePlanet_Earth',\n",
    "            'HomePlanet_Europa',\n",
    "            'HomePlanet_Mars',\n",
    "            'CryoSleep_False',\n",
    "            'CryoSleep_True',\n",
    "            'CabinDeck_A',\n",
    "            'CabinDeck_B',\n",
    "            'CabinDeck_C',\n",
    "            'CabinDeck_D',\n",
    "            'CabinDeck_E',\n",
    "            'CabinDeck_F',\n",
    "            'CabinDeck_G',\n",
    "            'CabinDeck_T',\n",
    "            'CabinSide_P',\n",
    "            'CabinSide_S',\n",
    "            'Destination_55 Cancri e',\n",
    "            'Destination_PSO J318.5-22',\n",
    "            'Destination_TRAPPIST-1e',\n",
    "            'VIP_False',\n",
    "            'VIP_True',\n",
    "            #'AgeGroup_0',\n",
    "            #'AgeGroup_1',\n",
    "            #'AgeGroup_0',\n",
    "            #'AgeGroup_1',\n",
    "            'KNN_K1_01',\n",
    "            #'KNN_K1_02'\n",
    "]"
   ]
  },
  {
   "cell_type": "markdown",
   "id": "163f930e",
   "metadata": {
    "papermill": {
     "duration": 0.124588,
     "end_time": "2022-08-21T19:39:43.837997",
     "exception": false,
     "start_time": "2022-08-21T19:39:43.713409",
     "status": "completed"
    },
    "tags": []
   },
   "source": [
    "---"
   ]
  },
  {
   "cell_type": "markdown",
   "id": "99348fb0",
   "metadata": {
    "papermill": {
     "duration": 0.11978,
     "end_time": "2022-08-21T19:39:44.078910",
     "exception": false,
     "start_time": "2022-08-21T19:39:43.959130",
     "status": "completed"
    },
    "tags": []
   },
   "source": [
    "# 11.0 Building a Neuronal Network Model..."
   ]
  },
  {
   "cell_type": "markdown",
   "id": "4df24e53",
   "metadata": {
    "papermill": {
     "duration": 0.121568,
     "end_time": "2022-08-21T19:39:44.321805",
     "exception": false,
     "start_time": "2022-08-21T19:39:44.200237",
     "status": "completed"
    },
    "tags": []
   },
   "source": [
    "## 11.1 Importing all the required libraries..."
   ]
  },
  {
   "cell_type": "code",
   "execution_count": 74,
   "id": "adca285c",
   "metadata": {
    "execution": {
     "iopub.execute_input": "2022-08-21T19:39:44.566361Z",
     "iopub.status.busy": "2022-08-21T19:39:44.566078Z",
     "iopub.status.idle": "2022-08-21T19:39:49.622601Z",
     "shell.execute_reply": "2022-08-21T19:39:49.621841Z"
    },
    "papermill": {
     "duration": 5.182626,
     "end_time": "2022-08-21T19:39:49.624755",
     "exception": false,
     "start_time": "2022-08-21T19:39:44.442129",
     "status": "completed"
    },
    "tags": []
   },
   "outputs": [
    {
     "name": "stdout",
     "output_type": "stream",
     "text": [
      "CPU times: user 1.76 s, sys: 630 ms, total: 2.39 s\n",
      "Wall time: 5.05 s\n"
     ]
    }
   ],
   "source": [
    "%%time\n",
    "import tensorflow as tf\n",
    "from tensorflow.keras.models import Model\n",
    "from tensorflow.keras.callbacks import ReduceLROnPlateau, LearningRateScheduler, EarlyStopping\n",
    "from tensorflow.keras.layers import Dense, Input, InputLayer, Add, BatchNormalization, Dropout, Concatenate\n",
    "\n",
    "from sklearn.preprocessing import StandardScaler, RobustScaler, MinMaxScaler\n",
    "import random\n",
    "\n",
    "from sklearn.model_selection import KFold, StratifiedKFold \n",
    "from sklearn.metrics import roc_auc_score, roc_curve, accuracy_score\n",
    "import datetime\n",
    "import math"
   ]
  },
  {
   "cell_type": "markdown",
   "id": "370c6c31",
   "metadata": {
    "papermill": {
     "duration": 0.119174,
     "end_time": "2022-08-21T19:39:49.864236",
     "exception": false,
     "start_time": "2022-08-21T19:39:49.745062",
     "status": "completed"
    },
    "tags": []
   },
   "source": [
    "---"
   ]
  },
  {
   "cell_type": "markdown",
   "id": "9372c638",
   "metadata": {
    "papermill": {
     "duration": 0.183157,
     "end_time": "2022-08-21T19:39:50.235103",
     "exception": false,
     "start_time": "2022-08-21T19:39:50.051946",
     "status": "completed"
    },
    "tags": []
   },
   "source": [
    "## 11.2 Defining the Model Architecture..."
   ]
  },
  {
   "cell_type": "code",
   "execution_count": 75,
   "id": "13805e2a",
   "metadata": {
    "execution": {
     "iopub.execute_input": "2022-08-21T19:39:50.570086Z",
     "iopub.status.busy": "2022-08-21T19:39:50.569811Z",
     "iopub.status.idle": "2022-08-21T19:39:50.576533Z",
     "shell.execute_reply": "2022-08-21T19:39:50.575827Z"
    },
    "papermill": {
     "duration": 0.168421,
     "end_time": "2022-08-21T19:39:50.578901",
     "exception": false,
     "start_time": "2022-08-21T19:39:50.410480",
     "status": "completed"
    },
    "tags": []
   },
   "outputs": [
    {
     "name": "stdout",
     "output_type": "stream",
     "text": [
      "CPU times: user 3 µs, sys: 1 µs, total: 4 µs\n",
      "Wall time: 8.58 µs\n"
     ]
    }
   ],
   "source": [
    "%%time\n",
    "def nn_model_one():\n",
    "    '''\n",
    "    '''\n",
    "    \n",
    "    activation_func = 'swish'\n",
    "    inputs = Input(shape = (len(features)))\n",
    "    \n",
    "    x = Dense(1024, \n",
    "              #use_bias  = True, \n",
    "              kernel_regularizer = tf.keras.regularizers.l2(30e-6), \n",
    "              activation = activation_func)(inputs)\n",
    "    \n",
    "    x = BatchNormalization()(x)\n",
    "    \n",
    "    x = Dense(256, \n",
    "              #use_bias  = True, \n",
    "              kernel_regularizer = tf.keras.regularizers.l2(30e-6), \n",
    "              activation = activation_func)(x)\n",
    "    \n",
    "    x = BatchNormalization()(x)\n",
    "\n",
    "    x = Dense(128, \n",
    "              #use_bias  = True, \n",
    "              kernel_regularizer = tf.keras.regularizers.l2(30e-6), \n",
    "              activation = activation_func)(x)\n",
    "    \n",
    "    x = BatchNormalization()(x)\n",
    "\n",
    "    x = Dense(1 , \n",
    "              #use_bias  = True, \n",
    "              #kernel_regularizer = tf.keras.regularizers.l2(30e-6),\n",
    "              activation = 'sigmoid')(x)\n",
    "    \n",
    "    model = Model(inputs, x)\n",
    "    \n",
    "    return model"
   ]
  },
  {
   "cell_type": "code",
   "execution_count": 76,
   "id": "cad6d6f9",
   "metadata": {
    "execution": {
     "iopub.execute_input": "2022-08-21T19:39:50.820726Z",
     "iopub.status.busy": "2022-08-21T19:39:50.820186Z",
     "iopub.status.idle": "2022-08-21T19:39:50.827343Z",
     "shell.execute_reply": "2022-08-21T19:39:50.826622Z"
    },
    "papermill": {
     "duration": 0.130597,
     "end_time": "2022-08-21T19:39:50.830181",
     "exception": false,
     "start_time": "2022-08-21T19:39:50.699584",
     "status": "completed"
    },
    "tags": []
   },
   "outputs": [
    {
     "name": "stdout",
     "output_type": "stream",
     "text": [
      "CPU times: user 4 µs, sys: 0 ns, total: 4 µs\n",
      "Wall time: 8.58 µs\n"
     ]
    }
   ],
   "source": [
    "%%time\n",
    "def nn_model_two():\n",
    "    '''\n",
    "    '''\n",
    "\n",
    "    dropout_value = 0.025\n",
    "    \n",
    "    activation_func = 'swish'\n",
    "    inputs = Input(shape = (len(features)))\n",
    "    \n",
    "    x = Dense(1024, \n",
    "              #use_bias  = True, \n",
    "              kernel_regularizer = tf.keras.regularizers.l2(30e-6), \n",
    "              activation = activation_func)(inputs)\n",
    "    \n",
    "    x = BatchNormalization()(x)\n",
    "    x = Dropout(dropout_value)(x)\n",
    "    \n",
    "    x = Dense(256, \n",
    "              #use_bias  = True, \n",
    "              kernel_regularizer = tf.keras.regularizers.l2(30e-6), \n",
    "              activation = activation_func)(x)\n",
    "    \n",
    "    x = BatchNormalization()(x)\n",
    "    x = Dropout(dropout_value)(x)\n",
    "\n",
    "    x = Dense(128, \n",
    "              #use_bias  = True, \n",
    "              kernel_regularizer = tf.keras.regularizers.l2(30e-6), \n",
    "              activation = activation_func)(x)\n",
    "    \n",
    "    x = BatchNormalization()(x)\n",
    "    x = Dropout(dropout_value)(x)\n",
    "    \n",
    "    x = Dense(8, \n",
    "          #use_bias  = True, \n",
    "          kernel_regularizer = tf.keras.regularizers.l2(30e-6), \n",
    "          activation = activation_func)(x)\n",
    "    \n",
    "    x = BatchNormalization()(x)\n",
    "    x = Dropout(dropout_value)(x)\n",
    "    \n",
    "    x = Dense(1 , \n",
    "              #use_bias  = True, \n",
    "              #kernel_regularizer = tf.keras.regularizers.l2(30e-6),\n",
    "              activation = 'sigmoid')(x)\n",
    "    \n",
    "    model = Model(inputs, x)\n",
    "    \n",
    "    return model"
   ]
  },
  {
   "cell_type": "code",
   "execution_count": 77,
   "id": "4dafceba",
   "metadata": {
    "execution": {
     "iopub.execute_input": "2022-08-21T19:39:51.072984Z",
     "iopub.status.busy": "2022-08-21T19:39:51.072721Z",
     "iopub.status.idle": "2022-08-21T19:39:51.080377Z",
     "shell.execute_reply": "2022-08-21T19:39:51.079655Z"
    },
    "papermill": {
     "duration": 0.130847,
     "end_time": "2022-08-21T19:39:51.082834",
     "exception": false,
     "start_time": "2022-08-21T19:39:50.951987",
     "status": "completed"
    },
    "tags": []
   },
   "outputs": [
    {
     "name": "stdout",
     "output_type": "stream",
     "text": [
      "CPU times: user 4 µs, sys: 1 µs, total: 5 µs\n",
      "Wall time: 7.39 µs\n"
     ]
    }
   ],
   "source": [
    "%%time\n",
    "def nn_model_three():\n",
    "    \n",
    "    '''\n",
    "    Function to define the Neuronal Network architecture...\n",
    "    '''\n",
    "    \n",
    "    L2 = 65e-6\n",
    "    dropout_value = 0.025\n",
    "    activation_func = 'swish'\n",
    "    inputs = Input(shape = (len(features)))\n",
    "    \n",
    "    x0 = Dense(1024, kernel_regularizer = tf.keras.regularizers.l2(L2), activation = activation_func)(inputs)\n",
    "    x0 = BatchNormalization()(x0)\n",
    "    x0 = Dropout(dropout_value)(x0)\n",
    "    \n",
    "    x1 = Dense(1024,  kernel_regularizer = tf.keras.regularizers.l2(L2), activation = activation_func)(x0)\n",
    "    x1 = BatchNormalization()(x1)\n",
    "    x1 = Dropout(dropout_value)(x1)\n",
    "    \n",
    "    x1 = Dense(64,  kernel_regularizer = tf.keras.regularizers.l2(L2), activation = activation_func)(x1)\n",
    "    x1 = Concatenate()([x1, x0])\n",
    "    x1 = BatchNormalization()(x1)\n",
    "    x1 = Dropout(dropout_value)(x1)\n",
    "    \n",
    "    x1 = Dense(16, kernel_regularizer = tf.keras.regularizers.l2(L2), activation = activation_func)(x1)\n",
    "    x1 = BatchNormalization()(x1)\n",
    "    x1 = Dropout(dropout_value)(x1)\n",
    "    \n",
    "    x1 = Dense(1,  \n",
    "               #kernel_regularizer = tf.keras.regularizers.l2(4e-4), \n",
    "               activation = 'sigmoid')(x1)\n",
    "    \n",
    "    model = Model(inputs, x1)\n",
    "    \n",
    "    return model"
   ]
  },
  {
   "cell_type": "markdown",
   "id": "7b4abcbf",
   "metadata": {
    "papermill": {
     "duration": 0.120385,
     "end_time": "2022-08-21T19:39:51.322953",
     "exception": false,
     "start_time": "2022-08-21T19:39:51.202568",
     "status": "completed"
    },
    "tags": []
   },
   "source": [
    "---"
   ]
  },
  {
   "cell_type": "markdown",
   "id": "a4061fef",
   "metadata": {
    "papermill": {
     "duration": 0.122524,
     "end_time": "2022-08-21T19:39:51.566371",
     "exception": false,
     "start_time": "2022-08-21T19:39:51.443847",
     "status": "completed"
    },
    "tags": []
   },
   "source": [
    "## 11.3 Visualizing the Architecture Created..."
   ]
  },
  {
   "cell_type": "code",
   "execution_count": 78,
   "id": "fa91d3dd",
   "metadata": {
    "execution": {
     "iopub.execute_input": "2022-08-21T19:39:51.808962Z",
     "iopub.status.busy": "2022-08-21T19:39:51.808690Z",
     "iopub.status.idle": "2022-08-21T19:39:54.556043Z",
     "shell.execute_reply": "2022-08-21T19:39:54.555340Z"
    },
    "papermill": {
     "duration": 2.871931,
     "end_time": "2022-08-21T19:39:54.558688",
     "exception": false,
     "start_time": "2022-08-21T19:39:51.686757",
     "status": "completed"
    },
    "tags": []
   },
   "outputs": [
    {
     "name": "stdout",
     "output_type": "stream",
     "text": [
      "Model: \"model\"\n",
      "_________________________________________________________________\n",
      "Layer (type)                 Output Shape              Param #   \n",
      "=================================================================\n",
      "input_1 (InputLayer)         [(None, 31)]              0         \n",
      "_________________________________________________________________\n",
      "dense (Dense)                (None, 1024)              32768     \n",
      "_________________________________________________________________\n",
      "batch_normalization (BatchNo (None, 1024)              4096      \n",
      "_________________________________________________________________\n",
      "dense_1 (Dense)              (None, 256)               262400    \n",
      "_________________________________________________________________\n",
      "batch_normalization_1 (Batch (None, 256)               1024      \n",
      "_________________________________________________________________\n",
      "dense_2 (Dense)              (None, 128)               32896     \n",
      "_________________________________________________________________\n",
      "batch_normalization_2 (Batch (None, 128)               512       \n",
      "_________________________________________________________________\n",
      "dense_3 (Dense)              (None, 1)                 129       \n",
      "=================================================================\n",
      "Total params: 333,825\n",
      "Trainable params: 331,009\n",
      "Non-trainable params: 2,816\n",
      "_________________________________________________________________\n",
      "CPU times: user 602 ms, sys: 613 ms, total: 1.22 s\n",
      "Wall time: 2.74 s\n"
     ]
    },
    {
     "name": "stderr",
     "output_type": "stream",
     "text": [
      "2022-08-21 19:39:51.917546: I tensorflow/stream_executor/cuda/cuda_gpu_executor.cc:937] successful NUMA node read from SysFS had negative value (-1), but there must be at least one NUMA node, so returning NUMA node zero\n",
      "2022-08-21 19:39:51.923232: I tensorflow/stream_executor/cuda/cuda_gpu_executor.cc:937] successful NUMA node read from SysFS had negative value (-1), but there must be at least one NUMA node, so returning NUMA node zero\n",
      "2022-08-21 19:39:51.923976: I tensorflow/stream_executor/cuda/cuda_gpu_executor.cc:937] successful NUMA node read from SysFS had negative value (-1), but there must be at least one NUMA node, so returning NUMA node zero\n",
      "2022-08-21 19:39:51.926192: I tensorflow/core/platform/cpu_feature_guard.cc:142] This TensorFlow binary is optimized with oneAPI Deep Neural Network Library (oneDNN) to use the following CPU instructions in performance-critical operations:  AVX2 AVX512F FMA\n",
      "To enable them in other operations, rebuild TensorFlow with the appropriate compiler flags.\n",
      "2022-08-21 19:39:51.926494: I tensorflow/stream_executor/cuda/cuda_gpu_executor.cc:937] successful NUMA node read from SysFS had negative value (-1), but there must be at least one NUMA node, so returning NUMA node zero\n",
      "2022-08-21 19:39:51.927211: I tensorflow/stream_executor/cuda/cuda_gpu_executor.cc:937] successful NUMA node read from SysFS had negative value (-1), but there must be at least one NUMA node, so returning NUMA node zero\n",
      "2022-08-21 19:39:51.927895: I tensorflow/stream_executor/cuda/cuda_gpu_executor.cc:937] successful NUMA node read from SysFS had negative value (-1), but there must be at least one NUMA node, so returning NUMA node zero\n",
      "2022-08-21 19:39:54.123214: I tensorflow/stream_executor/cuda/cuda_gpu_executor.cc:937] successful NUMA node read from SysFS had negative value (-1), but there must be at least one NUMA node, so returning NUMA node zero\n",
      "2022-08-21 19:39:54.124474: I tensorflow/stream_executor/cuda/cuda_gpu_executor.cc:937] successful NUMA node read from SysFS had negative value (-1), but there must be at least one NUMA node, so returning NUMA node zero\n",
      "2022-08-21 19:39:54.125482: I tensorflow/stream_executor/cuda/cuda_gpu_executor.cc:937] successful NUMA node read from SysFS had negative value (-1), but there must be at least one NUMA node, so returning NUMA node zero\n",
      "2022-08-21 19:39:54.127052: I tensorflow/core/common_runtime/gpu/gpu_device.cc:1510] Created device /job:localhost/replica:0/task:0/device:GPU:0 with 15417 MB memory:  -> device: 0, name: Tesla P100-PCIE-16GB, pci bus id: 0000:00:04.0, compute capability: 6.0\n"
     ]
    }
   ],
   "source": [
    "%%time\n",
    "architecture = nn_model_one()\n",
    "architecture.summary()"
   ]
  },
  {
   "cell_type": "markdown",
   "id": "7edc651a",
   "metadata": {
    "papermill": {
     "duration": 0.121907,
     "end_time": "2022-08-21T19:39:54.803154",
     "exception": false,
     "start_time": "2022-08-21T19:39:54.681247",
     "status": "completed"
    },
    "tags": []
   },
   "source": [
    "---"
   ]
  },
  {
   "cell_type": "markdown",
   "id": "9c7987f5",
   "metadata": {
    "papermill": {
     "duration": 0.122493,
     "end_time": "2022-08-21T19:39:55.047045",
     "exception": false,
     "start_time": "2022-08-21T19:39:54.924552",
     "status": "completed"
    },
    "tags": []
   },
   "source": [
    "## 11.4 Defining Model Parameters for Training..."
   ]
  },
  {
   "cell_type": "code",
   "execution_count": 79,
   "id": "67fa32be",
   "metadata": {
    "execution": {
     "iopub.execute_input": "2022-08-21T19:39:55.295340Z",
     "iopub.status.busy": "2022-08-21T19:39:55.294301Z",
     "iopub.status.idle": "2022-08-21T19:39:55.300695Z",
     "shell.execute_reply": "2022-08-21T19:39:55.299974Z"
    },
    "papermill": {
     "duration": 0.131538,
     "end_time": "2022-08-21T19:39:55.303034",
     "exception": false,
     "start_time": "2022-08-21T19:39:55.171496",
     "status": "completed"
    },
    "tags": []
   },
   "outputs": [
    {
     "name": "stdout",
     "output_type": "stream",
     "text": [
      "CPU times: user 3 µs, sys: 1e+03 ns, total: 4 µs\n",
      "Wall time: 8.11 µs\n"
     ]
    }
   ],
   "source": [
    "%%time\n",
    "# Defining model parameters...\n",
    "BATCH_SIZE         = 128\n",
    "EPOCHS             = 250 \n",
    "EPOCHS_COSINEDECAY = 250\n",
    "DIAGRAMS           = True\n",
    "USE_PLATEAU        = True\n",
    "INFERENCE          = False\n",
    "VERBOSE            = 0 \n",
    "TARGET             = 'Transported'"
   ]
  },
  {
   "cell_type": "markdown",
   "id": "08664a85",
   "metadata": {
    "papermill": {
     "duration": 0.123745,
     "end_time": "2022-08-21T19:39:55.549242",
     "exception": false,
     "start_time": "2022-08-21T19:39:55.425497",
     "status": "completed"
    },
    "tags": []
   },
   "source": [
    "---"
   ]
  },
  {
   "cell_type": "markdown",
   "id": "b69b93b4",
   "metadata": {
    "papermill": {
     "duration": 0.122046,
     "end_time": "2022-08-21T19:39:55.795324",
     "exception": false,
     "start_time": "2022-08-21T19:39:55.673278",
     "status": "completed"
    },
    "tags": []
   },
   "source": [
    "## 11.5 Defining Training Functions for the NN Model"
   ]
  },
  {
   "cell_type": "code",
   "execution_count": 80,
   "id": "f90bef4f",
   "metadata": {
    "execution": {
     "iopub.execute_input": "2022-08-21T19:39:56.040790Z",
     "iopub.status.busy": "2022-08-21T19:39:56.040538Z",
     "iopub.status.idle": "2022-08-21T19:39:56.050725Z",
     "shell.execute_reply": "2022-08-21T19:39:56.049996Z"
    },
    "papermill": {
     "duration": 0.136021,
     "end_time": "2022-08-21T19:39:56.053223",
     "exception": false,
     "start_time": "2022-08-21T19:39:55.917202",
     "status": "completed"
    },
    "tags": []
   },
   "outputs": [
    {
     "name": "stdout",
     "output_type": "stream",
     "text": [
      "CPU times: user 4 µs, sys: 1 µs, total: 5 µs\n",
      "Wall time: 8.34 µs\n"
     ]
    }
   ],
   "source": [
    " %%time\n",
    "# Defining model training function...\n",
    "def fit_model(X_train, y_train, X_val, y_val, run = 0):\n",
    "    '''\n",
    "    '''\n",
    "    lr_start = 0.2\n",
    "    start_time = datetime.datetime.now()\n",
    "    \n",
    "    #scaler = StandardScaler()\n",
    "    #scaler = RobustScaler()\n",
    "    scaler = MinMaxScaler()\n",
    "    X_train = scaler.fit_transform(X_train)\n",
    "\n",
    "    epochs = EPOCHS    \n",
    "    lr = ReduceLROnPlateau(monitor = 'val_loss', factor = 0.1, patience = 8, verbose = VERBOSE)\n",
    "    es = EarlyStopping(monitor = 'val_loss',patience = 16, verbose = 1, mode = 'min', restore_best_weights = True)\n",
    "    tm = tf.keras.callbacks.TerminateOnNaN()\n",
    "    callbacks = [lr, es, tm]\n",
    "    \n",
    "    # Cosine Learning Rate Decay\n",
    "    if USE_PLATEAU == False:\n",
    "        epochs = EPOCHS_COSINEDECAY\n",
    "        lr_end = 0.0002\n",
    "\n",
    "        def cosine_decay(epoch):\n",
    "            if epochs > 1:\n",
    "                w = (1 + math.cos(epoch / (epochs - 1) * math.pi)) / 2\n",
    "            else:\n",
    "                w = 1\n",
    "            return w * lr_start + (1 - w) * lr_end\n",
    "        \n",
    "        lr = LearningRateScheduler(cosine_decay, verbose = 0)\n",
    "        callbacks = [lr, tm]\n",
    "        \n",
    "    model = nn_model_one()\n",
    "    \n",
    "    optimizer_func = tf.keras.optimizers.Adam(learning_rate = lr_start)\n",
    "    loss_func = tf.keras.losses.BinaryCrossentropy()\n",
    "    model.compile(optimizer = optimizer_func, loss = loss_func)\n",
    "    \n",
    "    X_val = scaler.transform(X_val)\n",
    "    validation_data = (X_val, y_val)\n",
    "    \n",
    "    history = model.fit(X_train, \n",
    "                        y_train, \n",
    "                        validation_data = validation_data, \n",
    "                        epochs          = epochs,\n",
    "                        verbose         = VERBOSE,\n",
    "                        batch_size      = BATCH_SIZE,\n",
    "                        shuffle         = True,\n",
    "                        callbacks       = callbacks\n",
    "                       )\n",
    "    \n",
    "    history_list.append(history.history)\n",
    "    print(f'Training loss:{history_list[-1][\"loss\"][-1]:.3f}')\n",
    "    callbacks, es, lr, tm, history = None, None, None, None, None\n",
    "    \n",
    "    \n",
    "    y_val_pred = model.predict(X_val, batch_size = BATCH_SIZE, verbose = VERBOSE)\n",
    "    y_val_pred = [1 if x > 0.5 else 0 for x in y_val_pred]\n",
    "    \n",
    "    score = accuracy_score(y_val, y_val_pred)\n",
    "    print(f'Fold {run}.{fold} | {str(datetime.datetime.now() - start_time)[-12:-7]}'\n",
    "          f'| ACC: {score:.5f}')\n",
    "    \n",
    "    score_list.append(score)\n",
    "    \n",
    "    tst_data_scaled = scaler.transform(tst_data[features])\n",
    "    tst_pred = model.predict(tst_data_scaled)\n",
    "    predictions.append(tst_pred)\n",
    "    \n",
    "    return model"
   ]
  },
  {
   "cell_type": "markdown",
   "id": "6c12416e",
   "metadata": {
    "papermill": {
     "duration": 0.122701,
     "end_time": "2022-08-21T19:39:56.299544",
     "exception": false,
     "start_time": "2022-08-21T19:39:56.176843",
     "status": "completed"
    },
    "tags": []
   },
   "source": [
    "---"
   ]
  },
  {
   "cell_type": "markdown",
   "id": "9a48e397",
   "metadata": {
    "papermill": {
     "duration": 0.120949,
     "end_time": "2022-08-21T19:39:56.540651",
     "exception": false,
     "start_time": "2022-08-21T19:39:56.419702",
     "status": "completed"
    },
    "tags": []
   },
   "source": [
    "# Training a XGBoost Classifier ..."
   ]
  },
  {
   "cell_type": "markdown",
   "id": "51d442b8",
   "metadata": {
    "execution": {
     "iopub.execute_input": "2022-05-20T21:24:47.407779Z",
     "iopub.status.busy": "2022-05-20T21:24:47.407368Z",
     "iopub.status.idle": "2022-05-20T21:24:47.412289Z",
     "shell.execute_reply": "2022-05-20T21:24:47.41129Z",
     "shell.execute_reply.started": "2022-05-20T21:24:47.407742Z"
    },
    "papermill": {
     "duration": 0.120019,
     "end_time": "2022-08-21T19:39:56.781499",
     "exception": false,
     "start_time": "2022-08-21T19:39:56.661480",
     "status": "completed"
    },
    "tags": []
   },
   "source": [
    "# 12.0 Training the NN Model, Using a CV Loop"
   ]
  },
  {
   "cell_type": "code",
   "execution_count": 81,
   "id": "4873c812",
   "metadata": {
    "execution": {
     "iopub.execute_input": "2022-08-21T19:39:57.025694Z",
     "iopub.status.busy": "2022-08-21T19:39:57.025421Z",
     "iopub.status.idle": "2022-08-21T19:41:48.325335Z",
     "shell.execute_reply": "2022-08-21T19:41:48.324293Z"
    },
    "papermill": {
     "duration": 111.42352,
     "end_time": "2022-08-21T19:41:48.327246",
     "exception": false,
     "start_time": "2022-08-21T19:39:56.903726",
     "status": "completed"
    },
    "tags": []
   },
   "outputs": [
    {
     "name": "stderr",
     "output_type": "stream",
     "text": [
      "2022-08-21 19:39:57.219321: I tensorflow/compiler/mlir/mlir_graph_optimization_pass.cc:185] None of the MLIR Optimization Passes are enabled (registered 2)\n"
     ]
    },
    {
     "name": "stdout",
     "output_type": "stream",
     "text": [
      "Restoring model weights from the end of the best epoch.\n",
      "Epoch 00085: early stopping\n",
      "Training loss:0.396\n",
      "Fold 0.0 | 00:26| ACC: 0.81541\n",
      "Restoring model weights from the end of the best epoch.\n",
      "Epoch 00067: early stopping\n",
      "Training loss:0.376\n",
      "Fold 0.1 | 00:19| ACC: 0.80276\n",
      "Restoring model weights from the end of the best epoch.\n",
      "Epoch 00025: early stopping\n",
      "Training loss:0.570\n",
      "Fold 0.2 | 00:08| ACC: 0.77516\n",
      "Restoring model weights from the end of the best epoch.\n",
      "Epoch 00114: early stopping\n",
      "Training loss:0.389\n",
      "Fold 0.3 | 00:42| ACC: 0.81703\n",
      "Restoring model weights from the end of the best epoch.\n",
      "Epoch 00045: early stopping\n",
      "Training loss:0.461\n",
      "Fold 0.4 | 00:14| ACC: 0.78769\n",
      "OOF AUC: 0.79961\n",
      "CPU times: user 2min 2s, sys: 11.2 s, total: 2min 14s\n",
      "Wall time: 1min 51s\n"
     ]
    }
   ],
   "source": [
    "%%time\n",
    "# Create empty lists to store NN information...\n",
    "history_list = []\n",
    "score_list   = []\n",
    "predictions  = []\n",
    "\n",
    "# Define kfolds for training purposes...\n",
    "#kf = KFold(n_splits = 5)\n",
    "kf = StratifiedKFold(n_splits = 5, random_state = 15, shuffle = True)\n",
    "\n",
    "for fold, (trn_idx, val_idx) in enumerate(kf.split(trn_data, trn_data[TARGET])):\n",
    "    X_train, X_val = trn_data.iloc[trn_idx][features], trn_data.iloc[val_idx][features]\n",
    "    y_train, y_val = trn_data.iloc[trn_idx][TARGET], trn_data.iloc[val_idx][TARGET]\n",
    "    \n",
    "    fit_model(X_train, y_train, X_val, y_val)\n",
    "    \n",
    "print(f'OOF AUC: {np.mean(score_list):.5f}')"
   ]
  },
  {
   "cell_type": "code",
   "execution_count": 82,
   "id": "d4f46574",
   "metadata": {
    "execution": {
     "iopub.execute_input": "2022-08-21T19:41:48.579171Z",
     "iopub.status.busy": "2022-08-21T19:41:48.578891Z",
     "iopub.status.idle": "2022-08-21T19:41:48.582569Z",
     "shell.execute_reply": "2022-08-21T19:41:48.581859Z"
    },
    "papermill": {
     "duration": 0.133073,
     "end_time": "2022-08-21T19:41:48.584675",
     "exception": false,
     "start_time": "2022-08-21T19:41:48.451602",
     "status": "completed"
    },
    "tags": []
   },
   "outputs": [],
   "source": [
    "# OOF AUC: 0.80375\n",
    "# OOF AUC: 0.80433\n",
    "# OOF AUC: 0.80536\n",
    "# OOF AUC: 0.80778\n",
    "# OOF AUC: 0.80812 ***\n",
    "# OOF AUC: 0.79420\n",
    "# OOF AUC: 0.79133\n",
    "\n",
    "# OOF AUC: 0.79731\n",
    "# OOF AUC: 0.79708\n",
    "\n",
    "# OOF AUC: 0.79973 ***\n",
    "\n",
    "# OOF AUC: 0.79777\n",
    "# OOF AUC: 0.80387 ***\n",
    "# OOF AUC: 0.80191 \n",
    "# OOF AUC: 0.80364 ...\n",
    "\n",
    "# OOF AUC: 0.80755 >>> 0.81061\n",
    "# OOF AUC: 0.80421 >>> 0.80664\n",
    "# OOF AUC: 0.80778 >>> 0.80664\n",
    "# OOF AUC: 0.80904 >>>"
   ]
  },
  {
   "cell_type": "markdown",
   "id": "c7e8ae5d",
   "metadata": {
    "papermill": {
     "duration": 0.12373,
     "end_time": "2022-08-21T19:41:48.833883",
     "exception": false,
     "start_time": "2022-08-21T19:41:48.710153",
     "status": "completed"
    },
    "tags": []
   },
   "source": [
    "---"
   ]
  },
  {
   "cell_type": "markdown",
   "id": "d087af25",
   "metadata": {
    "papermill": {
     "duration": 0.122948,
     "end_time": "2022-08-21T19:41:49.080213",
     "exception": false,
     "start_time": "2022-08-21T19:41:48.957265",
     "status": "completed"
    },
    "tags": []
   },
   "source": [
    "# 13.0 Generating Predictions"
   ]
  },
  {
   "cell_type": "code",
   "execution_count": 83,
   "id": "c595f09d",
   "metadata": {
    "execution": {
     "iopub.execute_input": "2022-08-21T19:41:49.331532Z",
     "iopub.status.busy": "2022-08-21T19:41:49.331232Z",
     "iopub.status.idle": "2022-08-21T19:41:49.345895Z",
     "shell.execute_reply": "2022-08-21T19:41:49.345138Z"
    },
    "papermill": {
     "duration": 0.143456,
     "end_time": "2022-08-21T19:41:49.347617",
     "exception": false,
     "start_time": "2022-08-21T19:41:49.204161",
     "status": "completed"
    },
    "tags": []
   },
   "outputs": [
    {
     "name": "stdout",
     "output_type": "stream",
     "text": [
      "CPU times: user 8.56 ms, sys: 152 µs, total: 8.71 ms\n",
      "Wall time: 8.99 ms\n"
     ]
    }
   ],
   "source": [
    "%%time\n",
    "# Populated the prediction on the submission dataset and creates an output file\n",
    "sub['Transported'] = np.array(predictions).mean(axis = 0)\n",
    "sub['Transported'] = np.where(sub['Transported'] > 0.5, True, False)\n",
    "sub.to_csv('my_submission_051922.csv', index = False)\n"
   ]
  },
  {
   "cell_type": "code",
   "execution_count": 84,
   "id": "89066089",
   "metadata": {
    "execution": {
     "iopub.execute_input": "2022-08-21T19:41:49.601092Z",
     "iopub.status.busy": "2022-08-21T19:41:49.600786Z",
     "iopub.status.idle": "2022-08-21T19:41:49.612631Z",
     "shell.execute_reply": "2022-08-21T19:41:49.611405Z"
    },
    "papermill": {
     "duration": 0.140567,
     "end_time": "2022-08-21T19:41:49.615048",
     "exception": false,
     "start_time": "2022-08-21T19:41:49.474481",
     "status": "completed"
    },
    "tags": []
   },
   "outputs": [
    {
     "name": "stdout",
     "output_type": "stream",
     "text": [
      "CPU times: user 127 µs, sys: 15 µs, total: 142 µs\n",
      "Wall time: 147 µs\n"
     ]
    },
    {
     "data": {
      "text/html": [
       "<div>\n",
       "<style scoped>\n",
       "    .dataframe tbody tr th:only-of-type {\n",
       "        vertical-align: middle;\n",
       "    }\n",
       "\n",
       "    .dataframe tbody tr th {\n",
       "        vertical-align: top;\n",
       "    }\n",
       "\n",
       "    .dataframe thead th {\n",
       "        text-align: right;\n",
       "    }\n",
       "</style>\n",
       "<table border=\"1\" class=\"dataframe\">\n",
       "  <thead>\n",
       "    <tr style=\"text-align: right;\">\n",
       "      <th></th>\n",
       "      <th>PassengerId</th>\n",
       "      <th>Transported</th>\n",
       "    </tr>\n",
       "  </thead>\n",
       "  <tbody>\n",
       "    <tr>\n",
       "      <th>0</th>\n",
       "      <td>0013_01</td>\n",
       "      <td>True</td>\n",
       "    </tr>\n",
       "    <tr>\n",
       "      <th>1</th>\n",
       "      <td>0018_01</td>\n",
       "      <td>False</td>\n",
       "    </tr>\n",
       "    <tr>\n",
       "      <th>2</th>\n",
       "      <td>0019_01</td>\n",
       "      <td>True</td>\n",
       "    </tr>\n",
       "    <tr>\n",
       "      <th>3</th>\n",
       "      <td>0021_01</td>\n",
       "      <td>True</td>\n",
       "    </tr>\n",
       "    <tr>\n",
       "      <th>4</th>\n",
       "      <td>0023_01</td>\n",
       "      <td>False</td>\n",
       "    </tr>\n",
       "  </tbody>\n",
       "</table>\n",
       "</div>"
      ],
      "text/plain": [
       "  PassengerId  Transported\n",
       "0     0013_01         True\n",
       "1     0018_01        False\n",
       "2     0019_01         True\n",
       "3     0021_01         True\n",
       "4     0023_01        False"
      ]
     },
     "execution_count": 84,
     "metadata": {},
     "output_type": "execute_result"
    }
   ],
   "source": [
    "%%time\n",
    "sub.head()"
   ]
  },
  {
   "cell_type": "markdown",
   "id": "6492f596",
   "metadata": {
    "execution": {
     "iopub.execute_input": "2022-05-20T22:14:55.044342Z",
     "iopub.status.busy": "2022-05-20T22:14:55.044009Z",
     "iopub.status.idle": "2022-05-20T22:14:55.049988Z",
     "shell.execute_reply": "2022-05-20T22:14:55.04911Z",
     "shell.execute_reply.started": "2022-05-20T22:14:55.044295Z"
    },
    "papermill": {
     "duration": 0.124076,
     "end_time": "2022-08-21T19:41:49.864380",
     "exception": false,
     "start_time": "2022-08-21T19:41:49.740304",
     "status": "completed"
    },
    "tags": []
   },
   "source": [
    "---"
   ]
  },
  {
   "cell_type": "code",
   "execution_count": null,
   "id": "fbc5963f",
   "metadata": {
    "papermill": {
     "duration": 0.124347,
     "end_time": "2022-08-21T19:41:50.115430",
     "exception": false,
     "start_time": "2022-08-21T19:41:49.991083",
     "status": "completed"
    },
    "tags": []
   },
   "outputs": [],
   "source": []
  },
  {
   "cell_type": "code",
   "execution_count": null,
   "id": "b838227a",
   "metadata": {
    "papermill": {
     "duration": 0.124024,
     "end_time": "2022-08-21T19:41:50.364687",
     "exception": false,
     "start_time": "2022-08-21T19:41:50.240663",
     "status": "completed"
    },
    "tags": []
   },
   "outputs": [],
   "source": []
  },
  {
   "cell_type": "code",
   "execution_count": null,
   "id": "0bd44372",
   "metadata": {
    "papermill": {
     "duration": 0.125,
     "end_time": "2022-08-21T19:41:50.613587",
     "exception": false,
     "start_time": "2022-08-21T19:41:50.488587",
     "status": "completed"
    },
    "tags": []
   },
   "outputs": [],
   "source": []
  }
 ],
 "metadata": {
  "kernelspec": {
   "display_name": "Python 3",
   "language": "python",
   "name": "python3"
  },
  "language_info": {
   "codemirror_mode": {
    "name": "ipython",
    "version": 3
   },
   "file_extension": ".py",
   "mimetype": "text/x-python",
   "name": "python",
   "nbconvert_exporter": "python",
   "pygments_lexer": "ipython3",
   "version": "3.7.12"
  },
  "papermill": {
   "default_parameters": {},
   "duration": 187.903102,
   "end_time": "2022-08-21T19:41:53.611847",
   "environment_variables": {},
   "exception": null,
   "input_path": "__notebook__.ipynb",
   "output_path": "__notebook__.ipynb",
   "parameters": {},
   "start_time": "2022-08-21T19:38:45.708745",
   "version": "2.3.4"
  },
  "widgets": {
   "application/vnd.jupyter.widget-state+json": {
    "state": {
     "1a586262a1544502b1c2b4b343afeb3b": {
      "model_module": "@jupyter-widgets/controls",
      "model_module_version": "1.5.0",
      "model_name": "ProgressStyleModel",
      "state": {
       "_model_module": "@jupyter-widgets/controls",
       "_model_module_version": "1.5.0",
       "_model_name": "ProgressStyleModel",
       "_view_count": null,
       "_view_module": "@jupyter-widgets/base",
       "_view_module_version": "1.2.0",
       "_view_name": "StyleView",
       "bar_color": null,
       "description_width": ""
      }
     },
     "1d3418370d8b4c80943e718dd44246f4": {
      "model_module": "@jupyter-widgets/base",
      "model_module_version": "1.2.0",
      "model_name": "LayoutModel",
      "state": {
       "_model_module": "@jupyter-widgets/base",
       "_model_module_version": "1.2.0",
       "_model_name": "LayoutModel",
       "_view_count": null,
       "_view_module": "@jupyter-widgets/base",
       "_view_module_version": "1.2.0",
       "_view_name": "LayoutView",
       "align_content": null,
       "align_items": null,
       "align_self": null,
       "border": null,
       "bottom": null,
       "display": null,
       "flex": null,
       "flex_flow": null,
       "grid_area": null,
       "grid_auto_columns": null,
       "grid_auto_flow": null,
       "grid_auto_rows": null,
       "grid_column": null,
       "grid_gap": null,
       "grid_row": null,
       "grid_template_areas": null,
       "grid_template_columns": null,
       "grid_template_rows": null,
       "height": null,
       "justify_content": null,
       "justify_items": null,
       "left": null,
       "margin": null,
       "max_height": null,
       "max_width": null,
       "min_height": null,
       "min_width": null,
       "object_fit": null,
       "object_position": null,
       "order": null,
       "overflow": null,
       "overflow_x": null,
       "overflow_y": null,
       "padding": null,
       "right": null,
       "top": null,
       "visibility": null,
       "width": null
      }
     },
     "3d8cf92d215b4166aa7522d6181a8a89": {
      "model_module": "@jupyter-widgets/base",
      "model_module_version": "1.2.0",
      "model_name": "LayoutModel",
      "state": {
       "_model_module": "@jupyter-widgets/base",
       "_model_module_version": "1.2.0",
       "_model_name": "LayoutModel",
       "_view_count": null,
       "_view_module": "@jupyter-widgets/base",
       "_view_module_version": "1.2.0",
       "_view_name": "LayoutView",
       "align_content": null,
       "align_items": null,
       "align_self": null,
       "border": null,
       "bottom": null,
       "display": null,
       "flex": null,
       "flex_flow": null,
       "grid_area": null,
       "grid_auto_columns": null,
       "grid_auto_flow": null,
       "grid_auto_rows": null,
       "grid_column": null,
       "grid_gap": null,
       "grid_row": null,
       "grid_template_areas": null,
       "grid_template_columns": null,
       "grid_template_rows": null,
       "height": null,
       "justify_content": null,
       "justify_items": null,
       "left": null,
       "margin": null,
       "max_height": null,
       "max_width": null,
       "min_height": null,
       "min_width": null,
       "object_fit": null,
       "object_position": null,
       "order": null,
       "overflow": null,
       "overflow_x": null,
       "overflow_y": null,
       "padding": null,
       "right": null,
       "top": null,
       "visibility": null,
       "width": null
      }
     },
     "4771364ca5604beba1b005abd89fd8e2": {
      "model_module": "@jupyter-widgets/controls",
      "model_module_version": "1.5.0",
      "model_name": "HBoxModel",
      "state": {
       "_dom_classes": [],
       "_model_module": "@jupyter-widgets/controls",
       "_model_module_version": "1.5.0",
       "_model_name": "HBoxModel",
       "_view_count": null,
       "_view_module": "@jupyter-widgets/controls",
       "_view_module_version": "1.5.0",
       "_view_name": "HBoxView",
       "box_style": "",
       "children": [
        "IPY_MODEL_ea928da117d94ffab9fc40ed434840d4",
        "IPY_MODEL_b75a5e22997d4a2fb415f71b67ca2109",
        "IPY_MODEL_88ff1315835f4e32ab85b8e8c6d89f82"
       ],
       "layout": "IPY_MODEL_f4969d0a3fe94b80b7b0780d449fada7"
      }
     },
     "643937205d074f668184726b70795448": {
      "model_module": "@jupyter-widgets/controls",
      "model_module_version": "1.5.0",
      "model_name": "DescriptionStyleModel",
      "state": {
       "_model_module": "@jupyter-widgets/controls",
       "_model_module_version": "1.5.0",
       "_model_name": "DescriptionStyleModel",
       "_view_count": null,
       "_view_module": "@jupyter-widgets/base",
       "_view_module_version": "1.2.0",
       "_view_name": "StyleView",
       "description_width": ""
      }
     },
     "65a7f00907bf4dac899433e97d2812cd": {
      "model_module": "@jupyter-widgets/base",
      "model_module_version": "1.2.0",
      "model_name": "LayoutModel",
      "state": {
       "_model_module": "@jupyter-widgets/base",
       "_model_module_version": "1.2.0",
       "_model_name": "LayoutModel",
       "_view_count": null,
       "_view_module": "@jupyter-widgets/base",
       "_view_module_version": "1.2.0",
       "_view_name": "LayoutView",
       "align_content": null,
       "align_items": null,
       "align_self": null,
       "border": null,
       "bottom": null,
       "display": null,
       "flex": null,
       "flex_flow": null,
       "grid_area": null,
       "grid_auto_columns": null,
       "grid_auto_flow": null,
       "grid_auto_rows": null,
       "grid_column": null,
       "grid_gap": null,
       "grid_row": null,
       "grid_template_areas": null,
       "grid_template_columns": null,
       "grid_template_rows": null,
       "height": null,
       "justify_content": null,
       "justify_items": null,
       "left": null,
       "margin": null,
       "max_height": null,
       "max_width": null,
       "min_height": null,
       "min_width": null,
       "object_fit": null,
       "object_position": null,
       "order": null,
       "overflow": null,
       "overflow_x": null,
       "overflow_y": null,
       "padding": null,
       "right": null,
       "top": null,
       "visibility": null,
       "width": null
      }
     },
     "65d5798edefc44b2b547b9f1e9ef04e5": {
      "model_module": "@jupyter-widgets/base",
      "model_module_version": "1.2.0",
      "model_name": "LayoutModel",
      "state": {
       "_model_module": "@jupyter-widgets/base",
       "_model_module_version": "1.2.0",
       "_model_name": "LayoutModel",
       "_view_count": null,
       "_view_module": "@jupyter-widgets/base",
       "_view_module_version": "1.2.0",
       "_view_name": "LayoutView",
       "align_content": null,
       "align_items": null,
       "align_self": null,
       "border": null,
       "bottom": null,
       "display": null,
       "flex": null,
       "flex_flow": null,
       "grid_area": null,
       "grid_auto_columns": null,
       "grid_auto_flow": null,
       "grid_auto_rows": null,
       "grid_column": null,
       "grid_gap": null,
       "grid_row": null,
       "grid_template_areas": null,
       "grid_template_columns": null,
       "grid_template_rows": null,
       "height": null,
       "justify_content": null,
       "justify_items": null,
       "left": null,
       "margin": null,
       "max_height": null,
       "max_width": null,
       "min_height": null,
       "min_width": null,
       "object_fit": null,
       "object_position": null,
       "order": null,
       "overflow": null,
       "overflow_x": null,
       "overflow_y": null,
       "padding": null,
       "right": null,
       "top": null,
       "visibility": null,
       "width": null
      }
     },
     "6bd83e95728747439698211955b50db0": {
      "model_module": "@jupyter-widgets/controls",
      "model_module_version": "1.5.0",
      "model_name": "HTMLModel",
      "state": {
       "_dom_classes": [],
       "_model_module": "@jupyter-widgets/controls",
       "_model_module_version": "1.5.0",
       "_model_name": "HTMLModel",
       "_view_count": null,
       "_view_module": "@jupyter-widgets/controls",
       "_view_module_version": "1.5.0",
       "_view_name": "HTMLView",
       "description": "",
       "description_tooltip": null,
       "layout": "IPY_MODEL_d7727c5cc76246b1bd37787f403d3084",
       "placeholder": "​",
       "style": "IPY_MODEL_8b2b70d7b5444c8e98b6ac90a60d694b",
       "value": "100%"
      }
     },
     "88ff1315835f4e32ab85b8e8c6d89f82": {
      "model_module": "@jupyter-widgets/controls",
      "model_module_version": "1.5.0",
      "model_name": "HTMLModel",
      "state": {
       "_dom_classes": [],
       "_model_module": "@jupyter-widgets/controls",
       "_model_module_version": "1.5.0",
       "_model_name": "HTMLModel",
       "_view_count": null,
       "_view_module": "@jupyter-widgets/controls",
       "_view_module_version": "1.5.0",
       "_view_name": "HTMLView",
       "description": "",
       "description_tooltip": null,
       "layout": "IPY_MODEL_1d3418370d8b4c80943e718dd44246f4",
       "placeholder": "​",
       "style": "IPY_MODEL_f0ec7cffb45b414680459542b46eb0d6",
       "value": " 6/6 [00:00&lt;00:00, 11.88it/s]"
      }
     },
     "8b2b70d7b5444c8e98b6ac90a60d694b": {
      "model_module": "@jupyter-widgets/controls",
      "model_module_version": "1.5.0",
      "model_name": "DescriptionStyleModel",
      "state": {
       "_model_module": "@jupyter-widgets/controls",
       "_model_module_version": "1.5.0",
       "_model_name": "DescriptionStyleModel",
       "_view_count": null,
       "_view_module": "@jupyter-widgets/base",
       "_view_module_version": "1.2.0",
       "_view_name": "StyleView",
       "description_width": ""
      }
     },
     "8b50f933e1f340aea9dd2b9b20cf9cf3": {
      "model_module": "@jupyter-widgets/controls",
      "model_module_version": "1.5.0",
      "model_name": "HBoxModel",
      "state": {
       "_dom_classes": [],
       "_model_module": "@jupyter-widgets/controls",
       "_model_module_version": "1.5.0",
       "_model_name": "HBoxModel",
       "_view_count": null,
       "_view_module": "@jupyter-widgets/controls",
       "_view_module_version": "1.5.0",
       "_view_name": "HBoxView",
       "box_style": "",
       "children": [
        "IPY_MODEL_6bd83e95728747439698211955b50db0",
        "IPY_MODEL_f996f33c7ee044ec913732f6ddeb2339",
        "IPY_MODEL_d48911f9b216450db33b93cc2c504d09"
       ],
       "layout": "IPY_MODEL_3d8cf92d215b4166aa7522d6181a8a89"
      }
     },
     "8cb067cec67b475aa0f19ab81aa3b98e": {
      "model_module": "@jupyter-widgets/controls",
      "model_module_version": "1.5.0",
      "model_name": "ProgressStyleModel",
      "state": {
       "_model_module": "@jupyter-widgets/controls",
       "_model_module_version": "1.5.0",
       "_model_name": "ProgressStyleModel",
       "_view_count": null,
       "_view_module": "@jupyter-widgets/base",
       "_view_module_version": "1.2.0",
       "_view_name": "StyleView",
       "bar_color": null,
       "description_width": ""
      }
     },
     "b6f1033f0e8e406b80a4c01a43b7e6ff": {
      "model_module": "@jupyter-widgets/controls",
      "model_module_version": "1.5.0",
      "model_name": "DescriptionStyleModel",
      "state": {
       "_model_module": "@jupyter-widgets/controls",
       "_model_module_version": "1.5.0",
       "_model_name": "DescriptionStyleModel",
       "_view_count": null,
       "_view_module": "@jupyter-widgets/base",
       "_view_module_version": "1.2.0",
       "_view_name": "StyleView",
       "description_width": ""
      }
     },
     "b72de233de8f417fbfd32ea153b138d9": {
      "model_module": "@jupyter-widgets/base",
      "model_module_version": "1.2.0",
      "model_name": "LayoutModel",
      "state": {
       "_model_module": "@jupyter-widgets/base",
       "_model_module_version": "1.2.0",
       "_model_name": "LayoutModel",
       "_view_count": null,
       "_view_module": "@jupyter-widgets/base",
       "_view_module_version": "1.2.0",
       "_view_name": "LayoutView",
       "align_content": null,
       "align_items": null,
       "align_self": null,
       "border": null,
       "bottom": null,
       "display": null,
       "flex": null,
       "flex_flow": null,
       "grid_area": null,
       "grid_auto_columns": null,
       "grid_auto_flow": null,
       "grid_auto_rows": null,
       "grid_column": null,
       "grid_gap": null,
       "grid_row": null,
       "grid_template_areas": null,
       "grid_template_columns": null,
       "grid_template_rows": null,
       "height": null,
       "justify_content": null,
       "justify_items": null,
       "left": null,
       "margin": null,
       "max_height": null,
       "max_width": null,
       "min_height": null,
       "min_width": null,
       "object_fit": null,
       "object_position": null,
       "order": null,
       "overflow": null,
       "overflow_x": null,
       "overflow_y": null,
       "padding": null,
       "right": null,
       "top": null,
       "visibility": null,
       "width": null
      }
     },
     "b75a5e22997d4a2fb415f71b67ca2109": {
      "model_module": "@jupyter-widgets/controls",
      "model_module_version": "1.5.0",
      "model_name": "FloatProgressModel",
      "state": {
       "_dom_classes": [],
       "_model_module": "@jupyter-widgets/controls",
       "_model_module_version": "1.5.0",
       "_model_name": "FloatProgressModel",
       "_view_count": null,
       "_view_module": "@jupyter-widgets/controls",
       "_view_module_version": "1.5.0",
       "_view_name": "ProgressView",
       "bar_style": "success",
       "description": "",
       "description_tooltip": null,
       "layout": "IPY_MODEL_65d5798edefc44b2b547b9f1e9ef04e5",
       "max": 6.0,
       "min": 0.0,
       "orientation": "horizontal",
       "style": "IPY_MODEL_8cb067cec67b475aa0f19ab81aa3b98e",
       "value": 6.0
      }
     },
     "be78e596a0f04e53b55c0184ce3f37d6": {
      "model_module": "@jupyter-widgets/base",
      "model_module_version": "1.2.0",
      "model_name": "LayoutModel",
      "state": {
       "_model_module": "@jupyter-widgets/base",
       "_model_module_version": "1.2.0",
       "_model_name": "LayoutModel",
       "_view_count": null,
       "_view_module": "@jupyter-widgets/base",
       "_view_module_version": "1.2.0",
       "_view_name": "LayoutView",
       "align_content": null,
       "align_items": null,
       "align_self": null,
       "border": null,
       "bottom": null,
       "display": null,
       "flex": null,
       "flex_flow": null,
       "grid_area": null,
       "grid_auto_columns": null,
       "grid_auto_flow": null,
       "grid_auto_rows": null,
       "grid_column": null,
       "grid_gap": null,
       "grid_row": null,
       "grid_template_areas": null,
       "grid_template_columns": null,
       "grid_template_rows": null,
       "height": null,
       "justify_content": null,
       "justify_items": null,
       "left": null,
       "margin": null,
       "max_height": null,
       "max_width": null,
       "min_height": null,
       "min_width": null,
       "object_fit": null,
       "object_position": null,
       "order": null,
       "overflow": null,
       "overflow_x": null,
       "overflow_y": null,
       "padding": null,
       "right": null,
       "top": null,
       "visibility": null,
       "width": null
      }
     },
     "d48911f9b216450db33b93cc2c504d09": {
      "model_module": "@jupyter-widgets/controls",
      "model_module_version": "1.5.0",
      "model_name": "HTMLModel",
      "state": {
       "_dom_classes": [],
       "_model_module": "@jupyter-widgets/controls",
       "_model_module_version": "1.5.0",
       "_model_name": "HTMLModel",
       "_view_count": null,
       "_view_module": "@jupyter-widgets/controls",
       "_view_module_version": "1.5.0",
       "_view_name": "HTMLView",
       "description": "",
       "description_tooltip": null,
       "layout": "IPY_MODEL_65a7f00907bf4dac899433e97d2812cd",
       "placeholder": "​",
       "style": "IPY_MODEL_643937205d074f668184726b70795448",
       "value": " 6/6 [00:00&lt;00:00, 15.53it/s]"
      }
     },
     "d7727c5cc76246b1bd37787f403d3084": {
      "model_module": "@jupyter-widgets/base",
      "model_module_version": "1.2.0",
      "model_name": "LayoutModel",
      "state": {
       "_model_module": "@jupyter-widgets/base",
       "_model_module_version": "1.2.0",
       "_model_name": "LayoutModel",
       "_view_count": null,
       "_view_module": "@jupyter-widgets/base",
       "_view_module_version": "1.2.0",
       "_view_name": "LayoutView",
       "align_content": null,
       "align_items": null,
       "align_self": null,
       "border": null,
       "bottom": null,
       "display": null,
       "flex": null,
       "flex_flow": null,
       "grid_area": null,
       "grid_auto_columns": null,
       "grid_auto_flow": null,
       "grid_auto_rows": null,
       "grid_column": null,
       "grid_gap": null,
       "grid_row": null,
       "grid_template_areas": null,
       "grid_template_columns": null,
       "grid_template_rows": null,
       "height": null,
       "justify_content": null,
       "justify_items": null,
       "left": null,
       "margin": null,
       "max_height": null,
       "max_width": null,
       "min_height": null,
       "min_width": null,
       "object_fit": null,
       "object_position": null,
       "order": null,
       "overflow": null,
       "overflow_x": null,
       "overflow_y": null,
       "padding": null,
       "right": null,
       "top": null,
       "visibility": null,
       "width": null
      }
     },
     "ea928da117d94ffab9fc40ed434840d4": {
      "model_module": "@jupyter-widgets/controls",
      "model_module_version": "1.5.0",
      "model_name": "HTMLModel",
      "state": {
       "_dom_classes": [],
       "_model_module": "@jupyter-widgets/controls",
       "_model_module_version": "1.5.0",
       "_model_name": "HTMLModel",
       "_view_count": null,
       "_view_module": "@jupyter-widgets/controls",
       "_view_module_version": "1.5.0",
       "_view_name": "HTMLView",
       "description": "",
       "description_tooltip": null,
       "layout": "IPY_MODEL_be78e596a0f04e53b55c0184ce3f37d6",
       "placeholder": "​",
       "style": "IPY_MODEL_b6f1033f0e8e406b80a4c01a43b7e6ff",
       "value": "100%"
      }
     },
     "f0ec7cffb45b414680459542b46eb0d6": {
      "model_module": "@jupyter-widgets/controls",
      "model_module_version": "1.5.0",
      "model_name": "DescriptionStyleModel",
      "state": {
       "_model_module": "@jupyter-widgets/controls",
       "_model_module_version": "1.5.0",
       "_model_name": "DescriptionStyleModel",
       "_view_count": null,
       "_view_module": "@jupyter-widgets/base",
       "_view_module_version": "1.2.0",
       "_view_name": "StyleView",
       "description_width": ""
      }
     },
     "f4969d0a3fe94b80b7b0780d449fada7": {
      "model_module": "@jupyter-widgets/base",
      "model_module_version": "1.2.0",
      "model_name": "LayoutModel",
      "state": {
       "_model_module": "@jupyter-widgets/base",
       "_model_module_version": "1.2.0",
       "_model_name": "LayoutModel",
       "_view_count": null,
       "_view_module": "@jupyter-widgets/base",
       "_view_module_version": "1.2.0",
       "_view_name": "LayoutView",
       "align_content": null,
       "align_items": null,
       "align_self": null,
       "border": null,
       "bottom": null,
       "display": null,
       "flex": null,
       "flex_flow": null,
       "grid_area": null,
       "grid_auto_columns": null,
       "grid_auto_flow": null,
       "grid_auto_rows": null,
       "grid_column": null,
       "grid_gap": null,
       "grid_row": null,
       "grid_template_areas": null,
       "grid_template_columns": null,
       "grid_template_rows": null,
       "height": null,
       "justify_content": null,
       "justify_items": null,
       "left": null,
       "margin": null,
       "max_height": null,
       "max_width": null,
       "min_height": null,
       "min_width": null,
       "object_fit": null,
       "object_position": null,
       "order": null,
       "overflow": null,
       "overflow_x": null,
       "overflow_y": null,
       "padding": null,
       "right": null,
       "top": null,
       "visibility": null,
       "width": null
      }
     },
     "f996f33c7ee044ec913732f6ddeb2339": {
      "model_module": "@jupyter-widgets/controls",
      "model_module_version": "1.5.0",
      "model_name": "FloatProgressModel",
      "state": {
       "_dom_classes": [],
       "_model_module": "@jupyter-widgets/controls",
       "_model_module_version": "1.5.0",
       "_model_name": "FloatProgressModel",
       "_view_count": null,
       "_view_module": "@jupyter-widgets/controls",
       "_view_module_version": "1.5.0",
       "_view_name": "ProgressView",
       "bar_style": "success",
       "description": "",
       "description_tooltip": null,
       "layout": "IPY_MODEL_b72de233de8f417fbfd32ea153b138d9",
       "max": 6.0,
       "min": 0.0,
       "orientation": "horizontal",
       "style": "IPY_MODEL_1a586262a1544502b1c2b4b343afeb3b",
       "value": 6.0
      }
     }
    },
    "version_major": 2,
    "version_minor": 0
   }
  }
 },
 "nbformat": 4,
 "nbformat_minor": 5
}
