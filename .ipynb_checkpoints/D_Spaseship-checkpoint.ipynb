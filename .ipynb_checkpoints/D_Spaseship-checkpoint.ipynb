{
 "cells": [
  {
   "cell_type": "code",
   "execution_count": 1,
   "id": "7e9f6115",
   "metadata": {},
   "outputs": [
    {
     "name": "stdout",
     "output_type": "stream",
     "text": [
      "3.10.4 (main, Mar 31 2022, 03:38:35) [Clang 12.0.0 ]\n",
      "/Users/ssv/opt/anaconda3/envs/ML_Test/lib/python3.10\n"
     ]
    }
   ],
   "source": [
    "import sys\n",
    "print(sys.version)\n",
    "print(sys.path[2])"
   ]
  },
  {
   "cell_type": "code",
   "execution_count": 1,
   "id": "00cb98a7",
   "metadata": {},
   "outputs": [],
   "source": [
    "import pandas as pd\n",
    "import numpy as np\n",
    "from sklearn import preprocessing\n",
    "from sklearn.ensemble import RandomForestRegressor\n",
    "from sklearn.ensemble import RandomForestClassifier\n",
    "from sklearn.preprocessing import StandardScaler\n",
    "from sklearn.model_selection import GridSearchCV\n",
    "import re"
   ]
  },
  {
   "cell_type": "code",
   "execution_count": 2,
   "id": "0c2e9eca",
   "metadata": {},
   "outputs": [],
   "source": [
    "import warnings\n",
    "warnings.filterwarnings('ignore')"
   ]
  },
  {
   "cell_type": "code",
   "execution_count": 3,
   "id": "14caf93d",
   "metadata": {},
   "outputs": [],
   "source": [
    "from matplotlib import pyplot as plt\n",
    "%matplotlib inline"
   ]
  },
  {
   "cell_type": "markdown",
   "id": "e7565d2e",
   "metadata": {},
   "source": [
    "# File and Data Field Descriptions\n",
    "\n",
    "* train.csv - Personal records for about two-thirds (~8700) of the passengers, to be used as training data.\n",
    "    - PassengerId - Уникальный идентификатор для каждого пассажира. Каждый идентификатор принимает форму gggg_pp, где gggg указывает группу, с которой путешествует пассажир, а pp — его номер в группе. Люди в группе часто являются членами семьи, но не всегда.\n",
    "    - HomePlanet - The planet the passenger departed from, typically their planet of permanent residence.\n",
    "    - CryoSleep - Указывает, решил ли пассажир быть помещенным в анабиоз на время рейса. Пассажиры, находящиеся в криосонном состоянии, находятся в своих каютах.\n",
    "    - Cabin - Номер каюты, в которой находится пассажир. Принимает форму палуба/число/сторона, где сторона может быть либо P для левого борта, либо S для правого борта.\n",
    "    -  - Планета, на которую будет высаживаться пассажир.\n",
    "    - Age - The age of the passenger.\n",
    "    - VIP - Оплатил ли пассажир специальное VIP-обслуживание во время рейса.\n",
    "    - RoomService, FoodCourt, ShoppingMall, Spa, VRDeck - Amount the passenger has billed at each of the Spaceship Titanic's many luxury amenities.\n",
    "    - Name - The first and last names of the passenger.\n",
    "    - Transported - Whether the passenger was transported to another dimension. This is the target, the column you are trying to predict.\n",
    "\n",
    "* test.csv - Personal records for the remaining one-third (~4300) of the passengers, to be used as test data. Your task is to predict the value of Transported for the passengers in this set.\n",
    "\n",
    "* sample_submission.csv - A submission file in the correct format.\n",
    "    - PassengerId - Id for each passenger in the test set.\n",
    "    - Transported - The target. For each passenger, predict either True or False."
   ]
  },
  {
   "cell_type": "code",
   "execution_count": null,
   "id": "f5d98b25",
   "metadata": {},
   "outputs": [],
   "source": []
  },
  {
   "cell_type": "code",
   "execution_count": 5,
   "id": "389cab4d",
   "metadata": {},
   "outputs": [],
   "source": [
    "def get_variables_names (variables_list = []):\n",
    "\n",
    "    variables_names = np.array(range (0, len(variables_list)), dtype=np.dtype(object))\n",
    "    \n",
    "    for i in range (0, len(variables_list)):\n",
    "\n",
    "        variables_names[i] = [x for x in globals() if globals()[x] is variables_list[i]][0]\n",
    "        \n",
    "    return variables_names    "
   ]
  },
  {
   "cell_type": "code",
   "execution_count": 59,
   "id": "639ff6ac",
   "metadata": {},
   "outputs": [],
   "source": [
    "def missed_values_count(df_list, normalize=True, visualize=True):\n",
    "    \n",
    "    missedvalues_df = pd.DataFrame()\n",
    "    df_number = 0\n",
    "    \n",
    "    variables_names = get_variables_names(df_list)\n",
    "    \n",
    "    for df in df_list:\n",
    "        \n",
    "        totalvalues_in_row = df.shape[0]\n",
    "    \n",
    "        print('Total values in ', variables_names[df_number], ': ', totalvalues_in_row)\n",
    "        \n",
    "        for col in df.columns:\n",
    "            \n",
    "            if normalize:                \n",
    "                missedvalues_df.loc[df_number, col] =  round(100 - (df[col].describe()[0] * 100) / totalvalues_in_row, 2)\n",
    "                message_text = 'Missed values (%):'\n",
    "            else:\n",
    "                missedvalues_df.loc[df_number, col] = totalvalues_in_row - df[col].describe()[0]\n",
    "                message_text = 'Missed values (counts):'\n",
    "            \n",
    "        df_number += 1    \n",
    "    \n",
    "\n",
    "    new_index = pd.Index(data=['DataFrame_Name']).append(missedvalues_df.columns)\n",
    "    missedvalues_df['DataFrame_Name'] = variables_names\n",
    "    \n",
    "    missedvalues_df=missedvalues_df[new_index]\n",
    "    \n",
    "    print(message_text)\n",
    "    \n",
    "    if visualize:\n",
    "        i = 0\n",
    "        try:\n",
    "            for df in df_list:\n",
    "                msno.matrix(df, color=(0.0, 0.0, 0.99))\n",
    "                i += 1\n",
    "        except NameError:\n",
    "            print('!!!! ------------------------------------------')\n",
    "            print('Library missingno not installed!!!')\n",
    "            print('https://github.com/ResidentMario/missingno')\n",
    "            print('pip install missingno')\n",
    "            print('import missingno as msno')\n",
    "                    \n",
    "    return missedvalues_df"
   ]
  },
  {
   "cell_type": "code",
   "execution_count": 6,
   "id": "72b9f856",
   "metadata": {},
   "outputs": [
    {
     "name": "stdout",
     "output_type": "stream",
     "text": [
      "Train:  (8693, 14) Test:  (4277, 13)\n"
     ]
    }
   ],
   "source": [
    "train_df = pd.read_csv('~/TestProj/ML/Spaceship_Titanic/Data/train.csv')\n",
    "test_df = pd.read_csv('~/TestProj/ML/Spaceship_Titanic/Data/test.csv')\n",
    "\n",
    "print ('Train: ', train_df.shape, 'Test: ', test_df.shape)"
   ]
  },
  {
   "cell_type": "code",
   "execution_count": null,
   "id": "0dc3234f",
   "metadata": {},
   "outputs": [],
   "source": []
  },
  {
   "cell_type": "code",
   "execution_count": 62,
   "id": "9d1f70aa",
   "metadata": {},
   "outputs": [
    {
     "ename": "IndexError",
     "evalue": "list index out of range",
     "output_type": "error",
     "traceback": [
      "\u001b[0;31m---------------------------------------------------------------------------\u001b[0m",
      "\u001b[0;31mIndexError\u001b[0m                                Traceback (most recent call last)",
      "Input \u001b[0;32mIn [62]\u001b[0m, in \u001b[0;36m<cell line: 1>\u001b[0;34m()\u001b[0m\n\u001b[0;32m----> 1\u001b[0m \u001b[43mtools\u001b[49m\u001b[38;5;241;43m.\u001b[39;49m\u001b[43mmissed_values_count\u001b[49m\u001b[43m(\u001b[49m\u001b[43m[\u001b[49m\u001b[43mtrain_df\u001b[49m\u001b[43m,\u001b[49m\u001b[43m \u001b[49m\u001b[43mtest_df\u001b[49m\u001b[43m]\u001b[49m\u001b[43m)\u001b[49m\u001b[38;5;241m.\u001b[39mhead()\n",
      "File \u001b[0;32m~/TestProj/ML/Spaceship_Titanic/Code/my_tools.py:26\u001b[0m, in \u001b[0;36mmissed_values_count\u001b[0;34m(df_list, normalize, visualize)\u001b[0m\n\u001b[1;32m     23\u001b[0m missedvalues_df \u001b[38;5;241m=\u001b[39m pd\u001b[38;5;241m.\u001b[39mDataFrame()\n\u001b[1;32m     24\u001b[0m df_number \u001b[38;5;241m=\u001b[39m \u001b[38;5;241m0\u001b[39m\n\u001b[0;32m---> 26\u001b[0m variables_names \u001b[38;5;241m=\u001b[39m \u001b[43mget_variables_names\u001b[49m\u001b[43m(\u001b[49m\u001b[43mdf_list\u001b[49m\u001b[43m)\u001b[49m\n\u001b[1;32m     28\u001b[0m \u001b[38;5;28;01mfor\u001b[39;00m df \u001b[38;5;129;01min\u001b[39;00m df_list:\n\u001b[1;32m     30\u001b[0m     totalvalues_in_row \u001b[38;5;241m=\u001b[39m df\u001b[38;5;241m.\u001b[39mshape[\u001b[38;5;241m0\u001b[39m]\n",
      "File \u001b[0;32m~/TestProj/ML/Spaceship_Titanic/Code/my_tools.py:16\u001b[0m, in \u001b[0;36mget_variables_names\u001b[0;34m(variables_list)\u001b[0m\n\u001b[1;32m     12\u001b[0m variables_names \u001b[38;5;241m=\u001b[39m np\u001b[38;5;241m.\u001b[39marray(\u001b[38;5;28mrange\u001b[39m (\u001b[38;5;241m0\u001b[39m, \u001b[38;5;28mlen\u001b[39m(variables_list)), dtype\u001b[38;5;241m=\u001b[39mnp\u001b[38;5;241m.\u001b[39mdtype(\u001b[38;5;28mobject\u001b[39m))\n\u001b[1;32m     14\u001b[0m \u001b[38;5;28;01mfor\u001b[39;00m i \u001b[38;5;129;01min\u001b[39;00m \u001b[38;5;28mrange\u001b[39m (\u001b[38;5;241m0\u001b[39m, \u001b[38;5;28mlen\u001b[39m(variables_list)):\n\u001b[0;32m---> 16\u001b[0m     variables_names[i] \u001b[38;5;241m=\u001b[39m \u001b[43m[\u001b[49m\u001b[43mx\u001b[49m\u001b[43m \u001b[49m\u001b[38;5;28;43;01mfor\u001b[39;49;00m\u001b[43m \u001b[49m\u001b[43mx\u001b[49m\u001b[43m \u001b[49m\u001b[38;5;129;43;01min\u001b[39;49;00m\u001b[43m \u001b[49m\u001b[38;5;28;43mglobals\u001b[39;49m\u001b[43m(\u001b[49m\u001b[43m)\u001b[49m\u001b[43m \u001b[49m\u001b[38;5;28;43;01mif\u001b[39;49;00m\u001b[43m \u001b[49m\u001b[38;5;28;43mglobals\u001b[39;49m\u001b[43m(\u001b[49m\u001b[43m)\u001b[49m\u001b[43m[\u001b[49m\u001b[43mx\u001b[49m\u001b[43m]\u001b[49m\u001b[43m \u001b[49m\u001b[38;5;129;43;01mis\u001b[39;49;00m\u001b[43m \u001b[49m\u001b[43mvariables_list\u001b[49m\u001b[43m[\u001b[49m\u001b[43mi\u001b[49m\u001b[43m]\u001b[49m\u001b[43m]\u001b[49m\u001b[43m[\u001b[49m\u001b[38;5;241;43m0\u001b[39;49m\u001b[43m]\u001b[49m\n\u001b[1;32m     18\u001b[0m \u001b[38;5;28;01mreturn\u001b[39;00m variables_names\n",
      "\u001b[0;31mIndexError\u001b[0m: list index out of range"
     ]
    }
   ],
   "source": [
    "missed_values_count([train_df, test_df]).head()"
   ]
  },
  {
   "cell_type": "code",
   "execution_count": 23,
   "id": "1ab353fa",
   "metadata": {},
   "outputs": [],
   "source": [
    "import missingno as msno\n",
    "%matplotlib inline"
   ]
  },
  {
   "cell_type": "code",
   "execution_count": null,
   "id": "497effac",
   "metadata": {
    "scrolled": true
   },
   "outputs": [],
   "source": [
    "msno.bar(train_df, log=False, color=(0.0, 0.0, 0.99))"
   ]
  },
  {
   "cell_type": "code",
   "execution_count": null,
   "id": "1e3d3f9a",
   "metadata": {},
   "outputs": [],
   "source": [
    "msno.heatmap(train_df)"
   ]
  },
  {
   "cell_type": "code",
   "execution_count": null,
   "id": "df2aa3a0",
   "metadata": {},
   "outputs": [],
   "source": []
  },
  {
   "cell_type": "code",
   "execution_count": null,
   "id": "41c685b7",
   "metadata": {},
   "outputs": [],
   "source": []
  },
  {
   "cell_type": "code",
   "execution_count": null,
   "id": "e4721173",
   "metadata": {},
   "outputs": [],
   "source": []
  },
  {
   "cell_type": "code",
   "execution_count": null,
   "id": "7f19d581",
   "metadata": {},
   "outputs": [],
   "source": [
    "train_df.groupby(train_df['VIP'])['CryoSleep'].value_counts()"
   ]
  },
  {
   "cell_type": "code",
   "execution_count": null,
   "id": "9548693c",
   "metadata": {},
   "outputs": [],
   "source": []
  },
  {
   "cell_type": "code",
   "execution_count": null,
   "id": "c8531cb9",
   "metadata": {},
   "outputs": [],
   "source": [
    "pd.crosstab(train_df['CryoSleep'], train_df['Transported'], normalize=True)"
   ]
  },
  {
   "cell_type": "code",
   "execution_count": null,
   "id": "4860f61b",
   "metadata": {},
   "outputs": [],
   "source": []
  },
  {
   "cell_type": "code",
   "execution_count": null,
   "id": "4cdfbc01",
   "metadata": {},
   "outputs": [],
   "source": [
    "train_df['Destination'].value_counts(normalize=True)\n",
    "\n",
    "train_df.describe(include='object')\n",
    "\n",
    "pd.crosstab(train_df['CryoSleep'], train_df['Transported'], normalize=False)\n",
    "\n",
    "sss = train_df.style\n",
    "sss.highlight_null(null_color='red', subset=None, props=None)\n",
    "\n",
    "train_df.corr()\n",
    "\n",
    "train_df.count()\n",
    "\n",
    "\n",
    "\n",
    "train_df[train_df['CryoSleep'].isna()].style.highlight_null(null_color='red', subset=None, props=None)\n",
    "\n",
    "\n",
    "\n",
    "plt.figure(figsize=(7, 3))\n",
    "plt.hist(train_df['RoomService'], bins=50, color='#000099')\n",
    "\n",
    "plt.xlabel ('RoomService')\n",
    "plt.ylabel ('Hist')\n",
    "\n",
    "plt.grid(lw=2)\n",
    "\n",
    "train_df['RoomService']\n",
    "\n",
    "train_df['RoomService'].describe()[0]\n",
    "\n",
    "train_df.shape[0]\n",
    "\n",
    "train_df.shape[0] - train_df['RoomService'].describe()[0]"
   ]
  }
 ],
 "metadata": {
  "kernelspec": {
   "display_name": "Python 3 (ipykernel)",
   "language": "python",
   "name": "python3"
  },
  "language_info": {
   "codemirror_mode": {
    "name": "ipython",
    "version": 3
   },
   "file_extension": ".py",
   "mimetype": "text/x-python",
   "name": "python",
   "nbconvert_exporter": "python",
   "pygments_lexer": "ipython3",
   "version": "3.10.4"
  }
 },
 "nbformat": 4,
 "nbformat_minor": 5
}
