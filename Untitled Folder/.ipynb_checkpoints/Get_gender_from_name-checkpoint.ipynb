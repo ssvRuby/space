{
 "cells": [
  {
   "cell_type": "code",
   "execution_count": 2,
   "id": "48f6d9e5",
   "metadata": {},
   "outputs": [],
   "source": [
    "#-------------------------------------------------------------------------------\n",
    "# https://www.geeksforgeeks.org/python-gender-identification-by-name-using-nltk/\n",
    "#-------------------------------------------------------------------------------"
   ]
  },
  {
   "cell_type": "code",
   "execution_count": 3,
   "id": "5b5c58f1",
   "metadata": {},
   "outputs": [],
   "source": [
    "from nltk.corpus import names\n",
    "import nltk\n",
    "import random"
   ]
  },
  {
   "cell_type": "code",
   "execution_count": 4,
   "id": "55534b23",
   "metadata": {},
   "outputs": [],
   "source": [
    "def gender_features(word):\n",
    "    return {'last_letter':word[-1]}\n",
    "  \n",
    "# preparing a list of examples and corresponding class labels.\n",
    "labeled_names = ([(name, 'male') for name in names.words('male.txt')]+\n",
    "             [(name, 'female') for name in names.words('female.txt')])\n",
    "  \n",
    "random.shuffle(labeled_names)\n",
    "  \n",
    "# we use the feature extractor to process the names data.\n",
    "featuresets = [(gender_features(n), gender) \n",
    "               for (n, gender)in labeled_names]\n",
    "  \n",
    "# Divide the resulting list of feature\n",
    "# sets into a training set and a test set.\n",
    "train_set, test_set = featuresets[500:], featuresets[:500]\n",
    "  \n",
    "# The training set is used to \n",
    "# train a new \"naive Bayes\" classifier.\n",
    "classifier = nltk.NaiveBayesClassifier.train(train_set)\n",
    "  \n",
    "    \n",
    "def get_gender(name):\n",
    "    return classifier.classify(gender_features(name))    "
   ]
  },
  {
   "cell_type": "code",
   "execution_count": null,
   "id": "ba69b125",
   "metadata": {},
   "outputs": [],
   "source": [
    "for df in all_dataframes:\n",
    "    \n",
    "    df['Gender'] = df.apply(lambda r: get_gender(r['PassengerName']) \\\n",
    "                                   if r['PassengerName'] == r['PassengerName'] else np.nan, axis=1)"
   ]
  }
 ],
 "metadata": {
  "kernelspec": {
   "display_name": "Python 3 (ipykernel)",
   "language": "python",
   "name": "python3"
  },
  "language_info": {
   "codemirror_mode": {
    "name": "ipython",
    "version": 3
   },
   "file_extension": ".py",
   "mimetype": "text/x-python",
   "name": "python",
   "nbconvert_exporter": "python",
   "pygments_lexer": "ipython3",
   "version": "3.10.4"
  }
 },
 "nbformat": 4,
 "nbformat_minor": 5
}
