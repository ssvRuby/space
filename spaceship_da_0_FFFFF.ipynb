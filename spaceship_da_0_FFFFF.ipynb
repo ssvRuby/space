{
 "cells": [
  {
   "cell_type": "code",
   "execution_count": 1,
   "id": "5dc62273",
   "metadata": {
    "scrolled": true
   },
   "outputs": [],
   "source": [
    "import pandas as pd\n",
    "import numpy as np\n",
    "\n",
    "from sklearn import preprocessing\n",
    "from sklearn.ensemble import GradientBoostingClassifier\n",
    "\n",
    "import warnings\n",
    "warnings.filterwarnings('ignore')\n",
    "\n",
    "# from dataprep.eda import create_report, plot, plot_correlation, plot_missing, plot_diff\n",
    "\n",
    "%matplotlib inline\n",
    "import seaborn as sns\n",
    "import matplotlib.pyplot as plt\n",
    "#графики в svg выглядят более четкими\n",
    "%config InlineBackend.figure_format = 'svg' \n",
    "\n",
    "#увеличим дефолтный размер графиков\n",
    "from pylab import rcParams\n",
    "rcParams['figure.figsize'] = 8, 5\n",
    "\n",
    "\n",
    "pd.set_option('display.max_rows', None)\n",
    "pd.set_option('display.max_columns', None)"
   ]
  },
  {
   "cell_type": "code",
   "execution_count": 2,
   "outputs": [],
   "source": [
    "from sklearn.ensemble import GradientBoostingClassifier"
   ],
   "metadata": {
    "collapsed": false
   }
  },
  {
   "cell_type": "code",
   "execution_count": 3,
   "id": "dd1e28f5",
   "metadata": {},
   "outputs": [],
   "source": [
    "from nltk.corpus import names\n",
    "import nltk\n",
    "import random\n",
    "\n",
    "#-----------------------------------------------------------------------------------------\n",
    "# FEATURE GENERATION: GENDER\n",
    "#-----------------------------------------------------------------------------------------\n",
    "\n",
    "def gender_features(word):\n",
    "    return {'last_letter':word[-1]}\n",
    "  \n",
    "# preparing a list of examples and corresponding class labels.\n",
    "labeled_names = ([(name, 'male') for name in names.words('male.txt')]+\n",
    "             [(name, 'female') for name in names.words('female.txt')])\n",
    "  \n",
    "random.shuffle(labeled_names)\n",
    "  \n",
    "# we use the feature extractor to process the names data.\n",
    "featuresets = [(gender_features(n), gender) \n",
    "               for (n, gender)in labeled_names]\n",
    "  \n",
    "# Divide the resulting list of feature\n",
    "# sets into a training set and a test set.\n",
    "train_set, test_set = featuresets[500:], featuresets[:500]\n",
    "  \n",
    "# The training set is used to \n",
    "# train a new \"naive Bayes\" classifier.\n",
    "classifier = nltk.NaiveBayesClassifier.train(train_set)\n",
    "  \n",
    "    \n",
    "def get_gender(name):\n",
    "    return classifier.classify(gender_features(name))"
   ]
  },
  {
   "cell_type": "code",
   "execution_count": 2,
   "outputs": [],
   "source": [],
   "metadata": {
    "collapsed": false
   }
  },
  {
   "cell_type": "code",
   "execution_count": 3,
   "id": "71e18836",
   "metadata": {},
   "outputs": [],
   "source": [
    "#-----------------------------------------------------------------------------------------\n",
    "# FEATURE IMPORTANCE\n",
    "#-----------------------------------------------------------------------------------------\n",
    "\n",
    "def plot_feature_importance (estimator_object, X_train, y_train):\n",
    "\n",
    "    model = estimator_object\n",
    "    model.fit(X_train, y_train)  \n",
    "\n",
    "\n",
    "    feature_importance = model.feature_importances_\n",
    "\n",
    "    # Make importance relative to max_importance\n",
    "\n",
    "    feature_importance = 100.0 * (feature_importance / feature_importance.max())\n",
    "\n",
    "    sorted_idx = np.argsort(feature_importance)\n",
    "    pos = np.arange(sorted_idx.shape[0]) + .5\n",
    "\n",
    "    plt.figure(figsize=(8, 18))\n",
    "    plt.barh(pos, feature_importance[sorted_idx], align='center')\n",
    "    plt.yticks(pos, X_train.keys()[sorted_idx])  #!!!!!\n",
    "\n",
    "    plt.xlabel('Relative Importance')\n",
    "    plt.title('Variable Importance')\n",
    "\n",
    "    plt.show()"
   ]
  },
  {
   "cell_type": "code",
   "execution_count": 4,
   "id": "ed116aaa",
   "metadata": {},
   "outputs": [],
   "source": [
    "#---------------------------------------------------------------------------------------------\n",
    "# Target encoding done the right way\n",
    "# https://maxhalford.github.io/blog/target-encoding/\n",
    "#---------------------------------------------------------------------------------------------\n",
    "\n",
    "def calc_smooth_mean(df, by, on, m):\n",
    "    # Compute the global mean\n",
    "    mean = df[on].mean()\n",
    "\n",
    "    # Compute the number of values and the mean of each group\n",
    "    agg = df.groupby(by)[on].agg(['count', 'mean'])\n",
    "    counts = agg['count']\n",
    "    means = agg['mean']\n",
    "\n",
    "    # Compute the \"smoothed\" means\n",
    "    smooth = (counts * means + m * mean) / (counts + m)\n",
    "\n",
    "    # Replace each value by the according smoothed mean\n",
    "    return df[by].map(smooth)\n",
    "\n",
    "def calc_smooth_mean_for_column(df, by, on, m):\n",
    "    # Compute the global mean\n",
    "    mean = df[on].mean()\n",
    "\n",
    "    # Compute the number of values and the mean of each group\n",
    "    agg = df.groupby(by)[on].agg(['count', 'mean'])\n",
    "    counts = agg['count']\n",
    "    means = agg['mean']\n",
    "\n",
    "    # Compute the \"smoothed\" means\n",
    "    return (counts * means + m * mean) / (counts + m)\n"
   ]
  },
  {
   "cell_type": "code",
   "execution_count": 3,
   "id": "0312a9ac",
   "metadata": {},
   "outputs": [],
   "source": [
    "train_df = pd.read_csv('~/TestProj/ML/Spaceship_Titanic/Data/train.csv')\n",
    "test_df  = pd.read_csv('~/TestProj/ML/Spaceship_Titanic/Data/test.csv')\n",
    "\n",
    "transported = train_df['Transported']\n",
    "transported = transported.apply(lambda r: 1 if r else 0)\n",
    "\n",
    "train_df['Transported'] = train_df['Transported'].apply(lambda r: 1 if r else 0)\n",
    "\n",
    "all_dataframes = [train_df, test_df]\n",
    "\n",
    "for df in all_dataframes:\n",
    "    df['CryoSleep']   = df['CryoSleep'].apply(lambda r: 1 if r else 0)\n",
    "    df['VIP']         = df['VIP'].apply(lambda r: 1 if r else 0)\n",
    "    \n",
    "    \n",
    "\n",
    "submission_df = pd.DataFrame(test_df.loc[:, 'PassengerId'])\n",
    "\n",
    "# train_df.drop(['Transported'], axis = 1, inplace=True)"
   ]
  },
  {
   "cell_type": "code",
   "execution_count": 4,
   "id": "94c17336",
   "metadata": {},
   "outputs": [],
   "source": [
    "for df in all_dataframes:\n",
    "    \n",
    "#   PassengerId - Уникальный идентификатор для каждого пассажира. \n",
    "#     Каждый идентификатор принимает форму gggg_pp, где gggg указывает группу, \n",
    "#     с которой путешествует пассажир, а pp — его номер в группе\n",
    "    \n",
    "    df['PassengerGroup'] = df['PassengerId'].apply(lambda r: r[:4])\n",
    "    df['NumberInGroup']  = df['PassengerId'].apply(lambda r: r[-2:])\n",
    "    \n",
    "#   Cabin - Номер каюты, в которой находится пассажир. \n",
    "#     Принимает форму палуба/число/сторона, где сторона может быть либо P для левого борта, \n",
    "#     либо S для правого борта.  \n",
    "    \n",
    "    df['CabinDesk'] = df['Cabin'].apply(lambda r: r.split('/')[0] if r == r else np.nan)\n",
    "    df['CabinNum'] = df['Cabin'].apply(lambda r: r.split('/')[1] if r == r else np.nan)\n",
    "    df['CabinSide'] = df['Cabin'].apply(lambda r: r.split('/')[2] if r == r else np.nan)\n",
    "    \n",
    "#   Name - The first and last names of the passenger.\n",
    "    \n",
    "    # df['PassengerName'] = df['Name'].apply(lambda r: r.split()[0] if r == r else np.nan)\n",
    "    # df['PassengerSurName'] = df['Name'].apply(lambda r: r.split()[1] if r == r else np.nan)\n",
    "    \n",
    "#   Размер группы, в которой состоит пассажир\n",
    "\n",
    "    data_per_group = df.groupby('PassengerGroup')\n",
    "    group_size = data_per_group['PassengerId'].count()    \n",
    "    df['GroupSize'] = df['PassengerGroup'].apply(lambda r: group_size[r])\n"
   ]
  },
  {
   "cell_type": "code",
   "execution_count": null,
   "id": "de4d9442",
   "metadata": {},
   "outputs": [],
   "source": []
  },
  {
   "cell_type": "code",
   "execution_count": null,
   "id": "085ebba0",
   "metadata": {},
   "outputs": [],
   "source": [
    "payment_columns = ['RoomService', 'FoodCourt', 'ShoppingMall', 'Spa', 'VRDeck']\n",
    "\n",
    "for df in all_dataframes:\n",
    "\n",
    "    # Вспомогательная колонка: сумма платежей\n",
    "\n",
    "    df['PaymentSumm'] = df.apply(lambda r: r[payment_columns].sum(), axis=1)\n",
    "    df['PaymentSumm'].isna().any()\n",
    "\n",
    "    df.loc[(df['CryoSleep'].isna()) & (df['PaymentSumm'] == 0), 'CryoSleep'] = True\n",
    "    df['CryoSleep'].fillna(False, inplace=True)\n",
    "\n",
    "\n",
    "\n",
    "    # Если payment_columns.isna() - для CryoSleep = True заполняем 0\n",
    "    df.loc[(df['CryoSleep']), payment_columns] = 0\n",
    "\n",
    "    # для CryoSleep = false заполняем 0 (пока...)\n",
    "    for col in payment_columns:        \n",
    "        df[col] = df[col].fillna(0)  \n",
    "    "
   ]
  },
  {
   "cell_type": "code",
   "execution_count": null,
   "id": "b82b7611",
   "metadata": {},
   "outputs": [],
   "source": [
    "#----------------------------------------------------------------------------\n",
    "# In Passenger groups all passengers have the same HomePlanet. I mean...\n",
    "#----------------------------------------------------------------------------\n",
    "\n",
    "consolidated_df = pd.concat([train_df, test_df])\n",
    "\n",
    "home_planet_per_group = consolidated_df.groupby(['PassengerGroup'])['HomePlanet'].unique()\n",
    "\n",
    "\n",
    "def get_home_planet(g):\n",
    "    \n",
    "    for planet in home_planet_per_group[g]:\n",
    "        \n",
    "        if not pd.isna(planet):\n",
    "            break\n",
    "            \n",
    "    return planet\n",
    "\n",
    "for df in all_dataframes:\n",
    "\n",
    "    df['HomePlanet'] = df.apply(lambda r: get_home_planet(r[\"PassengerGroup\"])  \\\n",
    "                                                                 \\\n",
    "                 if (not r['HomePlanet'] == r['HomePlanet']) & (r['GroupSize'] > 1) else r['HomePlanet'], axis=1)"
   ]
  },
  {
   "cell_type": "code",
   "execution_count": null,
   "id": "2902202d",
   "metadata": {},
   "outputs": [],
   "source": [
    "# calc_smooth_mean_for test_df\n",
    "# for col in columns_for_calc_smooth_mean:  \n",
    "    \n",
    "#     smooth_for_col = calc_smooth_mean_for_column(train_df, col, 'Transported', m=10)\n",
    "#     print(smooth_for_col)\n",
    "#     test_df[col] = test_df[col].map(smooth_for_col)\n",
    "    \n",
    "    \n",
    "# smooth_HomePlanet = calc_smooth_mean_for_column(train_df, 'HomePlanet', 'Transported', m=10)\n",
    "# smooth_CabinDesk = calc_smooth_mean_for_column(train_df, 'CabinDesk', 'Transported', m=10)\n",
    "# smooth_CabinSide = calc_smooth_mean_for_column(train_df, 'CabinSide', 'Transported', m=10)\n",
    "# smooth_CryoSleep = calc_smooth_mean_for_column(train_df, 'CryoSleep', 'Transported', m=10)\n",
    "\n",
    "# test_df['HomePlanet'] = test_df['HomePlanet'].map(smooth_HomePlanet)\n",
    "# test_df['CabinDesk'] = test_df['CabinDesk'].map(smooth_CabinDesk)\n",
    "# test_df['CabinSide'] = test_df['CabinSide'].map(smooth_CabinSide)\n",
    "# test_df['CryoSleep'] = test_df['CryoSleep'].map(smooth_CryoSleep)    "
   ]
  },
  {
   "cell_type": "code",
   "execution_count": null,
   "id": "b617d748",
   "metadata": {},
   "outputs": [],
   "source": [
    "# columns_for_calc_smooth_mean = ['HomePlanet', 'CabinDesk', 'CabinSide', 'CryoSleep']\n",
    "\n",
    "# # calc_smooth_mean_for train_df\n",
    "# for col in columns_for_calc_smooth_mean:\n",
    "    \n",
    "#     train_df[col] = calc_smooth_mean(train_df, by=col, on='Transported', m=10)"
   ]
  },
  {
   "cell_type": "code",
   "execution_count": 5,
   "id": "6ee61fdc",
   "metadata": {},
   "outputs": [
    {
     "name": "stdout",
     "output_type": "stream",
     "text": [
      "True\n",
      "<class 'pandas.core.frame.DataFrame'>\n",
      "False\n"
     ]
    }
   ],
   "source": [
    "\n",
    "from sklearn.impute import SimpleImputer\n",
    "\n",
    "print(train_df.isna().any().any())\n",
    "\n",
    "imputer = SimpleImputer(strategy='most_frequent', missing_values=np.nan)\n",
    "\n",
    "imputer = imputer.fit(train_df)\n",
    "train_df.iloc[:,:] = imputer.transform(train_df)\n",
    "\n",
    "imputer = imputer.fit(test_df)\n",
    "test_df.iloc[:,:] = imputer.transform(test_df)\n",
    "\n",
    "print(type(train_df))\n",
    "print(train_df.isna().any().any())"
   ]
  },
  {
   "cell_type": "code",
   "execution_count": 6,
   "id": "31e796a1",
   "metadata": {},
   "outputs": [],
   "source": [
    "dummies_columns = ['HomePlanet', 'Destination',  'CabinDesk', 'CabinSide']\n",
    "\n",
    "train_df = pd.get_dummies(train_df, columns=dummies_columns, dtype=int)\n",
    "test_df = pd.get_dummies(test_df, columns=dummies_columns, dtype=int)"
   ]
  },
  {
   "cell_type": "code",
   "execution_count": null,
   "id": "1822a8bf",
   "metadata": {},
   "outputs": [],
   "source": [
    "train_df.head()"
   ]
  },
  {
   "cell_type": "code",
   "execution_count": 7,
   "id": "961fdd1b",
   "metadata": {},
   "outputs": [],
   "source": [
    "# redundant_columns = ['PassengerId', \n",
    "#                      'PassengerGroup',          \n",
    "#                      'Cabin' \n",
    "#                     ]\n",
    "\n",
    "# for df in all_dataframes:           \n",
    "#     df.drop(redundant_columns, axis=1, inplace=True)\n",
    "    \n",
    "train_df.drop(['PassengerId', 'PassengerGroup', 'Cabin'], axis = 1, inplace=True)\n",
    "test_df.drop(['PassengerId', 'PassengerGroup', 'Cabin'], axis = 1, inplace=True)    "
   ]
  },
  {
   "cell_type": "code",
   "execution_count": 8,
   "id": "53f54e52",
   "metadata": {},
   "outputs": [],
   "source": [
    "train_df.drop(['Transported', 'Name', 'NumberInGroup', 'CabinNum'], axis = 1, inplace=True)\n",
    "test_df.drop(['Name', 'NumberInGroup', 'CabinNum'], axis = 1, inplace=True)"
   ]
  },
  {
   "cell_type": "code",
   "execution_count": null,
   "id": "b91633e8",
   "metadata": {},
   "outputs": [],
   "source": [
    "train_df.drop(['PaymentSumm'], axis = 1, inplace=True)\n",
    "test_df.drop(['PaymentSumm'], axis = 1, inplace=True)"
   ]
  },
  {
   "cell_type": "code",
   "execution_count": 12,
   "id": "b1d1ad1b",
   "metadata": {},
   "outputs": [
    {
     "data": {
      "text/plain": "<Figure size 800x1800 with 1 Axes>",
      "image/svg+xml": "<?xml version=\"1.0\" encoding=\"utf-8\" standalone=\"no\"?>\n<!DOCTYPE svg PUBLIC \"-//W3C//DTD SVG 1.1//EN\"\n  \"http://www.w3.org/Graphics/SVG/1.1/DTD/svg11.dtd\">\n<svg xmlns:xlink=\"http://www.w3.org/1999/xlink\" width=\"591.757812pt\" height=\"1056.2pt\" viewBox=\"0 0 591.757812 1056.2\" xmlns=\"http://www.w3.org/2000/svg\" version=\"1.1\">\n <metadata>\n  <rdf:RDF xmlns:dc=\"http://purl.org/dc/elements/1.1/\" xmlns:cc=\"http://creativecommons.org/ns#\" xmlns:rdf=\"http://www.w3.org/1999/02/22-rdf-syntax-ns#\">\n   <cc:Work>\n    <dc:type rdf:resource=\"http://purl.org/dc/dcmitype/StillImage\"/>\n    <dc:date>2022-11-20T19:01:26.631724</dc:date>\n    <dc:format>image/svg+xml</dc:format>\n    <dc:creator>\n     <cc:Agent>\n      <dc:title>Matplotlib v3.5.3, https://matplotlib.org/</dc:title>\n     </cc:Agent>\n    </dc:creator>\n   </cc:Work>\n  </rdf:RDF>\n </metadata>\n <defs>\n  <style type=\"text/css\">*{stroke-linejoin: round; stroke-linecap: butt}</style>\n </defs>\n <g id=\"figure_1\">\n  <g id=\"patch_1\">\n   <path d=\"M 0 1056.2 \nL 591.757812 1056.2 \nL 591.757812 0 \nL 0 0 \nz\n\" style=\"fill: #ffffff\"/>\n  </g>\n  <g id=\"axes_1\">\n   <g id=\"patch_2\">\n    <path d=\"M 138.157812 1019.709375 \nL 584.557812 1019.709375 \nL 584.557812 21.789375 \nL 138.157812 21.789375 \nz\n\" style=\"fill: #eaeaf2\"/>\n   </g>\n   <g id=\"matplotlib.axis_1\">\n    <g id=\"xtick_1\">\n     <g id=\"line2d_1\">\n      <path d=\"M 138.157812 1019.709375 \nL 138.157812 21.789375 \n\" clip-path=\"url(#p8878ec1c79)\" style=\"fill: none; stroke: #ffffff; stroke-width: 0.8; stroke-linecap: round\"/>\n     </g>\n     <g id=\"text_1\">\n      <!-- 0 -->\n      <g style=\"fill: #262626\" transform=\"translate(135.377344 1033.867188)scale(0.1 -0.1)\">\n       <defs>\n        <path id=\"ArialMT-30\" d=\"M 266 2259 \nQ 266 3072 433 3567 \nQ 600 4063 929 4331 \nQ 1259 4600 1759 4600 \nQ 2128 4600 2406 4451 \nQ 2684 4303 2865 4023 \nQ 3047 3744 3150 3342 \nQ 3253 2941 3253 2259 \nQ 3253 1453 3087 958 \nQ 2922 463 2592 192 \nQ 2263 -78 1759 -78 \nQ 1097 -78 719 397 \nQ 266 969 266 2259 \nz\nM 844 2259 \nQ 844 1131 1108 757 \nQ 1372 384 1759 384 \nQ 2147 384 2411 759 \nQ 2675 1134 2675 2259 \nQ 2675 3391 2411 3762 \nQ 2147 4134 1753 4134 \nQ 1366 4134 1134 3806 \nQ 844 3388 844 2259 \nz\n\" transform=\"scale(0.015625)\"/>\n       </defs>\n       <use xlink:href=\"#ArialMT-30\"/>\n      </g>\n     </g>\n    </g>\n    <g id=\"xtick_2\">\n     <g id=\"line2d_2\">\n      <path d=\"M 223.186384 1019.709375 \nL 223.186384 21.789375 \n\" clip-path=\"url(#p8878ec1c79)\" style=\"fill: none; stroke: #ffffff; stroke-width: 0.8; stroke-linecap: round\"/>\n     </g>\n     <g id=\"text_2\">\n      <!-- 20 -->\n      <g style=\"fill: #262626\" transform=\"translate(217.625446 1033.867188)scale(0.1 -0.1)\">\n       <defs>\n        <path id=\"ArialMT-32\" d=\"M 3222 541 \nL 3222 0 \nL 194 0 \nQ 188 203 259 391 \nQ 375 700 629 1000 \nQ 884 1300 1366 1694 \nQ 2113 2306 2375 2664 \nQ 2638 3022 2638 3341 \nQ 2638 3675 2398 3904 \nQ 2159 4134 1775 4134 \nQ 1369 4134 1125 3890 \nQ 881 3647 878 3216 \nL 300 3275 \nQ 359 3922 746 4261 \nQ 1134 4600 1788 4600 \nQ 2447 4600 2831 4234 \nQ 3216 3869 3216 3328 \nQ 3216 3053 3103 2787 \nQ 2991 2522 2730 2228 \nQ 2469 1934 1863 1422 \nQ 1356 997 1212 845 \nQ 1069 694 975 541 \nL 3222 541 \nz\n\" transform=\"scale(0.015625)\"/>\n       </defs>\n       <use xlink:href=\"#ArialMT-32\"/>\n       <use xlink:href=\"#ArialMT-30\" x=\"55.615234\"/>\n      </g>\n     </g>\n    </g>\n    <g id=\"xtick_3\">\n     <g id=\"line2d_3\">\n      <path d=\"M 308.214955 1019.709375 \nL 308.214955 21.789375 \n\" clip-path=\"url(#p8878ec1c79)\" style=\"fill: none; stroke: #ffffff; stroke-width: 0.8; stroke-linecap: round\"/>\n     </g>\n     <g id=\"text_3\">\n      <!-- 40 -->\n      <g style=\"fill: #262626\" transform=\"translate(302.654018 1033.867188)scale(0.1 -0.1)\">\n       <defs>\n        <path id=\"ArialMT-34\" d=\"M 2069 0 \nL 2069 1097 \nL 81 1097 \nL 81 1613 \nL 2172 4581 \nL 2631 4581 \nL 2631 1613 \nL 3250 1613 \nL 3250 1097 \nL 2631 1097 \nL 2631 0 \nL 2069 0 \nz\nM 2069 1613 \nL 2069 3678 \nL 634 1613 \nL 2069 1613 \nz\n\" transform=\"scale(0.015625)\"/>\n       </defs>\n       <use xlink:href=\"#ArialMT-34\"/>\n       <use xlink:href=\"#ArialMT-30\" x=\"55.615234\"/>\n      </g>\n     </g>\n    </g>\n    <g id=\"xtick_4\">\n     <g id=\"line2d_4\">\n      <path d=\"M 393.243527 1019.709375 \nL 393.243527 21.789375 \n\" clip-path=\"url(#p8878ec1c79)\" style=\"fill: none; stroke: #ffffff; stroke-width: 0.8; stroke-linecap: round\"/>\n     </g>\n     <g id=\"text_4\">\n      <!-- 60 -->\n      <g style=\"fill: #262626\" transform=\"translate(387.682589 1033.867188)scale(0.1 -0.1)\">\n       <defs>\n        <path id=\"ArialMT-36\" d=\"M 3184 3459 \nL 2625 3416 \nQ 2550 3747 2413 3897 \nQ 2184 4138 1850 4138 \nQ 1581 4138 1378 3988 \nQ 1113 3794 959 3422 \nQ 806 3050 800 2363 \nQ 1003 2672 1297 2822 \nQ 1591 2972 1913 2972 \nQ 2475 2972 2870 2558 \nQ 3266 2144 3266 1488 \nQ 3266 1056 3080 686 \nQ 2894 316 2569 119 \nQ 2244 -78 1831 -78 \nQ 1128 -78 684 439 \nQ 241 956 241 2144 \nQ 241 3472 731 4075 \nQ 1159 4600 1884 4600 \nQ 2425 4600 2770 4297 \nQ 3116 3994 3184 3459 \nz\nM 888 1484 \nQ 888 1194 1011 928 \nQ 1134 663 1356 523 \nQ 1578 384 1822 384 \nQ 2178 384 2434 671 \nQ 2691 959 2691 1453 \nQ 2691 1928 2437 2201 \nQ 2184 2475 1800 2475 \nQ 1419 2475 1153 2201 \nQ 888 1928 888 1484 \nz\n\" transform=\"scale(0.015625)\"/>\n       </defs>\n       <use xlink:href=\"#ArialMT-36\"/>\n       <use xlink:href=\"#ArialMT-30\" x=\"55.615234\"/>\n      </g>\n     </g>\n    </g>\n    <g id=\"xtick_5\">\n     <g id=\"line2d_5\">\n      <path d=\"M 478.272098 1019.709375 \nL 478.272098 21.789375 \n\" clip-path=\"url(#p8878ec1c79)\" style=\"fill: none; stroke: #ffffff; stroke-width: 0.8; stroke-linecap: round\"/>\n     </g>\n     <g id=\"text_5\">\n      <!-- 80 -->\n      <g style=\"fill: #262626\" transform=\"translate(472.711161 1033.867188)scale(0.1 -0.1)\">\n       <defs>\n        <path id=\"ArialMT-38\" d=\"M 1131 2484 \nQ 781 2613 612 2850 \nQ 444 3088 444 3419 \nQ 444 3919 803 4259 \nQ 1163 4600 1759 4600 \nQ 2359 4600 2725 4251 \nQ 3091 3903 3091 3403 \nQ 3091 3084 2923 2848 \nQ 2756 2613 2416 2484 \nQ 2838 2347 3058 2040 \nQ 3278 1734 3278 1309 \nQ 3278 722 2862 322 \nQ 2447 -78 1769 -78 \nQ 1091 -78 675 323 \nQ 259 725 259 1325 \nQ 259 1772 486 2073 \nQ 713 2375 1131 2484 \nz\nM 1019 3438 \nQ 1019 3113 1228 2906 \nQ 1438 2700 1772 2700 \nQ 2097 2700 2305 2904 \nQ 2513 3109 2513 3406 \nQ 2513 3716 2298 3927 \nQ 2084 4138 1766 4138 \nQ 1444 4138 1231 3931 \nQ 1019 3725 1019 3438 \nz\nM 838 1322 \nQ 838 1081 952 856 \nQ 1066 631 1291 507 \nQ 1516 384 1775 384 \nQ 2178 384 2440 643 \nQ 2703 903 2703 1303 \nQ 2703 1709 2433 1975 \nQ 2163 2241 1756 2241 \nQ 1359 2241 1098 1978 \nQ 838 1716 838 1322 \nz\n\" transform=\"scale(0.015625)\"/>\n       </defs>\n       <use xlink:href=\"#ArialMT-38\"/>\n       <use xlink:href=\"#ArialMT-30\" x=\"55.615234\"/>\n      </g>\n     </g>\n    </g>\n    <g id=\"xtick_6\">\n     <g id=\"line2d_6\">\n      <path d=\"M 563.30067 1019.709375 \nL 563.30067 21.789375 \n\" clip-path=\"url(#p8878ec1c79)\" style=\"fill: none; stroke: #ffffff; stroke-width: 0.8; stroke-linecap: round\"/>\n     </g>\n     <g id=\"text_6\">\n      <!-- 100 -->\n      <g style=\"fill: #262626\" transform=\"translate(554.959263 1033.867188)scale(0.1 -0.1)\">\n       <defs>\n        <path id=\"ArialMT-31\" d=\"M 2384 0 \nL 1822 0 \nL 1822 3584 \nQ 1619 3391 1289 3197 \nQ 959 3003 697 2906 \nL 697 3450 \nQ 1169 3672 1522 3987 \nQ 1875 4303 2022 4600 \nL 2384 4600 \nL 2384 0 \nz\n\" transform=\"scale(0.015625)\"/>\n       </defs>\n       <use xlink:href=\"#ArialMT-31\"/>\n       <use xlink:href=\"#ArialMT-30\" x=\"55.615234\"/>\n       <use xlink:href=\"#ArialMT-30\" x=\"111.230469\"/>\n      </g>\n     </g>\n    </g>\n    <g id=\"text_7\">\n     <!-- Relative Importance -->\n     <g style=\"fill: #262626\" transform=\"translate(316.895312 1047.0125)scale(0.1 -0.1)\">\n      <defs>\n       <path id=\"ArialMT-52\" d=\"M 503 0 \nL 503 4581 \nL 2534 4581 \nQ 3147 4581 3465 4457 \nQ 3784 4334 3975 4021 \nQ 4166 3709 4166 3331 \nQ 4166 2844 3850 2509 \nQ 3534 2175 2875 2084 \nQ 3116 1969 3241 1856 \nQ 3506 1613 3744 1247 \nL 4541 0 \nL 3778 0 \nL 3172 953 \nQ 2906 1366 2734 1584 \nQ 2563 1803 2427 1890 \nQ 2291 1978 2150 2013 \nQ 2047 2034 1813 2034 \nL 1109 2034 \nL 1109 0 \nL 503 0 \nz\nM 1109 2559 \nL 2413 2559 \nQ 2828 2559 3062 2645 \nQ 3297 2731 3419 2920 \nQ 3541 3109 3541 3331 \nQ 3541 3656 3305 3865 \nQ 3069 4075 2559 4075 \nL 1109 4075 \nL 1109 2559 \nz\n\" transform=\"scale(0.015625)\"/>\n       <path id=\"ArialMT-65\" d=\"M 2694 1069 \nL 3275 997 \nQ 3138 488 2766 206 \nQ 2394 -75 1816 -75 \nQ 1088 -75 661 373 \nQ 234 822 234 1631 \nQ 234 2469 665 2931 \nQ 1097 3394 1784 3394 \nQ 2450 3394 2872 2941 \nQ 3294 2488 3294 1666 \nQ 3294 1616 3291 1516 \nL 816 1516 \nQ 847 969 1125 678 \nQ 1403 388 1819 388 \nQ 2128 388 2347 550 \nQ 2566 713 2694 1069 \nz\nM 847 1978 \nL 2700 1978 \nQ 2663 2397 2488 2606 \nQ 2219 2931 1791 2931 \nQ 1403 2931 1139 2672 \nQ 875 2413 847 1978 \nz\n\" transform=\"scale(0.015625)\"/>\n       <path id=\"ArialMT-6c\" d=\"M 409 0 \nL 409 4581 \nL 972 4581 \nL 972 0 \nL 409 0 \nz\n\" transform=\"scale(0.015625)\"/>\n       <path id=\"ArialMT-61\" d=\"M 2588 409 \nQ 2275 144 1986 34 \nQ 1697 -75 1366 -75 \nQ 819 -75 525 192 \nQ 231 459 231 875 \nQ 231 1119 342 1320 \nQ 453 1522 633 1644 \nQ 813 1766 1038 1828 \nQ 1203 1872 1538 1913 \nQ 2219 1994 2541 2106 \nQ 2544 2222 2544 2253 \nQ 2544 2597 2384 2738 \nQ 2169 2928 1744 2928 \nQ 1347 2928 1158 2789 \nQ 969 2650 878 2297 \nL 328 2372 \nQ 403 2725 575 2942 \nQ 747 3159 1072 3276 \nQ 1397 3394 1825 3394 \nQ 2250 3394 2515 3294 \nQ 2781 3194 2906 3042 \nQ 3031 2891 3081 2659 \nQ 3109 2516 3109 2141 \nL 3109 1391 \nQ 3109 606 3145 398 \nQ 3181 191 3288 0 \nL 2700 0 \nQ 2613 175 2588 409 \nz\nM 2541 1666 \nQ 2234 1541 1622 1453 \nQ 1275 1403 1131 1340 \nQ 988 1278 909 1158 \nQ 831 1038 831 891 \nQ 831 666 1001 516 \nQ 1172 366 1500 366 \nQ 1825 366 2078 508 \nQ 2331 650 2450 897 \nQ 2541 1088 2541 1459 \nL 2541 1666 \nz\n\" transform=\"scale(0.015625)\"/>\n       <path id=\"ArialMT-74\" d=\"M 1650 503 \nL 1731 6 \nQ 1494 -44 1306 -44 \nQ 1000 -44 831 53 \nQ 663 150 594 308 \nQ 525 466 525 972 \nL 525 2881 \nL 113 2881 \nL 113 3319 \nL 525 3319 \nL 525 4141 \nL 1084 4478 \nL 1084 3319 \nL 1650 3319 \nL 1650 2881 \nL 1084 2881 \nL 1084 941 \nQ 1084 700 1114 631 \nQ 1144 563 1211 522 \nQ 1278 481 1403 481 \nQ 1497 481 1650 503 \nz\n\" transform=\"scale(0.015625)\"/>\n       <path id=\"ArialMT-69\" d=\"M 425 3934 \nL 425 4581 \nL 988 4581 \nL 988 3934 \nL 425 3934 \nz\nM 425 0 \nL 425 3319 \nL 988 3319 \nL 988 0 \nL 425 0 \nz\n\" transform=\"scale(0.015625)\"/>\n       <path id=\"ArialMT-76\" d=\"M 1344 0 \nL 81 3319 \nL 675 3319 \nL 1388 1331 \nQ 1503 1009 1600 663 \nQ 1675 925 1809 1294 \nL 2547 3319 \nL 3125 3319 \nL 1869 0 \nL 1344 0 \nz\n\" transform=\"scale(0.015625)\"/>\n       <path id=\"ArialMT-20\" transform=\"scale(0.015625)\"/>\n       <path id=\"ArialMT-49\" d=\"M 597 0 \nL 597 4581 \nL 1203 4581 \nL 1203 0 \nL 597 0 \nz\n\" transform=\"scale(0.015625)\"/>\n       <path id=\"ArialMT-6d\" d=\"M 422 0 \nL 422 3319 \nL 925 3319 \nL 925 2853 \nQ 1081 3097 1340 3245 \nQ 1600 3394 1931 3394 \nQ 2300 3394 2536 3241 \nQ 2772 3088 2869 2813 \nQ 3263 3394 3894 3394 \nQ 4388 3394 4653 3120 \nQ 4919 2847 4919 2278 \nL 4919 0 \nL 4359 0 \nL 4359 2091 \nQ 4359 2428 4304 2576 \nQ 4250 2725 4106 2815 \nQ 3963 2906 3769 2906 \nQ 3419 2906 3187 2673 \nQ 2956 2441 2956 1928 \nL 2956 0 \nL 2394 0 \nL 2394 2156 \nQ 2394 2531 2256 2718 \nQ 2119 2906 1806 2906 \nQ 1569 2906 1367 2781 \nQ 1166 2656 1075 2415 \nQ 984 2175 984 1722 \nL 984 0 \nL 422 0 \nz\n\" transform=\"scale(0.015625)\"/>\n       <path id=\"ArialMT-70\" d=\"M 422 -1272 \nL 422 3319 \nL 934 3319 \nL 934 2888 \nQ 1116 3141 1344 3267 \nQ 1572 3394 1897 3394 \nQ 2322 3394 2647 3175 \nQ 2972 2956 3137 2557 \nQ 3303 2159 3303 1684 \nQ 3303 1175 3120 767 \nQ 2938 359 2589 142 \nQ 2241 -75 1856 -75 \nQ 1575 -75 1351 44 \nQ 1128 163 984 344 \nL 984 -1272 \nL 422 -1272 \nz\nM 931 1641 \nQ 931 1000 1190 694 \nQ 1450 388 1819 388 \nQ 2194 388 2461 705 \nQ 2728 1022 2728 1688 \nQ 2728 2322 2467 2637 \nQ 2206 2953 1844 2953 \nQ 1484 2953 1207 2617 \nQ 931 2281 931 1641 \nz\n\" transform=\"scale(0.015625)\"/>\n       <path id=\"ArialMT-6f\" d=\"M 213 1659 \nQ 213 2581 725 3025 \nQ 1153 3394 1769 3394 \nQ 2453 3394 2887 2945 \nQ 3322 2497 3322 1706 \nQ 3322 1066 3130 698 \nQ 2938 331 2570 128 \nQ 2203 -75 1769 -75 \nQ 1072 -75 642 372 \nQ 213 819 213 1659 \nz\nM 791 1659 \nQ 791 1022 1069 705 \nQ 1347 388 1769 388 \nQ 2188 388 2466 706 \nQ 2744 1025 2744 1678 \nQ 2744 2294 2464 2611 \nQ 2184 2928 1769 2928 \nQ 1347 2928 1069 2612 \nQ 791 2297 791 1659 \nz\n\" transform=\"scale(0.015625)\"/>\n       <path id=\"ArialMT-72\" d=\"M 416 0 \nL 416 3319 \nL 922 3319 \nL 922 2816 \nQ 1116 3169 1280 3281 \nQ 1444 3394 1641 3394 \nQ 1925 3394 2219 3213 \nL 2025 2691 \nQ 1819 2813 1613 2813 \nQ 1428 2813 1281 2702 \nQ 1134 2591 1072 2394 \nQ 978 2094 978 1738 \nL 978 0 \nL 416 0 \nz\n\" transform=\"scale(0.015625)\"/>\n       <path id=\"ArialMT-6e\" d=\"M 422 0 \nL 422 3319 \nL 928 3319 \nL 928 2847 \nQ 1294 3394 1984 3394 \nQ 2284 3394 2536 3286 \nQ 2788 3178 2913 3003 \nQ 3038 2828 3088 2588 \nQ 3119 2431 3119 2041 \nL 3119 0 \nL 2556 0 \nL 2556 2019 \nQ 2556 2363 2490 2533 \nQ 2425 2703 2258 2804 \nQ 2091 2906 1866 2906 \nQ 1506 2906 1245 2678 \nQ 984 2450 984 1813 \nL 984 0 \nL 422 0 \nz\n\" transform=\"scale(0.015625)\"/>\n       <path id=\"ArialMT-63\" d=\"M 2588 1216 \nL 3141 1144 \nQ 3050 572 2676 248 \nQ 2303 -75 1759 -75 \nQ 1078 -75 664 370 \nQ 250 816 250 1647 \nQ 250 2184 428 2587 \nQ 606 2991 970 3192 \nQ 1334 3394 1763 3394 \nQ 2303 3394 2647 3120 \nQ 2991 2847 3088 2344 \nL 2541 2259 \nQ 2463 2594 2264 2762 \nQ 2066 2931 1784 2931 \nQ 1359 2931 1093 2626 \nQ 828 2322 828 1663 \nQ 828 994 1084 691 \nQ 1341 388 1753 388 \nQ 2084 388 2306 591 \nQ 2528 794 2588 1216 \nz\n\" transform=\"scale(0.015625)\"/>\n      </defs>\n      <use xlink:href=\"#ArialMT-52\"/>\n      <use xlink:href=\"#ArialMT-65\" x=\"72.216797\"/>\n      <use xlink:href=\"#ArialMT-6c\" x=\"127.832031\"/>\n      <use xlink:href=\"#ArialMT-61\" x=\"150.048828\"/>\n      <use xlink:href=\"#ArialMT-74\" x=\"205.664062\"/>\n      <use xlink:href=\"#ArialMT-69\" x=\"233.447266\"/>\n      <use xlink:href=\"#ArialMT-76\" x=\"255.664062\"/>\n      <use xlink:href=\"#ArialMT-65\" x=\"305.664062\"/>\n      <use xlink:href=\"#ArialMT-20\" x=\"361.279297\"/>\n      <use xlink:href=\"#ArialMT-49\" x=\"389.0625\"/>\n      <use xlink:href=\"#ArialMT-6d\" x=\"416.845703\"/>\n      <use xlink:href=\"#ArialMT-70\" x=\"500.146484\"/>\n      <use xlink:href=\"#ArialMT-6f\" x=\"555.761719\"/>\n      <use xlink:href=\"#ArialMT-72\" x=\"611.376953\"/>\n      <use xlink:href=\"#ArialMT-74\" x=\"644.677734\"/>\n      <use xlink:href=\"#ArialMT-61\" x=\"672.460938\"/>\n      <use xlink:href=\"#ArialMT-6e\" x=\"728.076172\"/>\n      <use xlink:href=\"#ArialMT-63\" x=\"783.691406\"/>\n      <use xlink:href=\"#ArialMT-65\" x=\"833.691406\"/>\n     </g>\n    </g>\n   </g>\n   <g id=\"matplotlib.axis_2\">\n    <g id=\"ytick_1\">\n     <g id=\"line2d_7\">\n      <path d=\"M 138.157812 959.717117 \nL 584.557812 959.717117 \n\" clip-path=\"url(#p8878ec1c79)\" style=\"fill: none; stroke: #ffffff; stroke-width: 0.8; stroke-linecap: round\"/>\n     </g>\n     <g id=\"text_8\">\n      <!-- CabinDesk_T -->\n      <g style=\"fill: #262626\" transform=\"translate(70.579687 963.356961)scale(0.1 -0.1)\">\n       <defs>\n        <path id=\"ArialMT-43\" d=\"M 3763 1606 \nL 4369 1453 \nQ 4178 706 3683 314 \nQ 3188 -78 2472 -78 \nQ 1731 -78 1267 223 \nQ 803 525 561 1097 \nQ 319 1669 319 2325 \nQ 319 3041 592 3573 \nQ 866 4106 1370 4382 \nQ 1875 4659 2481 4659 \nQ 3169 4659 3637 4309 \nQ 4106 3959 4291 3325 \nL 3694 3184 \nQ 3534 3684 3231 3912 \nQ 2928 4141 2469 4141 \nQ 1941 4141 1586 3887 \nQ 1231 3634 1087 3207 \nQ 944 2781 944 2328 \nQ 944 1744 1114 1308 \nQ 1284 872 1643 656 \nQ 2003 441 2422 441 \nQ 2931 441 3284 734 \nQ 3638 1028 3763 1606 \nz\n\" transform=\"scale(0.015625)\"/>\n        <path id=\"ArialMT-62\" d=\"M 941 0 \nL 419 0 \nL 419 4581 \nL 981 4581 \nL 981 2947 \nQ 1338 3394 1891 3394 \nQ 2197 3394 2470 3270 \nQ 2744 3147 2920 2923 \nQ 3097 2700 3197 2384 \nQ 3297 2069 3297 1709 \nQ 3297 856 2875 390 \nQ 2453 -75 1863 -75 \nQ 1275 -75 941 416 \nL 941 0 \nz\nM 934 1684 \nQ 934 1088 1097 822 \nQ 1363 388 1816 388 \nQ 2184 388 2453 708 \nQ 2722 1028 2722 1663 \nQ 2722 2313 2464 2622 \nQ 2206 2931 1841 2931 \nQ 1472 2931 1203 2611 \nQ 934 2291 934 1684 \nz\n\" transform=\"scale(0.015625)\"/>\n        <path id=\"ArialMT-44\" d=\"M 494 0 \nL 494 4581 \nL 2072 4581 \nQ 2606 4581 2888 4516 \nQ 3281 4425 3559 4188 \nQ 3922 3881 4101 3404 \nQ 4281 2928 4281 2316 \nQ 4281 1794 4159 1391 \nQ 4038 988 3847 723 \nQ 3656 459 3429 307 \nQ 3203 156 2883 78 \nQ 2563 0 2147 0 \nL 494 0 \nz\nM 1100 541 \nL 2078 541 \nQ 2531 541 2789 625 \nQ 3047 709 3200 863 \nQ 3416 1078 3536 1442 \nQ 3656 1806 3656 2325 \nQ 3656 3044 3420 3430 \nQ 3184 3816 2847 3947 \nQ 2603 4041 2063 4041 \nL 1100 4041 \nL 1100 541 \nz\n\" transform=\"scale(0.015625)\"/>\n        <path id=\"ArialMT-73\" d=\"M 197 991 \nL 753 1078 \nQ 800 744 1014 566 \nQ 1228 388 1613 388 \nQ 2000 388 2187 545 \nQ 2375 703 2375 916 \nQ 2375 1106 2209 1216 \nQ 2094 1291 1634 1406 \nQ 1016 1563 777 1677 \nQ 538 1791 414 1992 \nQ 291 2194 291 2438 \nQ 291 2659 392 2848 \nQ 494 3038 669 3163 \nQ 800 3259 1026 3326 \nQ 1253 3394 1513 3394 \nQ 1903 3394 2198 3281 \nQ 2494 3169 2634 2976 \nQ 2775 2784 2828 2463 \nL 2278 2388 \nQ 2241 2644 2061 2787 \nQ 1881 2931 1553 2931 \nQ 1166 2931 1000 2803 \nQ 834 2675 834 2503 \nQ 834 2394 903 2306 \nQ 972 2216 1119 2156 \nQ 1203 2125 1616 2013 \nQ 2213 1853 2448 1751 \nQ 2684 1650 2818 1456 \nQ 2953 1263 2953 975 \nQ 2953 694 2789 445 \nQ 2625 197 2315 61 \nQ 2006 -75 1616 -75 \nQ 969 -75 630 194 \nQ 291 463 197 991 \nz\n\" transform=\"scale(0.015625)\"/>\n        <path id=\"ArialMT-6b\" d=\"M 425 0 \nL 425 4581 \nL 988 4581 \nL 988 1969 \nL 2319 3319 \nL 3047 3319 \nL 1778 2088 \nL 3175 0 \nL 2481 0 \nL 1384 1697 \nL 988 1316 \nL 988 0 \nL 425 0 \nz\n\" transform=\"scale(0.015625)\"/>\n        <path id=\"ArialMT-5f\" d=\"M -97 -1272 \nL -97 -866 \nL 3631 -866 \nL 3631 -1272 \nL -97 -1272 \nz\n\" transform=\"scale(0.015625)\"/>\n        <path id=\"ArialMT-54\" d=\"M 1659 0 \nL 1659 4041 \nL 150 4041 \nL 150 4581 \nL 3781 4581 \nL 3781 4041 \nL 2266 4041 \nL 2266 0 \nL 1659 0 \nz\n\" transform=\"scale(0.015625)\"/>\n       </defs>\n       <use xlink:href=\"#ArialMT-43\"/>\n       <use xlink:href=\"#ArialMT-61\" x=\"72.216797\"/>\n       <use xlink:href=\"#ArialMT-62\" x=\"127.832031\"/>\n       <use xlink:href=\"#ArialMT-69\" x=\"183.447266\"/>\n       <use xlink:href=\"#ArialMT-6e\" x=\"205.664062\"/>\n       <use xlink:href=\"#ArialMT-44\" x=\"261.279297\"/>\n       <use xlink:href=\"#ArialMT-65\" x=\"333.496094\"/>\n       <use xlink:href=\"#ArialMT-73\" x=\"389.111328\"/>\n       <use xlink:href=\"#ArialMT-6b\" x=\"439.111328\"/>\n       <use xlink:href=\"#ArialMT-5f\" x=\"489.111328\"/>\n       <use xlink:href=\"#ArialMT-54\" x=\"544.726562\"/>\n      </g>\n     </g>\n    </g>\n    <g id=\"ytick_2\">\n     <g id=\"line2d_8\">\n      <path d=\"M 138.157812 923.136472 \nL 584.557812 923.136472 \n\" clip-path=\"url(#p8878ec1c79)\" style=\"fill: none; stroke: #ffffff; stroke-width: 0.8; stroke-linecap: round\"/>\n     </g>\n     <g id=\"text_9\">\n      <!-- VIP -->\n      <g style=\"fill: #262626\" transform=\"translate(115.039062 926.715378)scale(0.1 -0.1)\">\n       <defs>\n        <path id=\"ArialMT-56\" d=\"M 1803 0 \nL 28 4581 \nL 684 4581 \nL 1875 1253 \nQ 2019 853 2116 503 \nQ 2222 878 2363 1253 \nL 3600 4581 \nL 4219 4581 \nL 2425 0 \nL 1803 0 \nz\n\" transform=\"scale(0.015625)\"/>\n        <path id=\"ArialMT-50\" d=\"M 494 0 \nL 494 4581 \nL 2222 4581 \nQ 2678 4581 2919 4538 \nQ 3256 4481 3484 4323 \nQ 3713 4166 3852 3881 \nQ 3991 3597 3991 3256 \nQ 3991 2672 3619 2267 \nQ 3247 1863 2275 1863 \nL 1100 1863 \nL 1100 0 \nL 494 0 \nz\nM 1100 2403 \nL 2284 2403 \nQ 2872 2403 3119 2622 \nQ 3366 2841 3366 3238 \nQ 3366 3525 3220 3729 \nQ 3075 3934 2838 4000 \nQ 2684 4041 2272 4041 \nL 1100 4041 \nL 1100 2403 \nz\n\" transform=\"scale(0.015625)\"/>\n       </defs>\n       <use xlink:href=\"#ArialMT-56\"/>\n       <use xlink:href=\"#ArialMT-49\" x=\"66.699219\"/>\n       <use xlink:href=\"#ArialMT-50\" x=\"94.482422\"/>\n      </g>\n     </g>\n    </g>\n    <g id=\"ytick_3\">\n     <g id=\"line2d_9\">\n      <path d=\"M 138.157812 886.555827 \nL 584.557812 886.555827 \n\" clip-path=\"url(#p8878ec1c79)\" style=\"fill: none; stroke: #ffffff; stroke-width: 0.8; stroke-linecap: round\"/>\n     </g>\n     <g id=\"text_10\">\n      <!-- CabinDesk_D -->\n      <g style=\"fill: #262626\" transform=\"translate(69.465625 890.19567)scale(0.1 -0.1)\">\n       <use xlink:href=\"#ArialMT-43\"/>\n       <use xlink:href=\"#ArialMT-61\" x=\"72.216797\"/>\n       <use xlink:href=\"#ArialMT-62\" x=\"127.832031\"/>\n       <use xlink:href=\"#ArialMT-69\" x=\"183.447266\"/>\n       <use xlink:href=\"#ArialMT-6e\" x=\"205.664062\"/>\n       <use xlink:href=\"#ArialMT-44\" x=\"261.279297\"/>\n       <use xlink:href=\"#ArialMT-65\" x=\"333.496094\"/>\n       <use xlink:href=\"#ArialMT-73\" x=\"389.111328\"/>\n       <use xlink:href=\"#ArialMT-6b\" x=\"439.111328\"/>\n       <use xlink:href=\"#ArialMT-5f\" x=\"489.111328\"/>\n       <use xlink:href=\"#ArialMT-44\" x=\"544.726562\"/>\n      </g>\n     </g>\n    </g>\n    <g id=\"ytick_4\">\n     <g id=\"line2d_10\">\n      <path d=\"M 138.157812 849.975181 \nL 584.557812 849.975181 \n\" clip-path=\"url(#p8878ec1c79)\" style=\"fill: none; stroke: #ffffff; stroke-width: 0.8; stroke-linecap: round\"/>\n     </g>\n     <g id=\"text_11\">\n      <!-- CabinDesk_A -->\n      <g style=\"fill: #262626\" transform=\"translate(70.017187 853.615025)scale(0.1 -0.1)\">\n       <defs>\n        <path id=\"ArialMT-41\" d=\"M -9 0 \nL 1750 4581 \nL 2403 4581 \nL 4278 0 \nL 3588 0 \nL 3053 1388 \nL 1138 1388 \nL 634 0 \nL -9 0 \nz\nM 1313 1881 \nL 2866 1881 \nL 2388 3150 \nQ 2169 3728 2063 4100 \nQ 1975 3659 1816 3225 \nL 1313 1881 \nz\n\" transform=\"scale(0.015625)\"/>\n       </defs>\n       <use xlink:href=\"#ArialMT-43\"/>\n       <use xlink:href=\"#ArialMT-61\" x=\"72.216797\"/>\n       <use xlink:href=\"#ArialMT-62\" x=\"127.832031\"/>\n       <use xlink:href=\"#ArialMT-69\" x=\"183.447266\"/>\n       <use xlink:href=\"#ArialMT-6e\" x=\"205.664062\"/>\n       <use xlink:href=\"#ArialMT-44\" x=\"261.279297\"/>\n       <use xlink:href=\"#ArialMT-65\" x=\"333.496094\"/>\n       <use xlink:href=\"#ArialMT-73\" x=\"389.111328\"/>\n       <use xlink:href=\"#ArialMT-6b\" x=\"439.111328\"/>\n       <use xlink:href=\"#ArialMT-5f\" x=\"489.111328\"/>\n       <use xlink:href=\"#ArialMT-41\" x=\"544.726562\"/>\n      </g>\n     </g>\n    </g>\n    <g id=\"ytick_5\">\n     <g id=\"line2d_11\">\n      <path d=\"M 138.157812 813.394536 \nL 584.557812 813.394536 \n\" clip-path=\"url(#p8878ec1c79)\" style=\"fill: none; stroke: #ffffff; stroke-width: 0.8; stroke-linecap: round\"/>\n     </g>\n     <g id=\"text_12\">\n      <!-- CabinDesk_B -->\n      <g style=\"fill: #262626\" transform=\"translate(70.017187 817.03438)scale(0.1 -0.1)\">\n       <defs>\n        <path id=\"ArialMT-42\" d=\"M 469 0 \nL 469 4581 \nL 2188 4581 \nQ 2713 4581 3030 4442 \nQ 3347 4303 3526 4014 \nQ 3706 3725 3706 3409 \nQ 3706 3116 3547 2856 \nQ 3388 2597 3066 2438 \nQ 3481 2316 3704 2022 \nQ 3928 1728 3928 1328 \nQ 3928 1006 3792 729 \nQ 3656 453 3456 303 \nQ 3256 153 2954 76 \nQ 2653 0 2216 0 \nL 469 0 \nz\nM 1075 2656 \nL 2066 2656 \nQ 2469 2656 2644 2709 \nQ 2875 2778 2992 2937 \nQ 3109 3097 3109 3338 \nQ 3109 3566 3000 3739 \nQ 2891 3913 2687 3977 \nQ 2484 4041 1991 4041 \nL 1075 4041 \nL 1075 2656 \nz\nM 1075 541 \nL 2216 541 \nQ 2509 541 2628 563 \nQ 2838 600 2978 687 \nQ 3119 775 3209 942 \nQ 3300 1109 3300 1328 \nQ 3300 1584 3169 1773 \nQ 3038 1963 2805 2039 \nQ 2572 2116 2134 2116 \nL 1075 2116 \nL 1075 541 \nz\n\" transform=\"scale(0.015625)\"/>\n       </defs>\n       <use xlink:href=\"#ArialMT-43\"/>\n       <use xlink:href=\"#ArialMT-61\" x=\"72.216797\"/>\n       <use xlink:href=\"#ArialMT-62\" x=\"127.832031\"/>\n       <use xlink:href=\"#ArialMT-69\" x=\"183.447266\"/>\n       <use xlink:href=\"#ArialMT-6e\" x=\"205.664062\"/>\n       <use xlink:href=\"#ArialMT-44\" x=\"261.279297\"/>\n       <use xlink:href=\"#ArialMT-65\" x=\"333.496094\"/>\n       <use xlink:href=\"#ArialMT-73\" x=\"389.111328\"/>\n       <use xlink:href=\"#ArialMT-6b\" x=\"439.111328\"/>\n       <use xlink:href=\"#ArialMT-5f\" x=\"489.111328\"/>\n       <use xlink:href=\"#ArialMT-42\" x=\"544.726562\"/>\n      </g>\n     </g>\n    </g>\n    <g id=\"ytick_6\">\n     <g id=\"line2d_12\">\n      <path d=\"M 138.157812 776.813891 \nL 584.557812 776.813891 \n\" clip-path=\"url(#p8878ec1c79)\" style=\"fill: none; stroke: #ffffff; stroke-width: 0.8; stroke-linecap: round\"/>\n     </g>\n     <g id=\"text_13\">\n      <!-- Destination_PSO J318.5-22 -->\n      <g style=\"fill: #262626\" transform=\"translate(7.2 780.45686)scale(0.1 -0.1)\">\n       <defs>\n        <path id=\"ArialMT-53\" d=\"M 288 1472 \nL 859 1522 \nQ 900 1178 1048 958 \nQ 1197 738 1509 602 \nQ 1822 466 2213 466 \nQ 2559 466 2825 569 \nQ 3091 672 3220 851 \nQ 3350 1031 3350 1244 \nQ 3350 1459 3225 1620 \nQ 3100 1781 2813 1891 \nQ 2628 1963 1997 2114 \nQ 1366 2266 1113 2400 \nQ 784 2572 623 2826 \nQ 463 3081 463 3397 \nQ 463 3744 659 4045 \nQ 856 4347 1234 4503 \nQ 1613 4659 2075 4659 \nQ 2584 4659 2973 4495 \nQ 3363 4331 3572 4012 \nQ 3781 3694 3797 3291 \nL 3216 3247 \nQ 3169 3681 2898 3903 \nQ 2628 4125 2100 4125 \nQ 1550 4125 1298 3923 \nQ 1047 3722 1047 3438 \nQ 1047 3191 1225 3031 \nQ 1400 2872 2139 2705 \nQ 2878 2538 3153 2413 \nQ 3553 2228 3743 1945 \nQ 3934 1663 3934 1294 \nQ 3934 928 3725 604 \nQ 3516 281 3123 101 \nQ 2731 -78 2241 -78 \nQ 1619 -78 1198 103 \nQ 778 284 539 648 \nQ 300 1013 288 1472 \nz\n\" transform=\"scale(0.015625)\"/>\n        <path id=\"ArialMT-4f\" d=\"M 309 2231 \nQ 309 3372 921 4017 \nQ 1534 4663 2503 4663 \nQ 3138 4663 3647 4359 \nQ 4156 4056 4423 3514 \nQ 4691 2972 4691 2284 \nQ 4691 1588 4409 1038 \nQ 4128 488 3612 205 \nQ 3097 -78 2500 -78 \nQ 1853 -78 1343 234 \nQ 834 547 571 1087 \nQ 309 1628 309 2231 \nz\nM 934 2222 \nQ 934 1394 1379 917 \nQ 1825 441 2497 441 \nQ 3181 441 3623 922 \nQ 4066 1403 4066 2288 \nQ 4066 2847 3877 3264 \nQ 3688 3681 3323 3911 \nQ 2959 4141 2506 4141 \nQ 1863 4141 1398 3698 \nQ 934 3256 934 2222 \nz\n\" transform=\"scale(0.015625)\"/>\n        <path id=\"ArialMT-4a\" d=\"M 184 1300 \nL 731 1375 \nQ 753 850 928 656 \nQ 1103 463 1413 463 \nQ 1641 463 1806 567 \nQ 1972 672 2034 851 \nQ 2097 1031 2097 1425 \nL 2097 4581 \nL 2703 4581 \nL 2703 1459 \nQ 2703 884 2564 568 \nQ 2425 253 2123 87 \nQ 1822 -78 1416 -78 \nQ 813 -78 492 269 \nQ 172 616 184 1300 \nz\n\" transform=\"scale(0.015625)\"/>\n        <path id=\"ArialMT-33\" d=\"M 269 1209 \nL 831 1284 \nQ 928 806 1161 595 \nQ 1394 384 1728 384 \nQ 2125 384 2398 659 \nQ 2672 934 2672 1341 \nQ 2672 1728 2419 1979 \nQ 2166 2231 1775 2231 \nQ 1616 2231 1378 2169 \nL 1441 2663 \nQ 1497 2656 1531 2656 \nQ 1891 2656 2178 2843 \nQ 2466 3031 2466 3422 \nQ 2466 3731 2256 3934 \nQ 2047 4138 1716 4138 \nQ 1388 4138 1169 3931 \nQ 950 3725 888 3313 \nL 325 3413 \nQ 428 3978 793 4289 \nQ 1159 4600 1703 4600 \nQ 2078 4600 2393 4439 \nQ 2709 4278 2876 4000 \nQ 3044 3722 3044 3409 \nQ 3044 3113 2884 2869 \nQ 2725 2625 2413 2481 \nQ 2819 2388 3044 2092 \nQ 3269 1797 3269 1353 \nQ 3269 753 2831 336 \nQ 2394 -81 1725 -81 \nQ 1122 -81 723 278 \nQ 325 638 269 1209 \nz\n\" transform=\"scale(0.015625)\"/>\n        <path id=\"ArialMT-2e\" d=\"M 581 0 \nL 581 641 \nL 1222 641 \nL 1222 0 \nL 581 0 \nz\n\" transform=\"scale(0.015625)\"/>\n        <path id=\"ArialMT-35\" d=\"M 266 1200 \nL 856 1250 \nQ 922 819 1161 601 \nQ 1400 384 1738 384 \nQ 2144 384 2425 690 \nQ 2706 997 2706 1503 \nQ 2706 1984 2436 2262 \nQ 2166 2541 1728 2541 \nQ 1456 2541 1237 2417 \nQ 1019 2294 894 2097 \nL 366 2166 \nL 809 4519 \nL 3088 4519 \nL 3088 3981 \nL 1259 3981 \nL 1013 2750 \nQ 1425 3038 1878 3038 \nQ 2478 3038 2890 2622 \nQ 3303 2206 3303 1553 \nQ 3303 931 2941 478 \nQ 2500 -78 1738 -78 \nQ 1113 -78 717 272 \nQ 322 622 266 1200 \nz\n\" transform=\"scale(0.015625)\"/>\n        <path id=\"ArialMT-2d\" d=\"M 203 1375 \nL 203 1941 \nL 1931 1941 \nL 1931 1375 \nL 203 1375 \nz\n\" transform=\"scale(0.015625)\"/>\n       </defs>\n       <use xlink:href=\"#ArialMT-44\"/>\n       <use xlink:href=\"#ArialMT-65\" x=\"72.216797\"/>\n       <use xlink:href=\"#ArialMT-73\" x=\"127.832031\"/>\n       <use xlink:href=\"#ArialMT-74\" x=\"177.832031\"/>\n       <use xlink:href=\"#ArialMT-69\" x=\"205.615234\"/>\n       <use xlink:href=\"#ArialMT-6e\" x=\"227.832031\"/>\n       <use xlink:href=\"#ArialMT-61\" x=\"283.447266\"/>\n       <use xlink:href=\"#ArialMT-74\" x=\"339.0625\"/>\n       <use xlink:href=\"#ArialMT-69\" x=\"366.845703\"/>\n       <use xlink:href=\"#ArialMT-6f\" x=\"389.0625\"/>\n       <use xlink:href=\"#ArialMT-6e\" x=\"444.677734\"/>\n       <use xlink:href=\"#ArialMT-5f\" x=\"500.292969\"/>\n       <use xlink:href=\"#ArialMT-50\" x=\"555.908203\"/>\n       <use xlink:href=\"#ArialMT-53\" x=\"622.607422\"/>\n       <use xlink:href=\"#ArialMT-4f\" x=\"689.306641\"/>\n       <use xlink:href=\"#ArialMT-20\" x=\"767.089844\"/>\n       <use xlink:href=\"#ArialMT-4a\" x=\"794.873047\"/>\n       <use xlink:href=\"#ArialMT-33\" x=\"844.873047\"/>\n       <use xlink:href=\"#ArialMT-31\" x=\"900.488281\"/>\n       <use xlink:href=\"#ArialMT-38\" x=\"956.103516\"/>\n       <use xlink:href=\"#ArialMT-2e\" x=\"1011.71875\"/>\n       <use xlink:href=\"#ArialMT-35\" x=\"1039.501953\"/>\n       <use xlink:href=\"#ArialMT-2d\" x=\"1095.117188\"/>\n       <use xlink:href=\"#ArialMT-32\" x=\"1128.417969\"/>\n       <use xlink:href=\"#ArialMT-32\" x=\"1184.033203\"/>\n      </g>\n     </g>\n    </g>\n    <g id=\"ytick_7\">\n     <g id=\"line2d_13\">\n      <path d=\"M 138.157812 740.233246 \nL 584.557812 740.233246 \n\" clip-path=\"url(#p8878ec1c79)\" style=\"fill: none; stroke: #ffffff; stroke-width: 0.8; stroke-linecap: round\"/>\n     </g>\n     <g id=\"text_14\">\n      <!-- Destination_TRAPPIST-1e -->\n      <g style=\"fill: #262626\" transform=\"translate(12.771875 743.87309)scale(0.1 -0.1)\">\n       <use xlink:href=\"#ArialMT-44\"/>\n       <use xlink:href=\"#ArialMT-65\" x=\"72.216797\"/>\n       <use xlink:href=\"#ArialMT-73\" x=\"127.832031\"/>\n       <use xlink:href=\"#ArialMT-74\" x=\"177.832031\"/>\n       <use xlink:href=\"#ArialMT-69\" x=\"205.615234\"/>\n       <use xlink:href=\"#ArialMT-6e\" x=\"227.832031\"/>\n       <use xlink:href=\"#ArialMT-61\" x=\"283.447266\"/>\n       <use xlink:href=\"#ArialMT-74\" x=\"339.0625\"/>\n       <use xlink:href=\"#ArialMT-69\" x=\"366.845703\"/>\n       <use xlink:href=\"#ArialMT-6f\" x=\"389.0625\"/>\n       <use xlink:href=\"#ArialMT-6e\" x=\"444.677734\"/>\n       <use xlink:href=\"#ArialMT-5f\" x=\"500.292969\"/>\n       <use xlink:href=\"#ArialMT-54\" x=\"555.908203\"/>\n       <use xlink:href=\"#ArialMT-52\" x=\"616.992188\"/>\n       <use xlink:href=\"#ArialMT-41\" x=\"689.208984\"/>\n       <use xlink:href=\"#ArialMT-50\" x=\"755.908203\"/>\n       <use xlink:href=\"#ArialMT-50\" x=\"822.607422\"/>\n       <use xlink:href=\"#ArialMT-49\" x=\"889.306641\"/>\n       <use xlink:href=\"#ArialMT-53\" x=\"917.089844\"/>\n       <use xlink:href=\"#ArialMT-54\" x=\"983.789062\"/>\n       <use xlink:href=\"#ArialMT-2d\" x=\"1039.373047\"/>\n       <use xlink:href=\"#ArialMT-31\" x=\"1072.673828\"/>\n       <use xlink:href=\"#ArialMT-65\" x=\"1128.289062\"/>\n      </g>\n     </g>\n    </g>\n    <g id=\"ytick_8\">\n     <g id=\"line2d_14\">\n      <path d=\"M 138.157812 703.652601 \nL 584.557812 703.652601 \n\" clip-path=\"url(#p8878ec1c79)\" style=\"fill: none; stroke: #ffffff; stroke-width: 0.8; stroke-linecap: round\"/>\n     </g>\n     <g id=\"text_15\">\n      <!-- CabinDesk_G -->\n      <g style=\"fill: #262626\" transform=\"translate(68.909375 707.292445)scale(0.1 -0.1)\">\n       <defs>\n        <path id=\"ArialMT-47\" d=\"M 2638 1797 \nL 2638 2334 \nL 4578 2338 \nL 4578 638 \nQ 4131 281 3656 101 \nQ 3181 -78 2681 -78 \nQ 2006 -78 1454 211 \nQ 903 500 622 1047 \nQ 341 1594 341 2269 \nQ 341 2938 620 3517 \nQ 900 4097 1425 4378 \nQ 1950 4659 2634 4659 \nQ 3131 4659 3532 4498 \nQ 3934 4338 4162 4050 \nQ 4391 3763 4509 3300 \nL 3963 3150 \nQ 3859 3500 3706 3700 \nQ 3553 3900 3268 4020 \nQ 2984 4141 2638 4141 \nQ 2222 4141 1919 4014 \nQ 1616 3888 1430 3681 \nQ 1244 3475 1141 3228 \nQ 966 2803 966 2306 \nQ 966 1694 1177 1281 \nQ 1388 869 1791 669 \nQ 2194 469 2647 469 \nQ 3041 469 3416 620 \nQ 3791 772 3984 944 \nL 3984 1797 \nL 2638 1797 \nz\n\" transform=\"scale(0.015625)\"/>\n       </defs>\n       <use xlink:href=\"#ArialMT-43\"/>\n       <use xlink:href=\"#ArialMT-61\" x=\"72.216797\"/>\n       <use xlink:href=\"#ArialMT-62\" x=\"127.832031\"/>\n       <use xlink:href=\"#ArialMT-69\" x=\"183.447266\"/>\n       <use xlink:href=\"#ArialMT-6e\" x=\"205.664062\"/>\n       <use xlink:href=\"#ArialMT-44\" x=\"261.279297\"/>\n       <use xlink:href=\"#ArialMT-65\" x=\"333.496094\"/>\n       <use xlink:href=\"#ArialMT-73\" x=\"389.111328\"/>\n       <use xlink:href=\"#ArialMT-6b\" x=\"439.111328\"/>\n       <use xlink:href=\"#ArialMT-5f\" x=\"489.111328\"/>\n       <use xlink:href=\"#ArialMT-47\" x=\"544.726562\"/>\n      </g>\n     </g>\n    </g>\n    <g id=\"ytick_9\">\n     <g id=\"line2d_15\">\n      <path d=\"M 138.157812 667.071956 \nL 584.557812 667.071956 \n\" clip-path=\"url(#p8878ec1c79)\" style=\"fill: none; stroke: #ffffff; stroke-width: 0.8; stroke-linecap: round\"/>\n     </g>\n     <g id=\"text_16\">\n      <!-- GroupSize -->\n      <g style=\"fill: #262626\" transform=\"translate(83.914062 670.711799)scale(0.1 -0.1)\">\n       <defs>\n        <path id=\"ArialMT-75\" d=\"M 2597 0 \nL 2597 488 \nQ 2209 -75 1544 -75 \nQ 1250 -75 995 37 \nQ 741 150 617 320 \nQ 494 491 444 738 \nQ 409 903 409 1263 \nL 409 3319 \nL 972 3319 \nL 972 1478 \nQ 972 1038 1006 884 \nQ 1059 663 1231 536 \nQ 1403 409 1656 409 \nQ 1909 409 2131 539 \nQ 2353 669 2445 892 \nQ 2538 1116 2538 1541 \nL 2538 3319 \nL 3100 3319 \nL 3100 0 \nL 2597 0 \nz\n\" transform=\"scale(0.015625)\"/>\n        <path id=\"ArialMT-7a\" d=\"M 125 0 \nL 125 456 \nL 2238 2881 \nQ 1878 2863 1603 2863 \nL 250 2863 \nL 250 3319 \nL 2963 3319 \nL 2963 2947 \nL 1166 841 \nL 819 456 \nQ 1197 484 1528 484 \nL 3063 484 \nL 3063 0 \nL 125 0 \nz\n\" transform=\"scale(0.015625)\"/>\n       </defs>\n       <use xlink:href=\"#ArialMT-47\"/>\n       <use xlink:href=\"#ArialMT-72\" x=\"77.783203\"/>\n       <use xlink:href=\"#ArialMT-6f\" x=\"111.083984\"/>\n       <use xlink:href=\"#ArialMT-75\" x=\"166.699219\"/>\n       <use xlink:href=\"#ArialMT-70\" x=\"222.314453\"/>\n       <use xlink:href=\"#ArialMT-53\" x=\"277.929688\"/>\n       <use xlink:href=\"#ArialMT-69\" x=\"344.628906\"/>\n       <use xlink:href=\"#ArialMT-7a\" x=\"366.845703\"/>\n       <use xlink:href=\"#ArialMT-65\" x=\"416.845703\"/>\n      </g>\n     </g>\n    </g>\n    <g id=\"ytick_10\">\n     <g id=\"line2d_16\">\n      <path d=\"M 138.157812 630.49131 \nL 584.557812 630.49131 \n\" clip-path=\"url(#p8878ec1c79)\" style=\"fill: none; stroke: #ffffff; stroke-width: 0.8; stroke-linecap: round\"/>\n     </g>\n     <g id=\"text_17\">\n      <!-- CabinDesk_F -->\n      <g style=\"fill: #262626\" transform=\"translate(70.579687 634.131154)scale(0.1 -0.1)\">\n       <defs>\n        <path id=\"ArialMT-46\" d=\"M 525 0 \nL 525 4581 \nL 3616 4581 \nL 3616 4041 \nL 1131 4041 \nL 1131 2622 \nL 3281 2622 \nL 3281 2081 \nL 1131 2081 \nL 1131 0 \nL 525 0 \nz\n\" transform=\"scale(0.015625)\"/>\n       </defs>\n       <use xlink:href=\"#ArialMT-43\"/>\n       <use xlink:href=\"#ArialMT-61\" x=\"72.216797\"/>\n       <use xlink:href=\"#ArialMT-62\" x=\"127.832031\"/>\n       <use xlink:href=\"#ArialMT-69\" x=\"183.447266\"/>\n       <use xlink:href=\"#ArialMT-6e\" x=\"205.664062\"/>\n       <use xlink:href=\"#ArialMT-44\" x=\"261.279297\"/>\n       <use xlink:href=\"#ArialMT-65\" x=\"333.496094\"/>\n       <use xlink:href=\"#ArialMT-73\" x=\"389.111328\"/>\n       <use xlink:href=\"#ArialMT-6b\" x=\"439.111328\"/>\n       <use xlink:href=\"#ArialMT-5f\" x=\"489.111328\"/>\n       <use xlink:href=\"#ArialMT-46\" x=\"544.726562\"/>\n      </g>\n     </g>\n    </g>\n    <g id=\"ytick_11\">\n     <g id=\"line2d_17\">\n      <path d=\"M 138.157812 593.910665 \nL 584.557812 593.910665 \n\" clip-path=\"url(#p8878ec1c79)\" style=\"fill: none; stroke: #ffffff; stroke-width: 0.8; stroke-linecap: round\"/>\n     </g>\n     <g id=\"text_18\">\n      <!-- Destination_55 Cancri e -->\n      <g style=\"fill: #262626\" transform=\"translate(24.435937 597.550509)scale(0.1 -0.1)\">\n       <use xlink:href=\"#ArialMT-44\"/>\n       <use xlink:href=\"#ArialMT-65\" x=\"72.216797\"/>\n       <use xlink:href=\"#ArialMT-73\" x=\"127.832031\"/>\n       <use xlink:href=\"#ArialMT-74\" x=\"177.832031\"/>\n       <use xlink:href=\"#ArialMT-69\" x=\"205.615234\"/>\n       <use xlink:href=\"#ArialMT-6e\" x=\"227.832031\"/>\n       <use xlink:href=\"#ArialMT-61\" x=\"283.447266\"/>\n       <use xlink:href=\"#ArialMT-74\" x=\"339.0625\"/>\n       <use xlink:href=\"#ArialMT-69\" x=\"366.845703\"/>\n       <use xlink:href=\"#ArialMT-6f\" x=\"389.0625\"/>\n       <use xlink:href=\"#ArialMT-6e\" x=\"444.677734\"/>\n       <use xlink:href=\"#ArialMT-5f\" x=\"500.292969\"/>\n       <use xlink:href=\"#ArialMT-35\" x=\"555.908203\"/>\n       <use xlink:href=\"#ArialMT-35\" x=\"611.523438\"/>\n       <use xlink:href=\"#ArialMT-20\" x=\"667.138672\"/>\n       <use xlink:href=\"#ArialMT-43\" x=\"694.921875\"/>\n       <use xlink:href=\"#ArialMT-61\" x=\"767.138672\"/>\n       <use xlink:href=\"#ArialMT-6e\" x=\"822.753906\"/>\n       <use xlink:href=\"#ArialMT-63\" x=\"878.369141\"/>\n       <use xlink:href=\"#ArialMT-72\" x=\"928.369141\"/>\n       <use xlink:href=\"#ArialMT-69\" x=\"961.669922\"/>\n       <use xlink:href=\"#ArialMT-20\" x=\"983.886719\"/>\n       <use xlink:href=\"#ArialMT-65\" x=\"1011.669922\"/>\n      </g>\n     </g>\n    </g>\n    <g id=\"ytick_12\">\n     <g id=\"line2d_18\">\n      <path d=\"M 138.157812 557.33002 \nL 584.557812 557.33002 \n\" clip-path=\"url(#p8878ec1c79)\" style=\"fill: none; stroke: #ffffff; stroke-width: 0.8; stroke-linecap: round\"/>\n     </g>\n     <g id=\"text_19\">\n      <!-- HomePlanet_Mars -->\n      <g style=\"fill: #262626\" transform=\"translate(48.35 560.908926)scale(0.1 -0.1)\">\n       <defs>\n        <path id=\"ArialMT-48\" d=\"M 513 0 \nL 513 4581 \nL 1119 4581 \nL 1119 2700 \nL 3500 2700 \nL 3500 4581 \nL 4106 4581 \nL 4106 0 \nL 3500 0 \nL 3500 2159 \nL 1119 2159 \nL 1119 0 \nL 513 0 \nz\n\" transform=\"scale(0.015625)\"/>\n        <path id=\"ArialMT-4d\" d=\"M 475 0 \nL 475 4581 \nL 1388 4581 \nL 2472 1338 \nQ 2622 884 2691 659 \nQ 2769 909 2934 1394 \nL 4031 4581 \nL 4847 4581 \nL 4847 0 \nL 4263 0 \nL 4263 3834 \nL 2931 0 \nL 2384 0 \nL 1059 3900 \nL 1059 0 \nL 475 0 \nz\n\" transform=\"scale(0.015625)\"/>\n       </defs>\n       <use xlink:href=\"#ArialMT-48\"/>\n       <use xlink:href=\"#ArialMT-6f\" x=\"72.216797\"/>\n       <use xlink:href=\"#ArialMT-6d\" x=\"127.832031\"/>\n       <use xlink:href=\"#ArialMT-65\" x=\"211.132812\"/>\n       <use xlink:href=\"#ArialMT-50\" x=\"266.748047\"/>\n       <use xlink:href=\"#ArialMT-6c\" x=\"333.447266\"/>\n       <use xlink:href=\"#ArialMT-61\" x=\"355.664062\"/>\n       <use xlink:href=\"#ArialMT-6e\" x=\"411.279297\"/>\n       <use xlink:href=\"#ArialMT-65\" x=\"466.894531\"/>\n       <use xlink:href=\"#ArialMT-74\" x=\"522.509766\"/>\n       <use xlink:href=\"#ArialMT-5f\" x=\"550.292969\"/>\n       <use xlink:href=\"#ArialMT-4d\" x=\"605.908203\"/>\n       <use xlink:href=\"#ArialMT-61\" x=\"689.208984\"/>\n       <use xlink:href=\"#ArialMT-72\" x=\"744.824219\"/>\n       <use xlink:href=\"#ArialMT-73\" x=\"778.125\"/>\n      </g>\n     </g>\n    </g>\n    <g id=\"ytick_13\">\n     <g id=\"line2d_19\">\n      <path d=\"M 138.157812 520.749375 \nL 584.557812 520.749375 \n\" clip-path=\"url(#p8878ec1c79)\" style=\"fill: none; stroke: #ffffff; stroke-width: 0.8; stroke-linecap: round\"/>\n     </g>\n     <g id=\"text_20\">\n      <!-- CabinDesk_C -->\n      <g style=\"fill: #262626\" transform=\"translate(69.465625 524.389219)scale(0.1 -0.1)\">\n       <use xlink:href=\"#ArialMT-43\"/>\n       <use xlink:href=\"#ArialMT-61\" x=\"72.216797\"/>\n       <use xlink:href=\"#ArialMT-62\" x=\"127.832031\"/>\n       <use xlink:href=\"#ArialMT-69\" x=\"183.447266\"/>\n       <use xlink:href=\"#ArialMT-6e\" x=\"205.664062\"/>\n       <use xlink:href=\"#ArialMT-44\" x=\"261.279297\"/>\n       <use xlink:href=\"#ArialMT-65\" x=\"333.496094\"/>\n       <use xlink:href=\"#ArialMT-73\" x=\"389.111328\"/>\n       <use xlink:href=\"#ArialMT-6b\" x=\"439.111328\"/>\n       <use xlink:href=\"#ArialMT-5f\" x=\"489.111328\"/>\n       <use xlink:href=\"#ArialMT-43\" x=\"544.726562\"/>\n      </g>\n     </g>\n    </g>\n    <g id=\"ytick_14\">\n     <g id=\"line2d_20\">\n      <path d=\"M 138.157812 484.16873 \nL 584.557812 484.16873 \n\" clip-path=\"url(#p8878ec1c79)\" style=\"fill: none; stroke: #ffffff; stroke-width: 0.8; stroke-linecap: round\"/>\n     </g>\n     <g id=\"text_21\">\n      <!-- CabinSide_P -->\n      <g style=\"fill: #262626\" transform=\"translate(72.785937 487.808574)scale(0.1 -0.1)\">\n       <defs>\n        <path id=\"ArialMT-64\" d=\"M 2575 0 \nL 2575 419 \nQ 2259 -75 1647 -75 \nQ 1250 -75 917 144 \nQ 584 363 401 755 \nQ 219 1147 219 1656 \nQ 219 2153 384 2558 \nQ 550 2963 881 3178 \nQ 1213 3394 1622 3394 \nQ 1922 3394 2156 3267 \nQ 2391 3141 2538 2938 \nL 2538 4581 \nL 3097 4581 \nL 3097 0 \nL 2575 0 \nz\nM 797 1656 \nQ 797 1019 1065 703 \nQ 1334 388 1700 388 \nQ 2069 388 2326 689 \nQ 2584 991 2584 1609 \nQ 2584 2291 2321 2609 \nQ 2059 2928 1675 2928 \nQ 1300 2928 1048 2622 \nQ 797 2316 797 1656 \nz\n\" transform=\"scale(0.015625)\"/>\n       </defs>\n       <use xlink:href=\"#ArialMT-43\"/>\n       <use xlink:href=\"#ArialMT-61\" x=\"72.216797\"/>\n       <use xlink:href=\"#ArialMT-62\" x=\"127.832031\"/>\n       <use xlink:href=\"#ArialMT-69\" x=\"183.447266\"/>\n       <use xlink:href=\"#ArialMT-6e\" x=\"205.664062\"/>\n       <use xlink:href=\"#ArialMT-53\" x=\"261.279297\"/>\n       <use xlink:href=\"#ArialMT-69\" x=\"327.978516\"/>\n       <use xlink:href=\"#ArialMT-64\" x=\"350.195312\"/>\n       <use xlink:href=\"#ArialMT-65\" x=\"405.810547\"/>\n       <use xlink:href=\"#ArialMT-5f\" x=\"461.425781\"/>\n       <use xlink:href=\"#ArialMT-50\" x=\"517.041016\"/>\n      </g>\n     </g>\n    </g>\n    <g id=\"ytick_15\">\n     <g id=\"line2d_21\">\n      <path d=\"M 138.157812 447.588085 \nL 584.557812 447.588085 \n\" clip-path=\"url(#p8878ec1c79)\" style=\"fill: none; stroke: #ffffff; stroke-width: 0.8; stroke-linecap: round\"/>\n     </g>\n     <g id=\"text_22\">\n      <!-- CabinSide_S -->\n      <g style=\"fill: #262626\" transform=\"translate(72.785937 451.227928)scale(0.1 -0.1)\">\n       <use xlink:href=\"#ArialMT-43\"/>\n       <use xlink:href=\"#ArialMT-61\" x=\"72.216797\"/>\n       <use xlink:href=\"#ArialMT-62\" x=\"127.832031\"/>\n       <use xlink:href=\"#ArialMT-69\" x=\"183.447266\"/>\n       <use xlink:href=\"#ArialMT-6e\" x=\"205.664062\"/>\n       <use xlink:href=\"#ArialMT-53\" x=\"261.279297\"/>\n       <use xlink:href=\"#ArialMT-69\" x=\"327.978516\"/>\n       <use xlink:href=\"#ArialMT-64\" x=\"350.195312\"/>\n       <use xlink:href=\"#ArialMT-65\" x=\"405.810547\"/>\n       <use xlink:href=\"#ArialMT-5f\" x=\"461.425781\"/>\n       <use xlink:href=\"#ArialMT-53\" x=\"517.041016\"/>\n      </g>\n     </g>\n    </g>\n    <g id=\"ytick_16\">\n     <g id=\"line2d_22\">\n      <path d=\"M 138.157812 411.00744 \nL 584.557812 411.00744 \n\" clip-path=\"url(#p8878ec1c79)\" style=\"fill: none; stroke: #ffffff; stroke-width: 0.8; stroke-linecap: round\"/>\n     </g>\n     <g id=\"text_23\">\n      <!-- CabinDesk_E -->\n      <g style=\"fill: #262626\" transform=\"translate(70.017187 414.647283)scale(0.1 -0.1)\">\n       <defs>\n        <path id=\"ArialMT-45\" d=\"M 506 0 \nL 506 4581 \nL 3819 4581 \nL 3819 4041 \nL 1113 4041 \nL 1113 2638 \nL 3647 2638 \nL 3647 2100 \nL 1113 2100 \nL 1113 541 \nL 3925 541 \nL 3925 0 \nL 506 0 \nz\n\" transform=\"scale(0.015625)\"/>\n       </defs>\n       <use xlink:href=\"#ArialMT-43\"/>\n       <use xlink:href=\"#ArialMT-61\" x=\"72.216797\"/>\n       <use xlink:href=\"#ArialMT-62\" x=\"127.832031\"/>\n       <use xlink:href=\"#ArialMT-69\" x=\"183.447266\"/>\n       <use xlink:href=\"#ArialMT-6e\" x=\"205.664062\"/>\n       <use xlink:href=\"#ArialMT-44\" x=\"261.279297\"/>\n       <use xlink:href=\"#ArialMT-65\" x=\"333.496094\"/>\n       <use xlink:href=\"#ArialMT-73\" x=\"389.111328\"/>\n       <use xlink:href=\"#ArialMT-6b\" x=\"439.111328\"/>\n       <use xlink:href=\"#ArialMT-5f\" x=\"489.111328\"/>\n       <use xlink:href=\"#ArialMT-45\" x=\"544.726562\"/>\n      </g>\n     </g>\n    </g>\n    <g id=\"ytick_17\">\n     <g id=\"line2d_23\">\n      <path d=\"M 138.157812 374.426794 \nL 584.557812 374.426794 \n\" clip-path=\"url(#p8878ec1c79)\" style=\"fill: none; stroke: #ffffff; stroke-width: 0.8; stroke-linecap: round\"/>\n     </g>\n     <g id=\"text_24\">\n      <!-- HomePlanet_Europa -->\n      <g style=\"fill: #262626\" transform=\"translate(38.326562 378.005701)scale(0.1 -0.1)\">\n       <use xlink:href=\"#ArialMT-48\"/>\n       <use xlink:href=\"#ArialMT-6f\" x=\"72.216797\"/>\n       <use xlink:href=\"#ArialMT-6d\" x=\"127.832031\"/>\n       <use xlink:href=\"#ArialMT-65\" x=\"211.132812\"/>\n       <use xlink:href=\"#ArialMT-50\" x=\"266.748047\"/>\n       <use xlink:href=\"#ArialMT-6c\" x=\"333.447266\"/>\n       <use xlink:href=\"#ArialMT-61\" x=\"355.664062\"/>\n       <use xlink:href=\"#ArialMT-6e\" x=\"411.279297\"/>\n       <use xlink:href=\"#ArialMT-65\" x=\"466.894531\"/>\n       <use xlink:href=\"#ArialMT-74\" x=\"522.509766\"/>\n       <use xlink:href=\"#ArialMT-5f\" x=\"550.292969\"/>\n       <use xlink:href=\"#ArialMT-45\" x=\"605.908203\"/>\n       <use xlink:href=\"#ArialMT-75\" x=\"672.607422\"/>\n       <use xlink:href=\"#ArialMT-72\" x=\"728.222656\"/>\n       <use xlink:href=\"#ArialMT-6f\" x=\"761.523438\"/>\n       <use xlink:href=\"#ArialMT-70\" x=\"817.138672\"/>\n       <use xlink:href=\"#ArialMT-61\" x=\"872.753906\"/>\n      </g>\n     </g>\n    </g>\n    <g id=\"ytick_18\">\n     <g id=\"line2d_24\">\n      <path d=\"M 138.157812 337.846149 \nL 584.557812 337.846149 \n\" clip-path=\"url(#p8878ec1c79)\" style=\"fill: none; stroke: #ffffff; stroke-width: 0.8; stroke-linecap: round\"/>\n     </g>\n     <g id=\"text_25\">\n      <!-- Age -->\n      <g style=\"fill: #262626\" transform=\"translate(113.365625 341.425055)scale(0.1 -0.1)\">\n       <defs>\n        <path id=\"ArialMT-67\" d=\"M 319 -275 \nL 866 -356 \nQ 900 -609 1056 -725 \nQ 1266 -881 1628 -881 \nQ 2019 -881 2231 -725 \nQ 2444 -569 2519 -288 \nQ 2563 -116 2559 434 \nQ 2191 0 1641 0 \nQ 956 0 581 494 \nQ 206 988 206 1678 \nQ 206 2153 378 2554 \nQ 550 2956 876 3175 \nQ 1203 3394 1644 3394 \nQ 2231 3394 2613 2919 \nL 2613 3319 \nL 3131 3319 \nL 3131 450 \nQ 3131 -325 2973 -648 \nQ 2816 -972 2473 -1159 \nQ 2131 -1347 1631 -1347 \nQ 1038 -1347 672 -1080 \nQ 306 -813 319 -275 \nz\nM 784 1719 \nQ 784 1066 1043 766 \nQ 1303 466 1694 466 \nQ 2081 466 2343 764 \nQ 2606 1063 2606 1700 \nQ 2606 2309 2336 2618 \nQ 2066 2928 1684 2928 \nQ 1309 2928 1046 2623 \nQ 784 2319 784 1719 \nz\n\" transform=\"scale(0.015625)\"/>\n       </defs>\n       <use xlink:href=\"#ArialMT-41\"/>\n       <use xlink:href=\"#ArialMT-67\" x=\"66.699219\"/>\n       <use xlink:href=\"#ArialMT-65\" x=\"122.314453\"/>\n      </g>\n     </g>\n    </g>\n    <g id=\"ytick_19\">\n     <g id=\"line2d_25\">\n      <path d=\"M 138.157812 301.265504 \nL 584.557812 301.265504 \n\" clip-path=\"url(#p8878ec1c79)\" style=\"fill: none; stroke: #ffffff; stroke-width: 0.8; stroke-linecap: round\"/>\n     </g>\n     <g id=\"text_26\">\n      <!-- ShoppingMall -->\n      <g style=\"fill: #262626\" transform=\"translate(70.565625 304.905348)scale(0.1 -0.1)\">\n       <defs>\n        <path id=\"ArialMT-68\" d=\"M 422 0 \nL 422 4581 \nL 984 4581 \nL 984 2938 \nQ 1378 3394 1978 3394 \nQ 2347 3394 2619 3248 \nQ 2891 3103 3008 2847 \nQ 3125 2591 3125 2103 \nL 3125 0 \nL 2563 0 \nL 2563 2103 \nQ 2563 2525 2380 2717 \nQ 2197 2909 1863 2909 \nQ 1613 2909 1392 2779 \nQ 1172 2650 1078 2428 \nQ 984 2206 984 1816 \nL 984 0 \nL 422 0 \nz\n\" transform=\"scale(0.015625)\"/>\n       </defs>\n       <use xlink:href=\"#ArialMT-53\"/>\n       <use xlink:href=\"#ArialMT-68\" x=\"66.699219\"/>\n       <use xlink:href=\"#ArialMT-6f\" x=\"122.314453\"/>\n       <use xlink:href=\"#ArialMT-70\" x=\"177.929688\"/>\n       <use xlink:href=\"#ArialMT-70\" x=\"233.544922\"/>\n       <use xlink:href=\"#ArialMT-69\" x=\"289.160156\"/>\n       <use xlink:href=\"#ArialMT-6e\" x=\"311.376953\"/>\n       <use xlink:href=\"#ArialMT-67\" x=\"366.992188\"/>\n       <use xlink:href=\"#ArialMT-4d\" x=\"422.607422\"/>\n       <use xlink:href=\"#ArialMT-61\" x=\"505.908203\"/>\n       <use xlink:href=\"#ArialMT-6c\" x=\"561.523438\"/>\n       <use xlink:href=\"#ArialMT-6c\" x=\"583.740234\"/>\n      </g>\n     </g>\n    </g>\n    <g id=\"ytick_20\">\n     <g id=\"line2d_26\">\n      <path d=\"M 138.157812 264.684859 \nL 584.557812 264.684859 \n\" clip-path=\"url(#p8878ec1c79)\" style=\"fill: none; stroke: #ffffff; stroke-width: 0.8; stroke-linecap: round\"/>\n     </g>\n     <g id=\"text_27\">\n      <!-- HomePlanet_Earth -->\n      <g style=\"fill: #262626\" transform=\"translate(46.670312 268.263765)scale(0.1 -0.1)\">\n       <use xlink:href=\"#ArialMT-48\"/>\n       <use xlink:href=\"#ArialMT-6f\" x=\"72.216797\"/>\n       <use xlink:href=\"#ArialMT-6d\" x=\"127.832031\"/>\n       <use xlink:href=\"#ArialMT-65\" x=\"211.132812\"/>\n       <use xlink:href=\"#ArialMT-50\" x=\"266.748047\"/>\n       <use xlink:href=\"#ArialMT-6c\" x=\"333.447266\"/>\n       <use xlink:href=\"#ArialMT-61\" x=\"355.664062\"/>\n       <use xlink:href=\"#ArialMT-6e\" x=\"411.279297\"/>\n       <use xlink:href=\"#ArialMT-65\" x=\"466.894531\"/>\n       <use xlink:href=\"#ArialMT-74\" x=\"522.509766\"/>\n       <use xlink:href=\"#ArialMT-5f\" x=\"550.292969\"/>\n       <use xlink:href=\"#ArialMT-45\" x=\"605.908203\"/>\n       <use xlink:href=\"#ArialMT-61\" x=\"672.607422\"/>\n       <use xlink:href=\"#ArialMT-72\" x=\"728.222656\"/>\n       <use xlink:href=\"#ArialMT-74\" x=\"761.523438\"/>\n       <use xlink:href=\"#ArialMT-68\" x=\"789.306641\"/>\n      </g>\n     </g>\n    </g>\n    <g id=\"ytick_21\">\n     <g id=\"line2d_27\">\n      <path d=\"M 138.157812 228.104214 \nL 584.557812 228.104214 \n\" clip-path=\"url(#p8878ec1c79)\" style=\"fill: none; stroke: #ffffff; stroke-width: 0.8; stroke-linecap: round\"/>\n     </g>\n     <g id=\"text_28\">\n      <!-- FoodCourt -->\n      <g style=\"fill: #262626\" transform=\"translate(83.915625 231.68312)scale(0.1 -0.1)\">\n       <use xlink:href=\"#ArialMT-46\"/>\n       <use xlink:href=\"#ArialMT-6f\" x=\"61.083984\"/>\n       <use xlink:href=\"#ArialMT-6f\" x=\"116.699219\"/>\n       <use xlink:href=\"#ArialMT-64\" x=\"172.314453\"/>\n       <use xlink:href=\"#ArialMT-43\" x=\"227.929688\"/>\n       <use xlink:href=\"#ArialMT-6f\" x=\"300.146484\"/>\n       <use xlink:href=\"#ArialMT-75\" x=\"355.761719\"/>\n       <use xlink:href=\"#ArialMT-72\" x=\"411.376953\"/>\n       <use xlink:href=\"#ArialMT-74\" x=\"444.677734\"/>\n      </g>\n     </g>\n    </g>\n    <g id=\"ytick_22\">\n     <g id=\"line2d_28\">\n      <path d=\"M 138.157812 191.523569 \nL 584.557812 191.523569 \n\" clip-path=\"url(#p8878ec1c79)\" style=\"fill: none; stroke: #ffffff; stroke-width: 0.8; stroke-linecap: round\"/>\n     </g>\n     <g id=\"text_29\">\n      <!-- RoomService -->\n      <g style=\"fill: #262626\" transform=\"translate(71.140625 195.102475)scale(0.1 -0.1)\">\n       <use xlink:href=\"#ArialMT-52\"/>\n       <use xlink:href=\"#ArialMT-6f\" x=\"72.216797\"/>\n       <use xlink:href=\"#ArialMT-6f\" x=\"127.832031\"/>\n       <use xlink:href=\"#ArialMT-6d\" x=\"183.447266\"/>\n       <use xlink:href=\"#ArialMT-53\" x=\"266.748047\"/>\n       <use xlink:href=\"#ArialMT-65\" x=\"333.447266\"/>\n       <use xlink:href=\"#ArialMT-72\" x=\"389.0625\"/>\n       <use xlink:href=\"#ArialMT-76\" x=\"422.363281\"/>\n       <use xlink:href=\"#ArialMT-69\" x=\"472.363281\"/>\n       <use xlink:href=\"#ArialMT-63\" x=\"494.580078\"/>\n       <use xlink:href=\"#ArialMT-65\" x=\"544.580078\"/>\n      </g>\n     </g>\n    </g>\n    <g id=\"ytick_23\">\n     <g id=\"line2d_29\">\n      <path d=\"M 138.157812 154.942923 \nL 584.557812 154.942923 \n\" clip-path=\"url(#p8878ec1c79)\" style=\"fill: none; stroke: #ffffff; stroke-width: 0.8; stroke-linecap: round\"/>\n     </g>\n     <g id=\"text_30\">\n      <!-- VRDeck -->\n      <g style=\"fill: #262626\" transform=\"translate(94.482812 158.52183)scale(0.1 -0.1)\">\n       <use xlink:href=\"#ArialMT-56\"/>\n       <use xlink:href=\"#ArialMT-52\" x=\"66.699219\"/>\n       <use xlink:href=\"#ArialMT-44\" x=\"138.916016\"/>\n       <use xlink:href=\"#ArialMT-65\" x=\"211.132812\"/>\n       <use xlink:href=\"#ArialMT-63\" x=\"266.748047\"/>\n       <use xlink:href=\"#ArialMT-6b\" x=\"316.748047\"/>\n      </g>\n     </g>\n    </g>\n    <g id=\"ytick_24\">\n     <g id=\"line2d_30\">\n      <path d=\"M 138.157812 118.362278 \nL 584.557812 118.362278 \n\" clip-path=\"url(#p8878ec1c79)\" style=\"fill: none; stroke: #ffffff; stroke-width: 0.8; stroke-linecap: round\"/>\n     </g>\n     <g id=\"text_31\">\n      <!-- Spa -->\n      <g style=\"fill: #262626\" transform=\"translate(113.365625 122.002122)scale(0.1 -0.1)\">\n       <use xlink:href=\"#ArialMT-53\"/>\n       <use xlink:href=\"#ArialMT-70\" x=\"66.699219\"/>\n       <use xlink:href=\"#ArialMT-61\" x=\"122.314453\"/>\n      </g>\n     </g>\n    </g>\n    <g id=\"ytick_25\">\n     <g id=\"line2d_31\">\n      <path d=\"M 138.157812 81.781633 \nL 584.557812 81.781633 \n\" clip-path=\"url(#p8878ec1c79)\" style=\"fill: none; stroke: #ffffff; stroke-width: 0.8; stroke-linecap: round\"/>\n     </g>\n     <g id=\"text_32\">\n      <!-- CryoSleep -->\n      <g style=\"fill: #262626\" transform=\"translate(84.470312 85.421477)scale(0.1 -0.1)\">\n       <defs>\n        <path id=\"ArialMT-79\" d=\"M 397 -1278 \nL 334 -750 \nQ 519 -800 656 -800 \nQ 844 -800 956 -737 \nQ 1069 -675 1141 -563 \nQ 1194 -478 1313 -144 \nQ 1328 -97 1363 -6 \nL 103 3319 \nL 709 3319 \nL 1400 1397 \nQ 1534 1031 1641 628 \nQ 1738 1016 1872 1384 \nL 2581 3319 \nL 3144 3319 \nL 1881 -56 \nQ 1678 -603 1566 -809 \nQ 1416 -1088 1222 -1217 \nQ 1028 -1347 759 -1347 \nQ 597 -1347 397 -1278 \nz\n\" transform=\"scale(0.015625)\"/>\n       </defs>\n       <use xlink:href=\"#ArialMT-43\"/>\n       <use xlink:href=\"#ArialMT-72\" x=\"72.216797\"/>\n       <use xlink:href=\"#ArialMT-79\" x=\"105.517578\"/>\n       <use xlink:href=\"#ArialMT-6f\" x=\"155.517578\"/>\n       <use xlink:href=\"#ArialMT-53\" x=\"211.132812\"/>\n       <use xlink:href=\"#ArialMT-6c\" x=\"277.832031\"/>\n       <use xlink:href=\"#ArialMT-65\" x=\"300.048828\"/>\n       <use xlink:href=\"#ArialMT-65\" x=\"355.664062\"/>\n       <use xlink:href=\"#ArialMT-70\" x=\"411.279297\"/>\n      </g>\n     </g>\n    </g>\n   </g>\n   <g id=\"patch_3\">\n    <path d=\"M 138.157812 974.349375 \nL 138.157812 974.349375 \nL 138.157812 945.084859 \nL 138.157812 945.084859 \nz\n\" clip-path=\"url(#p8878ec1c79)\" style=\"fill: #1f77b4; stroke: #ffffff; stroke-linejoin: miter\"/>\n   </g>\n   <g id=\"patch_4\">\n    <path d=\"M 138.157812 937.76873 \nL 138.263646 937.76873 \nL 138.263646 908.504214 \nL 138.157812 908.504214 \nz\n\" clip-path=\"url(#p8878ec1c79)\" style=\"fill: #1f77b4; stroke: #ffffff; stroke-linejoin: miter\"/>\n   </g>\n   <g id=\"patch_5\">\n    <path d=\"M 138.157812 901.188085 \nL 138.277062 901.188085 \nL 138.277062 871.923569 \nL 138.157812 871.923569 \nz\n\" clip-path=\"url(#p8878ec1c79)\" style=\"fill: #1f77b4; stroke: #ffffff; stroke-linejoin: miter\"/>\n   </g>\n   <g id=\"patch_6\">\n    <path d=\"M 138.157812 864.60744 \nL 138.806813 864.60744 \nL 138.806813 835.342923 \nL 138.157812 835.342923 \nz\n\" clip-path=\"url(#p8878ec1c79)\" style=\"fill: #1f77b4; stroke: #ffffff; stroke-linejoin: miter\"/>\n   </g>\n   <g id=\"patch_7\">\n    <path d=\"M 138.157812 828.026794 \nL 138.939043 828.026794 \nL 138.939043 798.762278 \nL 138.157812 798.762278 \nz\n\" clip-path=\"url(#p8878ec1c79)\" style=\"fill: #1f77b4; stroke: #ffffff; stroke-linejoin: miter\"/>\n   </g>\n   <g id=\"patch_8\">\n    <path d=\"M 138.157812 791.446149 \nL 139.248283 791.446149 \nL 139.248283 762.181633 \nL 138.157812 762.181633 \nz\n\" clip-path=\"url(#p8878ec1c79)\" style=\"fill: #1f77b4; stroke: #ffffff; stroke-linejoin: miter\"/>\n   </g>\n   <g id=\"patch_9\">\n    <path d=\"M 138.157812 754.865504 \nL 140.141168 754.865504 \nL 140.141168 725.600988 \nL 138.157812 725.600988 \nz\n\" clip-path=\"url(#p8878ec1c79)\" style=\"fill: #1f77b4; stroke: #ffffff; stroke-linejoin: miter\"/>\n   </g>\n   <g id=\"patch_10\">\n    <path d=\"M 138.157812 718.284859 \nL 140.258663 718.284859 \nL 140.258663 689.020343 \nL 138.157812 689.020343 \nz\n\" clip-path=\"url(#p8878ec1c79)\" style=\"fill: #1f77b4; stroke: #ffffff; stroke-linejoin: miter\"/>\n   </g>\n   <g id=\"patch_11\">\n    <path d=\"M 138.157812 681.704214 \nL 141.117405 681.704214 \nL 141.117405 652.439698 \nL 138.157812 652.439698 \nz\n\" clip-path=\"url(#p8878ec1c79)\" style=\"fill: #1f77b4; stroke: #ffffff; stroke-linejoin: miter\"/>\n   </g>\n   <g id=\"patch_12\">\n    <path d=\"M 138.157812 645.123569 \nL 141.308841 645.123569 \nL 141.308841 615.859052 \nL 138.157812 615.859052 \nz\n\" clip-path=\"url(#p8878ec1c79)\" style=\"fill: #1f77b4; stroke: #ffffff; stroke-linejoin: miter\"/>\n   </g>\n   <g id=\"patch_13\">\n    <path d=\"M 138.157812 608.542923 \nL 143.313919 608.542923 \nL 143.313919 579.278407 \nL 138.157812 579.278407 \nz\n\" clip-path=\"url(#p8878ec1c79)\" style=\"fill: #1f77b4; stroke: #ffffff; stroke-linejoin: miter\"/>\n   </g>\n   <g id=\"patch_14\">\n    <path d=\"M 138.157812 571.962278 \nL 145.102916 571.962278 \nL 145.102916 542.697762 \nL 138.157812 542.697762 \nz\n\" clip-path=\"url(#p8878ec1c79)\" style=\"fill: #1f77b4; stroke: #ffffff; stroke-linejoin: miter\"/>\n   </g>\n   <g id=\"patch_15\">\n    <path d=\"M 138.157812 535.381633 \nL 146.234947 535.381633 \nL 146.234947 506.117117 \nL 138.157812 506.117117 \nz\n\" clip-path=\"url(#p8878ec1c79)\" style=\"fill: #1f77b4; stroke: #ffffff; stroke-linejoin: miter\"/>\n   </g>\n   <g id=\"patch_16\">\n    <path d=\"M 138.157812 498.800988 \nL 146.752284 498.800988 \nL 146.752284 469.536472 \nL 138.157812 469.536472 \nz\n\" clip-path=\"url(#p8878ec1c79)\" style=\"fill: #1f77b4; stroke: #ffffff; stroke-linejoin: miter\"/>\n   </g>\n   <g id=\"patch_17\">\n    <path d=\"M 138.157812 462.220343 \nL 147.355632 462.220343 \nL 147.355632 432.955827 \nL 138.157812 432.955827 \nz\n\" clip-path=\"url(#p8878ec1c79)\" style=\"fill: #1f77b4; stroke: #ffffff; stroke-linejoin: miter\"/>\n   </g>\n   <g id=\"patch_18\">\n    <path d=\"M 138.157812 425.639698 \nL 158.054449 425.639698 \nL 158.054449 396.375181 \nL 138.157812 396.375181 \nz\n\" clip-path=\"url(#p8878ec1c79)\" style=\"fill: #1f77b4; stroke: #ffffff; stroke-linejoin: miter\"/>\n   </g>\n   <g id=\"patch_19\">\n    <path d=\"M 138.157812 389.059052 \nL 162.470277 389.059052 \nL 162.470277 359.794536 \nL 138.157812 359.794536 \nz\n\" clip-path=\"url(#p8878ec1c79)\" style=\"fill: #1f77b4; stroke: #ffffff; stroke-linejoin: miter\"/>\n   </g>\n   <g id=\"patch_20\">\n    <path d=\"M 138.157812 352.478407 \nL 175.068912 352.478407 \nL 175.068912 323.213891 \nL 138.157812 323.213891 \nz\n\" clip-path=\"url(#p8878ec1c79)\" style=\"fill: #1f77b4; stroke: #ffffff; stroke-linejoin: miter\"/>\n   </g>\n   <g id=\"patch_21\">\n    <path d=\"M 138.157812 315.897762 \nL 176.891123 315.897762 \nL 176.891123 286.633246 \nL 138.157812 286.633246 \nz\n\" clip-path=\"url(#p8878ec1c79)\" style=\"fill: #1f77b4; stroke: #ffffff; stroke-linejoin: miter\"/>\n   </g>\n   <g id=\"patch_22\">\n    <path d=\"M 138.157812 279.317117 \nL 219.678554 279.317117 \nL 219.678554 250.052601 \nL 138.157812 250.052601 \nz\n\" clip-path=\"url(#p8878ec1c79)\" style=\"fill: #1f77b4; stroke: #ffffff; stroke-linejoin: miter\"/>\n   </g>\n   <g id=\"patch_23\">\n    <path d=\"M 138.157812 242.736472 \nL 227.229334 242.736472 \nL 227.229334 213.471956 \nL 138.157812 213.471956 \nz\n\" clip-path=\"url(#p8878ec1c79)\" style=\"fill: #1f77b4; stroke: #ffffff; stroke-linejoin: miter\"/>\n   </g>\n   <g id=\"patch_24\">\n    <path d=\"M 138.157812 206.155827 \nL 258.54933 206.155827 \nL 258.54933 176.89131 \nL 138.157812 176.89131 \nz\n\" clip-path=\"url(#p8878ec1c79)\" style=\"fill: #1f77b4; stroke: #ffffff; stroke-linejoin: miter\"/>\n   </g>\n   <g id=\"patch_25\">\n    <path d=\"M 138.157812 169.575181 \nL 273.341613 169.575181 \nL 273.341613 140.310665 \nL 138.157812 140.310665 \nz\n\" clip-path=\"url(#p8878ec1c79)\" style=\"fill: #1f77b4; stroke: #ffffff; stroke-linejoin: miter\"/>\n   </g>\n   <g id=\"patch_26\">\n    <path d=\"M 138.157812 132.994536 \nL 290.314949 132.994536 \nL 290.314949 103.73002 \nL 138.157812 103.73002 \nz\n\" clip-path=\"url(#p8878ec1c79)\" style=\"fill: #1f77b4; stroke: #ffffff; stroke-linejoin: miter\"/>\n   </g>\n   <g id=\"patch_27\">\n    <path d=\"M 138.157812 96.413891 \nL 563.30067 96.413891 \nL 563.30067 67.149375 \nL 138.157812 67.149375 \nz\n\" clip-path=\"url(#p8878ec1c79)\" style=\"fill: #1f77b4; stroke: #ffffff; stroke-linejoin: miter\"/>\n   </g>\n   <g id=\"patch_28\">\n    <path d=\"M 138.157812 1019.709375 \nL 138.157812 21.789375 \n\" style=\"fill: none; stroke: #ffffff; stroke-width: 0.8; stroke-linejoin: miter; stroke-linecap: square\"/>\n   </g>\n   <g id=\"patch_29\">\n    <path d=\"M 584.557812 1019.709375 \nL 584.557812 21.789375 \n\" style=\"fill: none; stroke: #ffffff; stroke-width: 0.8; stroke-linejoin: miter; stroke-linecap: square\"/>\n   </g>\n   <g id=\"patch_30\">\n    <path d=\"M 138.157812 1019.709375 \nL 584.557812 1019.709375 \n\" style=\"fill: none; stroke: #ffffff; stroke-width: 0.8; stroke-linejoin: miter; stroke-linecap: square\"/>\n   </g>\n   <g id=\"patch_31\">\n    <path d=\"M 138.157812 21.789375 \nL 584.557812 21.789375 \n\" style=\"fill: none; stroke: #ffffff; stroke-width: 0.8; stroke-linejoin: miter; stroke-linecap: square\"/>\n   </g>\n   <g id=\"text_33\">\n    <!-- Variable Importance -->\n    <g style=\"fill: #262626\" transform=\"translate(308.10875 15.789375)scale(0.12 -0.12)\">\n     <use xlink:href=\"#ArialMT-56\"/>\n     <use xlink:href=\"#ArialMT-61\" x=\"59.324219\"/>\n     <use xlink:href=\"#ArialMT-72\" x=\"114.939453\"/>\n     <use xlink:href=\"#ArialMT-69\" x=\"148.240234\"/>\n     <use xlink:href=\"#ArialMT-61\" x=\"170.457031\"/>\n     <use xlink:href=\"#ArialMT-62\" x=\"226.072266\"/>\n     <use xlink:href=\"#ArialMT-6c\" x=\"281.6875\"/>\n     <use xlink:href=\"#ArialMT-65\" x=\"303.904297\"/>\n     <use xlink:href=\"#ArialMT-20\" x=\"359.519531\"/>\n     <use xlink:href=\"#ArialMT-49\" x=\"387.302734\"/>\n     <use xlink:href=\"#ArialMT-6d\" x=\"415.085938\"/>\n     <use xlink:href=\"#ArialMT-70\" x=\"498.386719\"/>\n     <use xlink:href=\"#ArialMT-6f\" x=\"554.001953\"/>\n     <use xlink:href=\"#ArialMT-72\" x=\"609.617188\"/>\n     <use xlink:href=\"#ArialMT-74\" x=\"642.917969\"/>\n     <use xlink:href=\"#ArialMT-61\" x=\"670.701172\"/>\n     <use xlink:href=\"#ArialMT-6e\" x=\"726.316406\"/>\n     <use xlink:href=\"#ArialMT-63\" x=\"781.931641\"/>\n     <use xlink:href=\"#ArialMT-65\" x=\"831.931641\"/>\n    </g>\n   </g>\n  </g>\n </g>\n <defs>\n  <clipPath id=\"p8878ec1c79\">\n   <rect x=\"138.157812\" y=\"21.789375\" width=\"446.4\" height=\"997.92\"/>\n  </clipPath>\n </defs>\n</svg>\n"
     },
     "metadata": {},
     "output_type": "display_data"
    }
   ],
   "source": [
    "plot_feature_importance(GradientBoostingClassifier(), train_df, transported)"
   ]
  },
  {
   "cell_type": "code",
   "execution_count": 17,
   "outputs": [],
   "source": [
    "import model_fitting as mf"
   ],
   "metadata": {
    "collapsed": false
   }
  },
  {
   "cell_type": "code",
   "execution_count": 3,
   "outputs": [
    {
     "data": {
      "text/plain": "['/Users/ssv/Library/Application Support/JetBrains/Toolbox/apps/PyCharm-P/ch-0/222.4459.20/PyCharm.app/Contents/plugins/python/helpers-pro/jupyter_debug',\n '/Users/ssv/Library/Application Support/JetBrains/Toolbox/apps/PyCharm-P/ch-0/222.4459.20/PyCharm.app/Contents/plugins/python/helpers/pydev',\n '/Users/ssv/TestProj/ML/Spaceship_Titanic/Code',\n '/Users/ssv/TestProj/ML/Spaceship_Titanic',\n '/Users/ssv/TestProj/ML/Spaceship_Titanic/Code',\n '/Users/ssv/TestProj/ML/Spaceship_Titanic/envs/lib/python310.zip',\n '/Users/ssv/TestProj/ML/Spaceship_Titanic/envs/lib/python3.10',\n '/Users/ssv/TestProj/ML/Spaceship_Titanic/envs/lib/python3.10/lib-dynload',\n '',\n '/Users/ssv/TestProj/ML/Spaceship_Titanic/envs/lib/python3.10/site-packages',\n '/Users/ssv/TestProj/ML/Spaceship_Titanic/envs/lib/python3.10/site-packages/PyQt5_sip-12.11.0-py3.10-macosx-10.9-x86_64.egg',\n '/Users/ssv/ssv_modules/models_fitting']"
     },
     "execution_count": 3,
     "metadata": {},
     "output_type": "execute_result"
    }
   ],
   "source": [
    "sys.path"
   ],
   "metadata": {
    "collapsed": false
   }
  },
  {
   "cell_type": "markdown",
   "source": [],
   "metadata": {
    "collapsed": false
   }
  },
  {
   "cell_type": "code",
   "execution_count": 9,
   "outputs": [],
   "source": [
    "import sys\n",
    "sys.path.append('/Users/ssv/ssv_modules/models_fitting')"
   ],
   "metadata": {
    "collapsed": false
   }
  },
  {
   "cell_type": "code",
   "execution_count": 10,
   "outputs": [],
   "source": [
    "import scoring"
   ],
   "metadata": {
    "collapsed": false
   }
  },
  {
   "cell_type": "code",
   "execution_count": 10,
   "outputs": [
    {
     "name": "stdout",
     "output_type": "stream",
     "text": [
      "aaaaaaa\n"
     ]
    }
   ],
   "source": [
    "scoring.pr('aaaaaaa')\n"
   ],
   "metadata": {
    "collapsed": false
   }
  },
  {
   "cell_type": "code",
   "execution_count": 15,
   "outputs": [],
   "source": [
    "np.random.seed(0)"
   ],
   "metadata": {
    "collapsed": false
   }
  },
  {
   "cell_type": "code",
   "execution_count": 11,
   "outputs": [
    {
     "name": "stdout",
     "output_type": "stream",
     "text": [
      "          KNeighborsClassifier: mean accuracy =76.65%;standard deviation =0.84%; \n",
      "                           SVC: mean accuracy =78.59%;standard deviation =1.03%; \n",
      "                    GaussianNB: mean accuracy =74.23%;standard deviation =0.77%; \n",
      "        RandomForestClassifier: mean accuracy =78.52%;standard deviation =0.31%; \n",
      "          ExtraTreesClassifier: mean accuracy =77.38%;standard deviation =0.33%; \n",
      "        DecisionTreeClassifier: mean accuracy =73.08%;standard deviation =1.13%; \n",
      "    GradientBoostingClassifier: mean accuracy =80.08%;standard deviation =0.16%; \n",
      "            AdaBoostClassifier: mean accuracy =78.72%;standard deviation =0.90%; \n",
      "HistGradientBoostingClassifier: mean accuracy =80.17%;standard deviation =0.74%; \n",
      "             BaggingClassifier: mean accuracy =77.42%;standard deviation =1.81%; \n"
     ]
    },
    {
     "data": {
      "text/plain": "                       Model_Name  Mean_Accuracy  Standard_Deviation\n0            KNeighborsClassifier       0.766479            0.008418\n1                             SVC       0.785921            0.010268\n2                      GaussianNB       0.742321            0.007736\n3          RandomForestClassifier       0.785230            0.003087\n4            ExtraTreesClassifier       0.773841            0.003319\n5          DecisionTreeClassifier       0.730818            0.011282\n6      GradientBoostingClassifier       0.800759            0.001637\n7              AdaBoostClassifier       0.787185            0.008976\n8  HistGradientBoostingClassifier       0.801681            0.007442\n9               BaggingClassifier       0.774181            0.018075",
      "text/html": "<div>\n<style scoped>\n    .dataframe tbody tr th:only-of-type {\n        vertical-align: middle;\n    }\n\n    .dataframe tbody tr th {\n        vertical-align: top;\n    }\n\n    .dataframe thead th {\n        text-align: right;\n    }\n</style>\n<table border=\"1\" class=\"dataframe\">\n  <thead>\n    <tr style=\"text-align: right;\">\n      <th></th>\n      <th>Model_Name</th>\n      <th>Mean_Accuracy</th>\n      <th>Standard_Deviation</th>\n    </tr>\n  </thead>\n  <tbody>\n    <tr>\n      <th>0</th>\n      <td>KNeighborsClassifier</td>\n      <td>0.766479</td>\n      <td>0.008418</td>\n    </tr>\n    <tr>\n      <th>1</th>\n      <td>SVC</td>\n      <td>0.785921</td>\n      <td>0.010268</td>\n    </tr>\n    <tr>\n      <th>2</th>\n      <td>GaussianNB</td>\n      <td>0.742321</td>\n      <td>0.007736</td>\n    </tr>\n    <tr>\n      <th>3</th>\n      <td>RandomForestClassifier</td>\n      <td>0.785230</td>\n      <td>0.003087</td>\n    </tr>\n    <tr>\n      <th>4</th>\n      <td>ExtraTreesClassifier</td>\n      <td>0.773841</td>\n      <td>0.003319</td>\n    </tr>\n    <tr>\n      <th>5</th>\n      <td>DecisionTreeClassifier</td>\n      <td>0.730818</td>\n      <td>0.011282</td>\n    </tr>\n    <tr>\n      <th>6</th>\n      <td>GradientBoostingClassifier</td>\n      <td>0.800759</td>\n      <td>0.001637</td>\n    </tr>\n    <tr>\n      <th>7</th>\n      <td>AdaBoostClassifier</td>\n      <td>0.787185</td>\n      <td>0.008976</td>\n    </tr>\n    <tr>\n      <th>8</th>\n      <td>HistGradientBoostingClassifier</td>\n      <td>0.801681</td>\n      <td>0.007442</td>\n    </tr>\n    <tr>\n      <th>9</th>\n      <td>BaggingClassifier</td>\n      <td>0.774181</td>\n      <td>0.018075</td>\n    </tr>\n  </tbody>\n</table>\n</div>"
     },
     "execution_count": 11,
     "metadata": {},
     "output_type": "execute_result"
    }
   ],
   "source": [
    "scoring.cross_val(train_df, transported, n_splits=5)"
   ],
   "metadata": {
    "collapsed": false
   }
  },
  {
   "cell_type": "code",
   "execution_count": null,
   "id": "86c0c223",
   "metadata": {},
   "outputs": [],
   "source": [
    "no_important_columns = [\n",
    "                        'CabinDesk_T', \n",
    "                        'CabinDesk_D', \n",
    "                        'VIP',\n",
    "                        'CabinDesk_A',\n",
    "                        'Destination_PSO J318.5-22', \n",
    "                        'CabinDesk_B', \n",
    "                        'Destination_TRAPPIST-1e',\n",
    "                        'CabinDesk_G'\n",
    "                       ]"
   ]
  },
  {
   "cell_type": "code",
   "execution_count": null,
   "id": "542c7160",
   "metadata": {},
   "outputs": [],
   "source": [
    "train_df.drop(no_important_columns, axis = 1, inplace=True)\n",
    "test_df.drop(no_important_columns, axis = 1, inplace=True)"
   ]
  },
  {
   "cell_type": "code",
   "execution_count": null,
   "id": "32714807",
   "metadata": {},
   "outputs": [],
   "source": [
    "plot_feature_importance(GradientBoostingClassifier(), train_df, transported)"
   ]
  },
  {
   "cell_type": "code",
   "execution_count": null,
   "id": "6d0cd0c6",
   "metadata": {},
   "outputs": [],
   "source": []
  },
  {
   "cell_type": "markdown",
   "id": "b67b8e43",
   "metadata": {},
   "source": [
    "## ------------------------------------------------------------------------------------------------------------\n",
    "\n",
    "# MODEL\n"
   ]
  },
  {
   "cell_type": "code",
   "execution_count": 13,
   "id": "9fceb532",
   "metadata": {},
   "outputs": [],
   "source": [
    "from sklearn.ensemble import RandomForestClassifier\n",
    "from sklearn.model_selection import GridSearchCV\n",
    "\n",
    "from sklearn.svm import SVC\n",
    "from sklearn.naive_bayes import GaussianNB\n",
    "from sklearn.neighbors import KNeighborsClassifier\n",
    "\n",
    "from sklearn.model_selection import KFold\n",
    "from sklearn.model_selection import cross_val_score\n",
    "\n",
    "\n",
    "\n",
    "from sklearn.ensemble import GradientBoostingClassifier\n",
    "from sklearn.ensemble import AdaBoostClassifier\n",
    "from sklearn.ensemble import HistGradientBoostingClassifier\n",
    "from sklearn.ensemble import BaggingClassifier\n",
    "from sklearn.ensemble import ExtraTreesClassifier\n",
    "from sklearn.tree import DecisionTreeClassifier\n",
    "\n",
    "\n",
    "from sklearn.preprocessing import StandardScaler\n",
    "from sklearn.pipeline import make_pipeline\n"
   ]
  },
  {
   "cell_type": "raw",
   "id": "a3c174f7",
   "metadata": {},
   "source": []
  },
  {
   "cell_type": "code",
   "execution_count": null,
   "id": "b1d8f428",
   "metadata": {},
   "outputs": [],
   "source": []
  },
  {
   "cell_type": "code",
   "execution_count": null,
   "id": "cf3a32de",
   "metadata": {},
   "outputs": [],
   "source": [
    "model = GradientBoostingClassifier(n_estimators=100, max_features='auto', learning_rate=0.1, \n",
    "                                                              max_depth=4, random_state=0)\n",
    "\n",
    "model.fit(train_df, transported)  \n",
    "prediction = model.predict(test_df)  "
   ]
  },
  {
   "cell_type": "markdown",
   "id": "ee5974ef",
   "metadata": {},
   "source": [
    "## Score: 0.80547"
   ]
  },
  {
   "cell_type": "code",
   "execution_count": null,
   "id": "0ae9e86c",
   "metadata": {},
   "outputs": [],
   "source": [
    "submission_df['Transported'] = prediction\n",
    "submission_df['Transported'] = submission_df['Transported'].apply(lambda r: True if r == 1 else False)\n",
    "\n",
    "submission_df.to_csv('007_GB.csv', index=False)"
   ]
  },
  {
   "cell_type": "code",
   "execution_count": null,
   "id": "73e48e2b",
   "metadata": {},
   "outputs": [],
   "source": []
  },
  {
   "cell_type": "code",
   "execution_count": null,
   "id": "c413331e",
   "metadata": {},
   "outputs": [],
   "source": []
  }
 ],
 "metadata": {
  "kernelspec": {
   "display_name": "Python 3 (ipykernel)",
   "language": "python",
   "name": "python3"
  },
  "language_info": {
   "codemirror_mode": {
    "name": "ipython",
    "version": 3
   },
   "file_extension": ".py",
   "mimetype": "text/x-python",
   "name": "python",
   "nbconvert_exporter": "python",
   "pygments_lexer": "ipython3",
   "version": "3.10.8"
  }
 },
 "nbformat": 4,
 "nbformat_minor": 5
}
